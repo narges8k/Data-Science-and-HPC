{
 "cells": [
  {
   "cell_type": "markdown",
   "metadata": {},
   "source": [
    "### Second Project"
   ]
  },
  {
   "cell_type": "code",
   "execution_count": 12,
   "metadata": {},
   "outputs": [],
   "source": [
    "using Plots, ROCAnalysis, GLM, MLBase, Lathe, Distributions, LaTeXStrings, CSV, DataFrames, StatsBase, Missings, XLSX\n",
    "using IJulia: readprompt"
   ]
  },
  {
   "cell_type": "markdown",
   "metadata": {},
   "source": [
    "#### Q1"
   ]
  },
  {
   "cell_type": "code",
   "execution_count": 15,
   "metadata": {},
   "outputs": [
    {
     "data": {
      "text/html": [
       "<table class=\"data-frame\"><thead><tr><th></th><th>name</th><th>ticket</th><th>market cap</th><th>last price($)</th></tr><tr><th></th><th>Any</th><th>Any</th><th>Any</th><th>Any</th></tr></thead><tbody><p>10 rows × 4 columns</p><tr><th>1</th><td>Bitcoin</td><td>BTC</td><td>750B</td><td>39K</td></tr><tr><th>2</th><td>Ethereum</td><td>ETH</td><td>360B</td><td>3K</td></tr><tr><th>3</th><td>Ripple</td><td>XRP</td><td>50B</td><td>0.7</td></tr><tr><th>4</th><td>Solana</td><td>SOL</td><td>34B</td><td>100</td></tr><tr><th>5</th><td>Terra</td><td>LUNA</td><td>32B</td><td>91</td></tr><tr><th>6</th><td>Cardano</td><td>ADA</td><td>30B</td><td>0.9</td></tr><tr><th>7</th><td>Avalanche</td><td>AVAX</td><td>20B</td><td>73</td></tr><tr><th>8</th><td>Polkadot</td><td>DOT</td><td>19B</td><td>19</td></tr><tr><th>9</th><td>Dogecoin</td><td>DOGE</td><td>18B</td><td>0.13</td></tr><tr><th>10</th><td>Polygon</td><td>MATIC</td><td>10.7B</td><td>1.4</td></tr></tbody></table>"
      ],
      "text/latex": [
       "\\begin{tabular}{r|cccc}\n",
       "\t& name & ticket & market cap & last price(\\$)\\\\\n",
       "\t\\hline\n",
       "\t& Any & Any & Any & Any\\\\\n",
       "\t\\hline\n",
       "\t1 & Bitcoin & BTC & 750B & 39K \\\\\n",
       "\t2 & Ethereum & ETH & 360B & 3K \\\\\n",
       "\t3 & Ripple & XRP & 50B & 0.7 \\\\\n",
       "\t4 & Solana & SOL & 34B & 100 \\\\\n",
       "\t5 & Terra & LUNA & 32B & 91 \\\\\n",
       "\t6 & Cardano & ADA & 30B & 0.9 \\\\\n",
       "\t7 & Avalanche & AVAX & 20B & 73 \\\\\n",
       "\t8 & Polkadot & DOT & 19B & 19 \\\\\n",
       "\t9 & Dogecoin & DOGE & 18B & 0.13 \\\\\n",
       "\t10 & Polygon & MATIC & 10.7B & 1.4 \\\\\n",
       "\\end{tabular}\n"
      ],
      "text/plain": [
       "\u001b[1m10×4 DataFrame\u001b[0m\n",
       "\u001b[1m Row \u001b[0m│\u001b[1m name      \u001b[0m\u001b[1m ticket \u001b[0m\u001b[1m market cap \u001b[0m\u001b[1m last price($) \u001b[0m\n",
       "\u001b[1m     \u001b[0m│\u001b[90m Any       \u001b[0m\u001b[90m Any    \u001b[0m\u001b[90m Any        \u001b[0m\u001b[90m Any           \u001b[0m\n",
       "─────┼──────────────────────────────────────────────\n",
       "   1 │ Bitcoin    BTC     750B        39K\n",
       "   2 │ Ethereum   ETH     360B        3K\n",
       "   3 │ Ripple     XRP     50B         0.7\n",
       "   4 │ Solana     SOL     34B         100\n",
       "   5 │ Terra      LUNA    32B         91\n",
       "   6 │ Cardano    ADA     30B         0.9\n",
       "   7 │ Avalanche  AVAX    20B         73\n",
       "   8 │ Polkadot   DOT     19B         19\n",
       "   9 │ Dogecoin   DOGE    18B         0.13\n",
       "  10 │ Polygon    MATIC   10.7B       1.4"
      ]
     },
     "execution_count": 15,
     "metadata": {},
     "output_type": "execute_result"
    }
   ],
   "source": [
    "df = DataFrame(XLSX.readtable(\"crypto_currency.xlsx\", \"Sheet1\")...)"
   ]
  },
  {
   "cell_type": "code",
   "execution_count": 19,
   "metadata": {},
   "outputs": [
    {
     "data": {
      "text/plain": [
       "4-element Vector{String}:\n",
       " \"name\"\n",
       " \"ticket\"\n",
       " \"market cap\"\n",
       " \"last price(\\$)\""
      ]
     },
     "execution_count": 19,
     "metadata": {},
     "output_type": "execute_result"
    }
   ],
   "source": [
    "names(df)"
   ]
  },
  {
   "cell_type": "code",
   "execution_count": 110,
   "metadata": {},
   "outputs": [
    {
     "data": {
      "text/html": [
       "<table class=\"data-frame\"><thead><tr><th></th><th>name</th><th>ticket</th><th>market cap</th><th>last price($)</th></tr><tr><th></th><th>Any</th><th>Any</th><th>Any</th><th>Any</th></tr></thead><tbody><p>5 rows × 4 columns</p><tr><th>1</th><td>Bitcoin</td><td>BTC</td><td>750B</td><td>39K</td></tr><tr><th>2</th><td>Ethereum</td><td>ETH</td><td>360B</td><td>3K</td></tr><tr><th>3</th><td>Ripple</td><td>XRP</td><td>50B</td><td>0.7</td></tr><tr><th>4</th><td>Solana</td><td>SOL</td><td>34B</td><td>100</td></tr><tr><th>5</th><td>Terra</td><td>LUNA</td><td>32B</td><td>91</td></tr></tbody></table>"
      ],
      "text/latex": [
       "\\begin{tabular}{r|cccc}\n",
       "\t& name & ticket & market cap & last price(\\$)\\\\\n",
       "\t\\hline\n",
       "\t& Any & Any & Any & Any\\\\\n",
       "\t\\hline\n",
       "\t1 & Bitcoin & BTC & 750B & 39K \\\\\n",
       "\t2 & Ethereum & ETH & 360B & 3K \\\\\n",
       "\t3 & Ripple & XRP & 50B & 0.7 \\\\\n",
       "\t4 & Solana & SOL & 34B & 100 \\\\\n",
       "\t5 & Terra & LUNA & 32B & 91 \\\\\n",
       "\\end{tabular}\n"
      ],
      "text/plain": [
       "\u001b[1m5×4 DataFrame\u001b[0m\n",
       "\u001b[1m Row \u001b[0m│\u001b[1m name     \u001b[0m\u001b[1m ticket \u001b[0m\u001b[1m market cap \u001b[0m\u001b[1m last price($) \u001b[0m\n",
       "\u001b[1m     \u001b[0m│\u001b[90m Any      \u001b[0m\u001b[90m Any    \u001b[0m\u001b[90m Any        \u001b[0m\u001b[90m Any           \u001b[0m\n",
       "─────┼─────────────────────────────────────────────\n",
       "   1 │ Bitcoin   BTC     750B        39K\n",
       "   2 │ Ethereum  ETH     360B        3K\n",
       "   3 │ Ripple    XRP     50B         0.7\n",
       "   4 │ Solana    SOL     34B         100\n",
       "   5 │ Terra     LUNA    32B         91"
      ]
     },
     "execution_count": 110,
     "metadata": {},
     "output_type": "execute_result"
    }
   ],
   "source": [
    "selected_rows = findall(x->x ∈ sort(df.\"market cap\", rev=true)[1:5], df.\"market cap\")\n",
    "top_five=df[selected_rows,:]"
   ]
  },
  {
   "cell_type": "code",
   "execution_count": 108,
   "metadata": {},
   "outputs": [
    {
     "data": {
      "text/html": [
       "<table class=\"data-frame\"><thead><tr><th></th><th>name</th><th>ticket</th><th>market cap</th><th>last price($)</th></tr><tr><th></th><th>Any</th><th>Any</th><th>Any</th><th>Any</th></tr></thead><tbody><p>5 rows × 4 columns</p><tr><th>1</th><td>Bitcoin</td><td>BTC</td><td>750B</td><td>-20.9895</td></tr><tr><th>2</th><td>Ethereum</td><td>ETH</td><td>360B</td><td>0.0474742</td></tr><tr><th>3</th><td>Ripple</td><td>XRP</td><td>50B</td><td>0.0471464</td></tr><tr><th>4</th><td>Solana</td><td>SOL</td><td>34B</td><td>0.0473507</td></tr><tr><th>5</th><td>Terra</td><td>LUNA</td><td>32B</td><td>0.0475091</td></tr></tbody></table>"
      ],
      "text/latex": [
       "\\begin{tabular}{r|cccc}\n",
       "\t& name & ticket & market cap & last price(\\$)\\\\\n",
       "\t\\hline\n",
       "\t& Any & Any & Any & Any\\\\\n",
       "\t\\hline\n",
       "\t1 & Bitcoin & BTC & 750B & -20.9895 \\\\\n",
       "\t2 & Ethereum & ETH & 360B & 0.0474742 \\\\\n",
       "\t3 & Ripple & XRP & 50B & 0.0471464 \\\\\n",
       "\t4 & Solana & SOL & 34B & 0.0473507 \\\\\n",
       "\t5 & Terra & LUNA & 32B & 0.0475091 \\\\\n",
       "\\end{tabular}\n"
      ],
      "text/plain": [
       "\u001b[1m5×4 DataFrame\u001b[0m\n",
       "\u001b[1m Row \u001b[0m│\u001b[1m name     \u001b[0m\u001b[1m ticket \u001b[0m\u001b[1m market cap \u001b[0m\u001b[1m last price($) \u001b[0m\n",
       "\u001b[1m     \u001b[0m│\u001b[90m Any      \u001b[0m\u001b[90m Any    \u001b[0m\u001b[90m Any        \u001b[0m\u001b[90m Any           \u001b[0m\n",
       "─────┼─────────────────────────────────────────────\n",
       "   1 │ Bitcoin   BTC     750B        -20.9895\n",
       "   2 │ Ethereum  ETH     360B        0.0474742\n",
       "   3 │ Ripple    XRP     50B         0.0471464\n",
       "   4 │ Solana    SOL     34B         0.0473507\n",
       "   5 │ Terra     LUNA    32B         0.0475091"
      ]
     },
     "execution_count": 108,
     "metadata": {},
     "output_type": "execute_result"
    }
   ],
   "source": [
    "for i in top_five.\"last price(\\$)\"\n",
    "    if typeof(i) == String && contains(i, \"K\") == true\n",
    "        replace!(top_five.\"last price(\\$)\", i=>parse(Int, chop(i))*1000)\n",
    "    end\n",
    "end\n",
    "top_five"
   ]
  },
  {
   "cell_type": "code",
   "execution_count": 101,
   "metadata": {},
   "outputs": [
    {
     "data": {
      "text/plain": [
       "42191.7"
      ]
     },
     "execution_count": 101,
     "metadata": {},
     "output_type": "execute_result"
    }
   ],
   "source": [
    "sum(top_five.\"last price(\\$)\")"
   ]
  },
  {
   "cell_type": "markdown",
   "metadata": {},
   "source": [
    "##### *sclaing data*\n",
    "$$\n",
    "x := \\frac{x - \\mu}{\\sigma}\n",
    "$$"
   ]
  },
  {
   "cell_type": "code",
   "execution_count": 107,
   "metadata": {},
   "outputs": [
    {
     "data": {
      "text/html": [
       "<table class=\"data-frame\"><thead><tr><th></th><th>name</th><th>ticket</th><th>market cap</th><th>last price($)</th></tr><tr><th></th><th>Any</th><th>Any</th><th>Any</th><th>Any</th></tr></thead><tbody><p>5 rows × 4 columns</p><tr><th>1</th><td>Bitcoin</td><td>BTC</td><td>750B</td><td>-20.9895</td></tr><tr><th>2</th><td>Ethereum</td><td>ETH</td><td>360B</td><td>0.0474742</td></tr><tr><th>3</th><td>Ripple</td><td>XRP</td><td>50B</td><td>0.0471464</td></tr><tr><th>4</th><td>Solana</td><td>SOL</td><td>34B</td><td>0.0473507</td></tr><tr><th>5</th><td>Terra</td><td>LUNA</td><td>32B</td><td>0.0475091</td></tr></tbody></table>"
      ],
      "text/latex": [
       "\\begin{tabular}{r|cccc}\n",
       "\t& name & ticket & market cap & last price(\\$)\\\\\n",
       "\t\\hline\n",
       "\t& Any & Any & Any & Any\\\\\n",
       "\t\\hline\n",
       "\t1 & Bitcoin & BTC & 750B & -20.9895 \\\\\n",
       "\t2 & Ethereum & ETH & 360B & 0.0474742 \\\\\n",
       "\t3 & Ripple & XRP & 50B & 0.0471464 \\\\\n",
       "\t4 & Solana & SOL & 34B & 0.0473507 \\\\\n",
       "\t5 & Terra & LUNA & 32B & 0.0475091 \\\\\n",
       "\\end{tabular}\n"
      ],
      "text/plain": [
       "\u001b[1m5×4 DataFrame\u001b[0m\n",
       "\u001b[1m Row \u001b[0m│\u001b[1m name     \u001b[0m\u001b[1m ticket \u001b[0m\u001b[1m market cap \u001b[0m\u001b[1m last price($) \u001b[0m\n",
       "\u001b[1m     \u001b[0m│\u001b[90m Any      \u001b[0m\u001b[90m Any    \u001b[0m\u001b[90m Any        \u001b[0m\u001b[90m Any           \u001b[0m\n",
       "─────┼─────────────────────────────────────────────\n",
       "   1 │ Bitcoin   BTC     750B        -20.9895\n",
       "   2 │ Ethereum  ETH     360B        0.0474742\n",
       "   3 │ Ripple    XRP     50B         0.0471464\n",
       "   4 │ Solana    SOL     34B         0.0473507\n",
       "   5 │ Terra     LUNA    32B         0.0475091"
      ]
     },
     "execution_count": 107,
     "metadata": {},
     "output_type": "execute_result"
    }
   ],
   "source": [
    "\n",
    "replace!(x -> (x - mean(top_five.\"last price(\\$)\"))/var(top_five.\"last price(\\$)\"), top_five.\"last price(\\$)\")\n",
    "top_five"
   ]
  },
  {
   "cell_type": "markdown",
   "metadata": {},
   "source": [
    "### Q2"
   ]
  },
  {
   "cell_type": "code",
   "execution_count": null,
   "metadata": {},
   "outputs": [],
   "source": []
  }
 ],
 "metadata": {
  "kernelspec": {
   "display_name": "Julia 1.7.2",
   "language": "julia",
   "name": "julia-1.7"
  },
  "language_info": {
   "file_extension": ".jl",
   "mimetype": "application/julia",
   "name": "julia",
   "version": "1.7.2"
  },
  "orig_nbformat": 4
 },
 "nbformat": 4,
 "nbformat_minor": 2
}
