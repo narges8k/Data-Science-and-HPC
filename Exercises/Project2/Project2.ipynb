{
 "cells": [
  {
   "cell_type": "markdown",
   "metadata": {},
   "source": [
    "### Second Project"
   ]
  },
  {
   "cell_type": "code",
   "execution_count": 3,
   "metadata": {},
   "outputs": [],
   "source": [
    "using Plots, ROCAnalysis, GLM, MLBase, Lathe, Distributions, LaTeXStrings, CSV, DataFrames, StatsBase, Missings, XLSX\n",
    "using IJulia: readprompt"
   ]
  },
  {
   "cell_type": "markdown",
   "metadata": {},
   "source": [
    "#### Q1"
   ]
  },
  {
   "cell_type": "code",
   "execution_count": 8,
   "metadata": {},
   "outputs": [
    {
     "data": {
      "text/html": [
       "<table class=\"data-frame\"><thead><tr><th></th><th>name</th><th>ticket</th><th>market cap</th><th>last price($)</th></tr><tr><th></th><th>Any</th><th>Any</th><th>Any</th><th>Any</th></tr></thead><tbody><p>10 rows × 4 columns</p><tr><th>1</th><td>Bitcoin</td><td>BTC</td><td>750B</td><td>39K</td></tr><tr><th>2</th><td>Ethereum</td><td>ETH</td><td>360B</td><td>3K</td></tr><tr><th>3</th><td>Ripple</td><td>XRP</td><td>50B</td><td>0.7</td></tr><tr><th>4</th><td>Solana</td><td>SOL</td><td>34B</td><td>100</td></tr><tr><th>5</th><td>Terra</td><td>LUNA</td><td>32B</td><td>91</td></tr><tr><th>6</th><td>Cardano</td><td>ADA</td><td>30B</td><td>0.9</td></tr><tr><th>7</th><td>Avalanche</td><td>AVAX</td><td>20B</td><td>73</td></tr><tr><th>8</th><td>Polkadot</td><td>DOT</td><td>19B</td><td>19</td></tr><tr><th>9</th><td>Dogecoin</td><td>DOGE</td><td>18B</td><td>0.13</td></tr><tr><th>10</th><td>Polygon</td><td>MATIC</td><td>10.7B</td><td>1.4</td></tr></tbody></table>"
      ],
      "text/latex": [
       "\\begin{tabular}{r|cccc}\n",
       "\t& name & ticket & market cap & last price(\\$)\\\\\n",
       "\t\\hline\n",
       "\t& Any & Any & Any & Any\\\\\n",
       "\t\\hline\n",
       "\t1 & Bitcoin & BTC & 750B & 39K \\\\\n",
       "\t2 & Ethereum & ETH & 360B & 3K \\\\\n",
       "\t3 & Ripple & XRP & 50B & 0.7 \\\\\n",
       "\t4 & Solana & SOL & 34B & 100 \\\\\n",
       "\t5 & Terra & LUNA & 32B & 91 \\\\\n",
       "\t6 & Cardano & ADA & 30B & 0.9 \\\\\n",
       "\t7 & Avalanche & AVAX & 20B & 73 \\\\\n",
       "\t8 & Polkadot & DOT & 19B & 19 \\\\\n",
       "\t9 & Dogecoin & DOGE & 18B & 0.13 \\\\\n",
       "\t10 & Polygon & MATIC & 10.7B & 1.4 \\\\\n",
       "\\end{tabular}\n"
      ],
      "text/plain": [
       "\u001b[1m10×4 DataFrame\u001b[0m\n",
       "\u001b[1m Row \u001b[0m│\u001b[1m name      \u001b[0m\u001b[1m ticket \u001b[0m\u001b[1m market cap \u001b[0m\u001b[1m last price($) \u001b[0m\n",
       "\u001b[1m     \u001b[0m│\u001b[90m Any       \u001b[0m\u001b[90m Any    \u001b[0m\u001b[90m Any        \u001b[0m\u001b[90m Any           \u001b[0m\n",
       "─────┼──────────────────────────────────────────────\n",
       "   1 │ Bitcoin    BTC     750B        39K\n",
       "   2 │ Ethereum   ETH     360B        3K\n",
       "   3 │ Ripple     XRP     50B         0.7\n",
       "   4 │ Solana     SOL     34B         100\n",
       "   5 │ Terra      LUNA    32B         91\n",
       "   6 │ Cardano    ADA     30B         0.9\n",
       "   7 │ Avalanche  AVAX    20B         73\n",
       "   8 │ Polkadot   DOT     19B         19\n",
       "   9 │ Dogecoin   DOGE    18B         0.13\n",
       "  10 │ Polygon    MATIC   10.7B       1.4"
      ]
     },
     "execution_count": 8,
     "metadata": {},
     "output_type": "execute_result"
    }
   ],
   "source": [
    "df = DataFrame(XLSX.readtable(\"crypto_currency.xlsx\", \"Sheet1\")...)"
   ]
  },
  {
   "cell_type": "code",
   "execution_count": 19,
   "metadata": {},
   "outputs": [
    {
     "data": {
      "text/plain": [
       "4-element Vector{String}:\n",
       " \"name\"\n",
       " \"ticket\"\n",
       " \"market cap\"\n",
       " \"last price(\\$)\""
      ]
     },
     "execution_count": 19,
     "metadata": {},
     "output_type": "execute_result"
    }
   ],
   "source": [
    "names(df)"
   ]
  },
  {
   "cell_type": "code",
   "execution_count": 110,
   "metadata": {},
   "outputs": [
    {
     "data": {
      "text/html": [
       "<table class=\"data-frame\"><thead><tr><th></th><th>name</th><th>ticket</th><th>market cap</th><th>last price($)</th></tr><tr><th></th><th>Any</th><th>Any</th><th>Any</th><th>Any</th></tr></thead><tbody><p>5 rows × 4 columns</p><tr><th>1</th><td>Bitcoin</td><td>BTC</td><td>750B</td><td>39K</td></tr><tr><th>2</th><td>Ethereum</td><td>ETH</td><td>360B</td><td>3K</td></tr><tr><th>3</th><td>Ripple</td><td>XRP</td><td>50B</td><td>0.7</td></tr><tr><th>4</th><td>Solana</td><td>SOL</td><td>34B</td><td>100</td></tr><tr><th>5</th><td>Terra</td><td>LUNA</td><td>32B</td><td>91</td></tr></tbody></table>"
      ],
      "text/latex": [
       "\\begin{tabular}{r|cccc}\n",
       "\t& name & ticket & market cap & last price(\\$)\\\\\n",
       "\t\\hline\n",
       "\t& Any & Any & Any & Any\\\\\n",
       "\t\\hline\n",
       "\t1 & Bitcoin & BTC & 750B & 39K \\\\\n",
       "\t2 & Ethereum & ETH & 360B & 3K \\\\\n",
       "\t3 & Ripple & XRP & 50B & 0.7 \\\\\n",
       "\t4 & Solana & SOL & 34B & 100 \\\\\n",
       "\t5 & Terra & LUNA & 32B & 91 \\\\\n",
       "\\end{tabular}\n"
      ],
      "text/plain": [
       "\u001b[1m5×4 DataFrame\u001b[0m\n",
       "\u001b[1m Row \u001b[0m│\u001b[1m name     \u001b[0m\u001b[1m ticket \u001b[0m\u001b[1m market cap \u001b[0m\u001b[1m last price($) \u001b[0m\n",
       "\u001b[1m     \u001b[0m│\u001b[90m Any      \u001b[0m\u001b[90m Any    \u001b[0m\u001b[90m Any        \u001b[0m\u001b[90m Any           \u001b[0m\n",
       "─────┼─────────────────────────────────────────────\n",
       "   1 │ Bitcoin   BTC     750B        39K\n",
       "   2 │ Ethereum  ETH     360B        3K\n",
       "   3 │ Ripple    XRP     50B         0.7\n",
       "   4 │ Solana    SOL     34B         100\n",
       "   5 │ Terra     LUNA    32B         91"
      ]
     },
     "execution_count": 110,
     "metadata": {},
     "output_type": "execute_result"
    }
   ],
   "source": [
    "selected_rows = findall(x->x ∈ sort(df.\"market cap\", rev=true)[1:5], df.\"market cap\")\n",
    "top_five=df[selected_rows,:]"
   ]
  },
  {
   "cell_type": "code",
   "execution_count": 108,
   "metadata": {},
   "outputs": [
    {
     "data": {
      "text/html": [
       "<table class=\"data-frame\"><thead><tr><th></th><th>name</th><th>ticket</th><th>market cap</th><th>last price($)</th></tr><tr><th></th><th>Any</th><th>Any</th><th>Any</th><th>Any</th></tr></thead><tbody><p>5 rows × 4 columns</p><tr><th>1</th><td>Bitcoin</td><td>BTC</td><td>750B</td><td>-20.9895</td></tr><tr><th>2</th><td>Ethereum</td><td>ETH</td><td>360B</td><td>0.0474742</td></tr><tr><th>3</th><td>Ripple</td><td>XRP</td><td>50B</td><td>0.0471464</td></tr><tr><th>4</th><td>Solana</td><td>SOL</td><td>34B</td><td>0.0473507</td></tr><tr><th>5</th><td>Terra</td><td>LUNA</td><td>32B</td><td>0.0475091</td></tr></tbody></table>"
      ],
      "text/latex": [
       "\\begin{tabular}{r|cccc}\n",
       "\t& name & ticket & market cap & last price(\\$)\\\\\n",
       "\t\\hline\n",
       "\t& Any & Any & Any & Any\\\\\n",
       "\t\\hline\n",
       "\t1 & Bitcoin & BTC & 750B & -20.9895 \\\\\n",
       "\t2 & Ethereum & ETH & 360B & 0.0474742 \\\\\n",
       "\t3 & Ripple & XRP & 50B & 0.0471464 \\\\\n",
       "\t4 & Solana & SOL & 34B & 0.0473507 \\\\\n",
       "\t5 & Terra & LUNA & 32B & 0.0475091 \\\\\n",
       "\\end{tabular}\n"
      ],
      "text/plain": [
       "\u001b[1m5×4 DataFrame\u001b[0m\n",
       "\u001b[1m Row \u001b[0m│\u001b[1m name     \u001b[0m\u001b[1m ticket \u001b[0m\u001b[1m market cap \u001b[0m\u001b[1m last price($) \u001b[0m\n",
       "\u001b[1m     \u001b[0m│\u001b[90m Any      \u001b[0m\u001b[90m Any    \u001b[0m\u001b[90m Any        \u001b[0m\u001b[90m Any           \u001b[0m\n",
       "─────┼─────────────────────────────────────────────\n",
       "   1 │ Bitcoin   BTC     750B        -20.9895\n",
       "   2 │ Ethereum  ETH     360B        0.0474742\n",
       "   3 │ Ripple    XRP     50B         0.0471464\n",
       "   4 │ Solana    SOL     34B         0.0473507\n",
       "   5 │ Terra     LUNA    32B         0.0475091"
      ]
     },
     "execution_count": 108,
     "metadata": {},
     "output_type": "execute_result"
    }
   ],
   "source": [
    "for i in top_five.\"last price(\\$)\"\n",
    "    if typeof(i) == String && contains(i, \"K\") == true\n",
    "        replace!(top_five.\"last price(\\$)\", i=>parse(Int, chop(i))*1000)\n",
    "    end\n",
    "end\n",
    "top_five"
   ]
  },
  {
   "cell_type": "code",
   "execution_count": 101,
   "metadata": {},
   "outputs": [
    {
     "data": {
      "text/plain": [
       "42191.7"
      ]
     },
     "execution_count": 101,
     "metadata": {},
     "output_type": "execute_result"
    }
   ],
   "source": [
    "sum(top_five.\"last price(\\$)\")"
   ]
  },
  {
   "cell_type": "markdown",
   "metadata": {},
   "source": [
    "##### *sclaing data*\n",
    "$$\n",
    "x := \\frac{x - \\mu}{\\sigma}\n",
    "$$"
   ]
  },
  {
   "cell_type": "code",
   "execution_count": 107,
   "metadata": {},
   "outputs": [
    {
     "data": {
      "text/html": [
       "<table class=\"data-frame\"><thead><tr><th></th><th>name</th><th>ticket</th><th>market cap</th><th>last price($)</th></tr><tr><th></th><th>Any</th><th>Any</th><th>Any</th><th>Any</th></tr></thead><tbody><p>5 rows × 4 columns</p><tr><th>1</th><td>Bitcoin</td><td>BTC</td><td>750B</td><td>-20.9895</td></tr><tr><th>2</th><td>Ethereum</td><td>ETH</td><td>360B</td><td>0.0474742</td></tr><tr><th>3</th><td>Ripple</td><td>XRP</td><td>50B</td><td>0.0471464</td></tr><tr><th>4</th><td>Solana</td><td>SOL</td><td>34B</td><td>0.0473507</td></tr><tr><th>5</th><td>Terra</td><td>LUNA</td><td>32B</td><td>0.0475091</td></tr></tbody></table>"
      ],
      "text/latex": [
       "\\begin{tabular}{r|cccc}\n",
       "\t& name & ticket & market cap & last price(\\$)\\\\\n",
       "\t\\hline\n",
       "\t& Any & Any & Any & Any\\\\\n",
       "\t\\hline\n",
       "\t1 & Bitcoin & BTC & 750B & -20.9895 \\\\\n",
       "\t2 & Ethereum & ETH & 360B & 0.0474742 \\\\\n",
       "\t3 & Ripple & XRP & 50B & 0.0471464 \\\\\n",
       "\t4 & Solana & SOL & 34B & 0.0473507 \\\\\n",
       "\t5 & Terra & LUNA & 32B & 0.0475091 \\\\\n",
       "\\end{tabular}\n"
      ],
      "text/plain": [
       "\u001b[1m5×4 DataFrame\u001b[0m\n",
       "\u001b[1m Row \u001b[0m│\u001b[1m name     \u001b[0m\u001b[1m ticket \u001b[0m\u001b[1m market cap \u001b[0m\u001b[1m last price($) \u001b[0m\n",
       "\u001b[1m     \u001b[0m│\u001b[90m Any      \u001b[0m\u001b[90m Any    \u001b[0m\u001b[90m Any        \u001b[0m\u001b[90m Any           \u001b[0m\n",
       "─────┼─────────────────────────────────────────────\n",
       "   1 │ Bitcoin   BTC     750B        -20.9895\n",
       "   2 │ Ethereum  ETH     360B        0.0474742\n",
       "   3 │ Ripple    XRP     50B         0.0471464\n",
       "   4 │ Solana    SOL     34B         0.0473507\n",
       "   5 │ Terra     LUNA    32B         0.0475091"
      ]
     },
     "execution_count": 107,
     "metadata": {},
     "output_type": "execute_result"
    }
   ],
   "source": [
    "\n",
    "replace!(x -> (x - mean(top_five.\"last price(\\$)\"))/var(top_five.\"last price(\\$)\"), top_five.\"last price(\\$)\")\n",
    "top_five"
   ]
  },
  {
   "cell_type": "markdown",
   "metadata": {},
   "source": [
    "## Mainnnn\n"
   ]
  },
  {
   "cell_type": "code",
   "execution_count": 44,
   "metadata": {},
   "outputs": [
    {
     "data": {
      "text/plain": [
       "366-element Vector{String15}:\n",
       " \"0.007437\"\n",
       " \"0.006072\"\n",
       " \"0.006019\"\n",
       " \"0.006317\"\n",
       " \"0.006501\"\n",
       " \"0.006713\"\n",
       " \"0.006002\"\n",
       " \"0.005224\"\n",
       " \"0.003865\"\n",
       " \"0.004214\"\n",
       " \"0.004325\"\n",
       " \"0.004612\"\n",
       " \"0.004280\"\n",
       " ⋮\n",
       " \"0.004023\"\n",
       " \"0.003965\"\n",
       " \"0.003905\"\n",
       " \"0.003747\"\n",
       " \"0.003636\"\n",
       " \"0.005584\"\n",
       " \"1.192089\"\n",
       " \"null\"\n",
       " \"null\"\n",
       " \"null\"\n",
       " \"null\"\n",
       " \"null\""
      ]
     },
     "execution_count": 44,
     "metadata": {},
     "output_type": "execute_result"
    }
   ],
   "source": [
    "push!(vec(convert(Array, select!(CSV.read(\"LUNA-USD.csv\", DataFrame), \"Close\"))), \"null\")"
   ]
  },
  {
   "cell_type": "code",
   "execution_count": 45,
   "metadata": {},
   "outputs": [
    {
     "data": {
      "text/html": [
       "<table class=\"data-frame\"><thead><tr><th></th><th>Bitcoin</th><th>Ethereum</th><th>Ripple</th><th>Solana</th><th>Terra</th><th>Cardano</th><th>Avalanche</th><th>Polkadot</th><th>Dogecoin</th></tr><tr><th></th><th>Float64</th><th>Float64</th><th>Float64</th><th>Float64</th><th>String15</th><th>Float64</th><th>Float64</th><th>String15</th><th>Float64</th></tr></thead><tbody><p>366 rows × 10 columns (omitted printing of 1 columns)</p><tr><th>1</th><td>46456.1</td><td>3587.51</td><td>1.45261</td><td>47.2008</td><td>0.007437</td><td>2.30911</td><td>36.5188</td><td>42.631512</td><td>0.514895</td></tr><tr><th>2</th><td>43537.5</td><td>3282.4</td><td>1.4963</td><td>46.8632</td><td>0.006072</td><td>2.03223</td><td>33.6623</td><td>38.710159</td><td>0.487892</td></tr><tr><th>3</th><td>42909.4</td><td>3380.07</td><td>1.59073</td><td>55.911</td><td>0.006019</td><td>2.00366</td><td>36.8222</td><td>40.645355</td><td>0.476115</td></tr><tr><th>4</th><td>37002.4</td><td>2460.68</td><td>1.07031</td><td>35.1072</td><td>0.006317</td><td>1.48252</td><td>23.3839</td><td>25.227142</td><td>0.333123</td></tr><tr><th>5</th><td>40782.7</td><td>2784.29</td><td>1.18554</td><td>44.7427</td><td>0.006501</td><td>1.81047</td><td>25.1969</td><td>29.150570</td><td>0.400194</td></tr><tr><th>6</th><td>37304.7</td><td>2430.62</td><td>1.00698</td><td>38.8129</td><td>0.006713</td><td>1.55228</td><td>21.8018</td><td>24.463970</td><td>0.359382</td></tr><tr><th>7</th><td>37536.6</td><td>2295.71</td><td>0.906317</td><td>31.3156</td><td>0.006002</td><td>1.46362</td><td>18.8511</td><td>22.014524</td><td>0.342371</td></tr><tr><th>8</th><td>34770.6</td><td>2109.58</td><td>0.797015</td><td>24.6887</td><td>0.005224</td><td>1.32544</td><td>15.7562</td><td>18.029442</td><td>0.308071</td></tr><tr><th>9</th><td>38706.0</td><td>2643.59</td><td>0.992835</td><td>31.2836</td><td>0.003865</td><td>1.54949</td><td>19.4109</td><td>23.199089</td><td>0.366162</td></tr><tr><th>10</th><td>38402.2</td><td>2706.63</td><td>0.976187</td><td>29.9971</td><td>0.004214</td><td>1.55537</td><td>19.4508</td><td>22.130131</td><td>0.346302</td></tr><tr><th>11</th><td>39294.2</td><td>2888.7</td><td>1.03373</td><td>35.5398</td><td>0.004325</td><td>1.7827</td><td>20.9057</td><td>24.549688</td><td>0.353693</td></tr><tr><th>12</th><td>38437.0</td><td>2736.49</td><td>0.970235</td><td>33.5846</td><td>0.004612</td><td>1.64596</td><td>19.0003</td><td>23.852982</td><td>0.332945</td></tr><tr><th>13</th><td>35697.6</td><td>2419.91</td><td>0.900148</td><td>29.0393</td><td>0.004280</td><td>1.51199</td><td>16.7334</td><td>21.410093</td><td>0.311205</td></tr><tr><th>14</th><td>34616.1</td><td>2279.51</td><td>0.831788</td><td>27.3764</td><td>0.004150</td><td>1.40623</td><td>16.1275</td><td>19.863375</td><td>0.30311</td></tr><tr><th>15</th><td>35678.1</td><td>2390.31</td><td>0.906609</td><td>28.6027</td><td>0.006419</td><td>1.57728</td><td>16.5344</td><td>20.473988</td><td>0.302224</td></tr><tr><th>16</th><td>37332.9</td><td>2714.95</td><td>1.04658</td><td>32.8162</td><td>0.006717</td><td>1.74278</td><td>18.1613</td><td>23.430927</td><td>0.32581</td></tr><tr><th>17</th><td>36684.9</td><td>2633.52</td><td>1.011</td><td>30.9853</td><td>0.006600</td><td>1.73475</td><td>17.7732</td><td>22.810846</td><td>0.370077</td></tr><tr><th>18</th><td>37575.2</td><td>2706.12</td><td>1.0244</td><td>33.9563</td><td>0.006769</td><td>1.75282</td><td>18.6771</td><td>25.957727</td><td>0.423374</td></tr><tr><th>19</th><td>39208.8</td><td>2855.13</td><td>1.04532</td><td>39.4709</td><td>0.007051</td><td>1.84047</td><td>20.2437</td><td>27.013458</td><td>0.399963</td></tr><tr><th>20</th><td>36894.4</td><td>2688.2</td><td>0.970196</td><td>37.4151</td><td>0.006644</td><td>1.71091</td><td>18.2474</td><td>25.008299</td><td>0.376323</td></tr><tr><th>21</th><td>35552.0</td><td>2630.58</td><td>0.923286</td><td>39.5854</td><td>0.006399</td><td>1.65901</td><td>17.2503</td><td>23.816771</td><td>0.372177</td></tr><tr><th>22</th><td>35862.4</td><td>2715.09</td><td>0.945286</td><td>42.3084</td><td>0.006095</td><td>1.67825</td><td>17.4001</td><td>24.201599</td><td>0.371807</td></tr><tr><th>23</th><td>33560.7</td><td>2590.26</td><td>0.861155</td><td>38.2623</td><td>0.006052</td><td>1.56411</td><td>15.5226</td><td>21.626959</td><td>0.33105</td></tr><tr><th>24</th><td>33472.6</td><td>2517.44</td><td>0.875788</td><td>41.5178</td><td>0.006026</td><td>1.58803</td><td>14.8689</td><td>21.745270</td><td>0.327687</td></tr><tr><th>25</th><td>37345.1</td><td>2608.27</td><td>0.920034</td><td>42.0318</td><td>0.006340</td><td>1.62483</td><td>15.3869</td><td>23.184938</td><td>0.343331</td></tr><tr><th>26</th><td>36702.6</td><td>2471.52</td><td>0.869182</td><td>41.0987</td><td>0.006238</td><td>1.53186</td><td>14.1764</td><td>22.684816</td><td>0.326351</td></tr><tr><th>27</th><td>37334.4</td><td>2353.77</td><td>0.84845</td><td>36.0461</td><td>0.006709</td><td>1.43638</td><td>13.419</td><td>20.985857</td><td>0.319359</td></tr><tr><th>28</th><td>35552.5</td><td>2372.48</td><td>0.832683</td><td>36.4417</td><td>0.006392</td><td>1.48022</td><td>13.5519</td><td>20.777037</td><td>0.312084</td></tr><tr><th>29</th><td>39097.9</td><td>2508.39</td><td>0.88316</td><td>38.7704</td><td>0.006646</td><td>1.55836</td><td>14.7756</td><td>22.076334</td><td>0.324382</td></tr><tr><th>30</th><td>40218.5</td><td>2537.89</td><td>0.892897</td><td>38.7131</td><td>0.006799</td><td>1.57511</td><td>14.9658</td><td>22.205357</td><td>0.332085</td></tr><tr><th>&vellip;</th><td>&vellip;</td><td>&vellip;</td><td>&vellip;</td><td>&vellip;</td><td>&vellip;</td><td>&vellip;</td><td>&vellip;</td><td>&vellip;</td><td>&vellip;</td></tr></tbody></table>"
      ],
      "text/latex": [
       "\\begin{tabular}{r|cccccccccc}\n",
       "\t& Bitcoin & Ethereum & Ripple & Solana & Terra & Cardano & Avalanche & Polkadot & Dogecoin & \\\\\n",
       "\t\\hline\n",
       "\t& Float64 & Float64 & Float64 & Float64 & String15 & Float64 & Float64 & String15 & Float64 & \\\\\n",
       "\t\\hline\n",
       "\t1 & 46456.1 & 3587.51 & 1.45261 & 47.2008 & 0.007437 & 2.30911 & 36.5188 & 42.631512 & 0.514895 & $\\dots$ \\\\\n",
       "\t2 & 43537.5 & 3282.4 & 1.4963 & 46.8632 & 0.006072 & 2.03223 & 33.6623 & 38.710159 & 0.487892 & $\\dots$ \\\\\n",
       "\t3 & 42909.4 & 3380.07 & 1.59073 & 55.911 & 0.006019 & 2.00366 & 36.8222 & 40.645355 & 0.476115 & $\\dots$ \\\\\n",
       "\t4 & 37002.4 & 2460.68 & 1.07031 & 35.1072 & 0.006317 & 1.48252 & 23.3839 & 25.227142 & 0.333123 & $\\dots$ \\\\\n",
       "\t5 & 40782.7 & 2784.29 & 1.18554 & 44.7427 & 0.006501 & 1.81047 & 25.1969 & 29.150570 & 0.400194 & $\\dots$ \\\\\n",
       "\t6 & 37304.7 & 2430.62 & 1.00698 & 38.8129 & 0.006713 & 1.55228 & 21.8018 & 24.463970 & 0.359382 & $\\dots$ \\\\\n",
       "\t7 & 37536.6 & 2295.71 & 0.906317 & 31.3156 & 0.006002 & 1.46362 & 18.8511 & 22.014524 & 0.342371 & $\\dots$ \\\\\n",
       "\t8 & 34770.6 & 2109.58 & 0.797015 & 24.6887 & 0.005224 & 1.32544 & 15.7562 & 18.029442 & 0.308071 & $\\dots$ \\\\\n",
       "\t9 & 38706.0 & 2643.59 & 0.992835 & 31.2836 & 0.003865 & 1.54949 & 19.4109 & 23.199089 & 0.366162 & $\\dots$ \\\\\n",
       "\t10 & 38402.2 & 2706.63 & 0.976187 & 29.9971 & 0.004214 & 1.55537 & 19.4508 & 22.130131 & 0.346302 & $\\dots$ \\\\\n",
       "\t11 & 39294.2 & 2888.7 & 1.03373 & 35.5398 & 0.004325 & 1.7827 & 20.9057 & 24.549688 & 0.353693 & $\\dots$ \\\\\n",
       "\t12 & 38437.0 & 2736.49 & 0.970235 & 33.5846 & 0.004612 & 1.64596 & 19.0003 & 23.852982 & 0.332945 & $\\dots$ \\\\\n",
       "\t13 & 35697.6 & 2419.91 & 0.900148 & 29.0393 & 0.004280 & 1.51199 & 16.7334 & 21.410093 & 0.311205 & $\\dots$ \\\\\n",
       "\t14 & 34616.1 & 2279.51 & 0.831788 & 27.3764 & 0.004150 & 1.40623 & 16.1275 & 19.863375 & 0.30311 & $\\dots$ \\\\\n",
       "\t15 & 35678.1 & 2390.31 & 0.906609 & 28.6027 & 0.006419 & 1.57728 & 16.5344 & 20.473988 & 0.302224 & $\\dots$ \\\\\n",
       "\t16 & 37332.9 & 2714.95 & 1.04658 & 32.8162 & 0.006717 & 1.74278 & 18.1613 & 23.430927 & 0.32581 & $\\dots$ \\\\\n",
       "\t17 & 36684.9 & 2633.52 & 1.011 & 30.9853 & 0.006600 & 1.73475 & 17.7732 & 22.810846 & 0.370077 & $\\dots$ \\\\\n",
       "\t18 & 37575.2 & 2706.12 & 1.0244 & 33.9563 & 0.006769 & 1.75282 & 18.6771 & 25.957727 & 0.423374 & $\\dots$ \\\\\n",
       "\t19 & 39208.8 & 2855.13 & 1.04532 & 39.4709 & 0.007051 & 1.84047 & 20.2437 & 27.013458 & 0.399963 & $\\dots$ \\\\\n",
       "\t20 & 36894.4 & 2688.2 & 0.970196 & 37.4151 & 0.006644 & 1.71091 & 18.2474 & 25.008299 & 0.376323 & $\\dots$ \\\\\n",
       "\t21 & 35552.0 & 2630.58 & 0.923286 & 39.5854 & 0.006399 & 1.65901 & 17.2503 & 23.816771 & 0.372177 & $\\dots$ \\\\\n",
       "\t22 & 35862.4 & 2715.09 & 0.945286 & 42.3084 & 0.006095 & 1.67825 & 17.4001 & 24.201599 & 0.371807 & $\\dots$ \\\\\n",
       "\t23 & 33560.7 & 2590.26 & 0.861155 & 38.2623 & 0.006052 & 1.56411 & 15.5226 & 21.626959 & 0.33105 & $\\dots$ \\\\\n",
       "\t24 & 33472.6 & 2517.44 & 0.875788 & 41.5178 & 0.006026 & 1.58803 & 14.8689 & 21.745270 & 0.327687 & $\\dots$ \\\\\n",
       "\t25 & 37345.1 & 2608.27 & 0.920034 & 42.0318 & 0.006340 & 1.62483 & 15.3869 & 23.184938 & 0.343331 & $\\dots$ \\\\\n",
       "\t26 & 36702.6 & 2471.52 & 0.869182 & 41.0987 & 0.006238 & 1.53186 & 14.1764 & 22.684816 & 0.326351 & $\\dots$ \\\\\n",
       "\t27 & 37334.4 & 2353.77 & 0.84845 & 36.0461 & 0.006709 & 1.43638 & 13.419 & 20.985857 & 0.319359 & $\\dots$ \\\\\n",
       "\t28 & 35552.5 & 2372.48 & 0.832683 & 36.4417 & 0.006392 & 1.48022 & 13.5519 & 20.777037 & 0.312084 & $\\dots$ \\\\\n",
       "\t29 & 39097.9 & 2508.39 & 0.88316 & 38.7704 & 0.006646 & 1.55836 & 14.7756 & 22.076334 & 0.324382 & $\\dots$ \\\\\n",
       "\t30 & 40218.5 & 2537.89 & 0.892897 & 38.7131 & 0.006799 & 1.57511 & 14.9658 & 22.205357 & 0.332085 & $\\dots$ \\\\\n",
       "\t$\\dots$ & $\\dots$ & $\\dots$ & $\\dots$ & $\\dots$ & $\\dots$ & $\\dots$ & $\\dots$ & $\\dots$ & $\\dots$ &  \\\\\n",
       "\\end{tabular}\n"
      ],
      "text/plain": [
       "\u001b[1m366×10 DataFrame\u001b[0m\n",
       "\u001b[1m Row \u001b[0m│\u001b[1m Bitcoin \u001b[0m\u001b[1m Ethereum \u001b[0m\u001b[1m Ripple   \u001b[0m\u001b[1m Solana  \u001b[0m\u001b[1m Terra    \u001b[0m\u001b[1m Cardano  \u001b[0m\u001b[1m Avalanche \u001b[0m\u001b[1m Po\u001b[0m ⋯\n",
       "\u001b[1m     \u001b[0m│\u001b[90m Float64 \u001b[0m\u001b[90m Float64  \u001b[0m\u001b[90m Float64  \u001b[0m\u001b[90m Float64 \u001b[0m\u001b[90m String15 \u001b[0m\u001b[90m Float64  \u001b[0m\u001b[90m Float64   \u001b[0m\u001b[90m St\u001b[0m ⋯\n",
       "─────┼──────────────────────────────────────────────────────────────────────────\n",
       "   1 │ 46456.1   3587.51  1.45261   47.2008  0.007437  2.30911     36.5188  42 ⋯\n",
       "   2 │ 43537.5   3282.4   1.4963    46.8632  0.006072  2.03223     33.6623  38\n",
       "   3 │ 42909.4   3380.07  1.59073   55.911   0.006019  2.00366     36.8222  40\n",
       "   4 │ 37002.4   2460.68  1.07031   35.1072  0.006317  1.48252     23.3839  25\n",
       "   5 │ 40782.7   2784.29  1.18554   44.7427  0.006501  1.81047     25.1969  29 ⋯\n",
       "   6 │ 37304.7   2430.62  1.00698   38.8129  0.006713  1.55228     21.8018  24\n",
       "   7 │ 37536.6   2295.71  0.906317  31.3156  0.006002  1.46362     18.8511  22\n",
       "   8 │ 34770.6   2109.58  0.797015  24.6887  0.005224  1.32544     15.7562  18\n",
       "   9 │ 38706.0   2643.59  0.992835  31.2836  0.003865  1.54949     19.4109  23 ⋯\n",
       "  10 │ 38402.2   2706.63  0.976187  29.9971  0.004214  1.55537     19.4508  22\n",
       "  11 │ 39294.2   2888.7   1.03373   35.5398  0.004325  1.7827      20.9057  24\n",
       "  ⋮  │    ⋮        ⋮         ⋮         ⋮        ⋮         ⋮          ⋮         ⋱\n",
       " 357 │ 35502.0   2636.09  0.582347  78.9834  0.003905  0.761882    55.1567  13\n",
       " 358 │ 34059.3   2517.46  0.566527  75.2202  0.003747  0.739563    51.5212  13 ⋯\n",
       " 359 │ 30297.0   2245.43  0.49294   63.2697  0.003636  0.610088    41.972   10\n",
       " 360 │ 31022.9   2343.51  0.513626  66.7662  0.005584  0.628963    44.5603  11\n",
       " 361 │ 28936.4   2072.11  0.413376  50.2109  1.192089  0.5128      30.9629  nu\n",
       " 362 │ 29047.8   1961.7   0.385206  44.6836  null      0.473746    30.3575  nu ⋯\n",
       " 363 │ 29283.1   2014.42  0.423417  48.5936  null      0.528877    32.1364  nu\n",
       " 364 │ 30101.3   2056.27  0.427774  52.4172  null      0.539358    34.0825  nu\n",
       " 365 │ 31305.1   2145.71  0.447371  58.8113  null      0.5975      36.5423  nu\n",
       " 366 │ 29811.8   2035.94  0.420961  55.0012  null      0.568933    33.295   10 ⋯\n",
       "\u001b[36m                                                  3 columns and 345 rows omitted\u001b[0m"
      ]
     },
     "execution_count": 45,
     "metadata": {},
     "output_type": "execute_result"
    }
   ],
   "source": [
    "df = DataFrame(\"Bitcoin\" => vec(convert(Array, select!(CSV.read(\"BTC-USD.csv\", DataFrame), \"Close\"))),\n",
    "     \"Ethereum\"=> vec(convert(Array, select!(CSV.read(\"ETH-USD.csv\", DataFrame), \"Close\"))), \n",
    "     \"Ripple\"=> vec(convert(Array, select!(CSV.read(\"XRP-USD.csv\", DataFrame), \"Close\"))),\n",
    "     \"Solana\"=> vec(convert(Array, select!(CSV.read(\"SOL-USD.csv\", DataFrame), \"Close\"))), \n",
    "     \"Terra\"=> push!(vec(convert(Array, select!(CSV.read(\"LUNA-USD.csv\", DataFrame), \"Close\"))), \"null\"),\n",
    "     \"Cardano\"=> vec(convert(Array, select!(CSV.read(\"ADA-USD.csv\", DataFrame), \"Close\"))), \n",
    "     \"Avalanche\"=> vec(convert(Array, select!(CSV.read(\"AVAX-USD.csv\", DataFrame), \"Close\"))), \n",
    "     \"Polkadot\"=> vec(convert(Array, select!(CSV.read(\"DOT-USD.csv\", DataFrame), \"Close\"))),\n",
    "     \"Dogecoin\"=> vec(convert(Array, select!(CSV.read(\"DOGE-USD.csv\", DataFrame), \"Close\"))), \n",
    "     \"Polygon\"=> vec(convert(Array, select!(CSV.read(\"MATIC-USD.csv\", DataFrame), \"Close\"))))"
   ]
  },
  {
   "cell_type": "markdown",
   "metadata": {},
   "source": [
    "### Q2"
   ]
  },
  {
   "cell_type": "code",
   "execution_count": null,
   "metadata": {},
   "outputs": [],
   "source": []
  }
 ],
 "metadata": {
  "kernelspec": {
   "display_name": "Julia 1.7.2",
   "language": "julia",
   "name": "julia-1.7"
  },
  "language_info": {
   "file_extension": ".jl",
   "mimetype": "application/julia",
   "name": "julia",
   "version": "1.7.2"
  },
  "orig_nbformat": 4
 },
 "nbformat": 4,
 "nbformat_minor": 2
}
