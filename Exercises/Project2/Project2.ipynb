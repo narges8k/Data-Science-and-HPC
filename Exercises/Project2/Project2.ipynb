{
 "cells": [
  {
   "cell_type": "markdown",
   "metadata": {},
   "source": [
    "### Second Project"
   ]
  },
  {
   "cell_type": "code",
   "execution_count": 39,
   "metadata": {},
   "outputs": [],
   "source": [
    "using Plots, ROCAnalysis, GLM, MLBase, Lathe, Distributions, LaTeXStrings, CSV, DataFrames, StatsBase, Missings, XLSX, Dates, HTTP\n",
    "using IJulia: readprompt"
   ]
  },
  {
   "cell_type": "code",
   "execution_count": 71,
   "metadata": {},
   "outputs": [
    {
     "data": {
      "text/html": [
       "<table class=\"data-frame\"><thead><tr><th></th><th>name</th><th>ticket</th><th>market cap</th><th>last price($)</th></tr><tr><th></th><th>Any</th><th>Any</th><th>Any</th><th>Any</th></tr></thead><tbody><p>10 rows × 4 columns</p><tr><th>1</th><td>Bitcoin</td><td>BTC</td><td>750B</td><td>39K</td></tr><tr><th>2</th><td>Ethereum</td><td>ETH</td><td>360B</td><td>3K</td></tr><tr><th>3</th><td>Ripple</td><td>XRP</td><td>50B</td><td>0.7</td></tr><tr><th>4</th><td>Solana</td><td>SOL</td><td>34B</td><td>100</td></tr><tr><th>5</th><td>Terra</td><td>LUNA</td><td>32B</td><td>91</td></tr><tr><th>6</th><td>Cardano</td><td>ADA</td><td>30B</td><td>0.9</td></tr><tr><th>7</th><td>Avalanche</td><td>AVAX</td><td>20B</td><td>73</td></tr><tr><th>8</th><td>Polkadot</td><td>DOT</td><td>19B</td><td>19</td></tr><tr><th>9</th><td>Dogecoin</td><td>DOGE</td><td>18B</td><td>0.13</td></tr><tr><th>10</th><td>Polygon</td><td>MATIC</td><td>10.7B</td><td>1.4</td></tr></tbody></table>"
      ],
      "text/latex": [
       "\\begin{tabular}{r|cccc}\n",
       "\t& name & ticket & market cap & last price(\\$)\\\\\n",
       "\t\\hline\n",
       "\t& Any & Any & Any & Any\\\\\n",
       "\t\\hline\n",
       "\t1 & Bitcoin & BTC & 750B & 39K \\\\\n",
       "\t2 & Ethereum & ETH & 360B & 3K \\\\\n",
       "\t3 & Ripple & XRP & 50B & 0.7 \\\\\n",
       "\t4 & Solana & SOL & 34B & 100 \\\\\n",
       "\t5 & Terra & LUNA & 32B & 91 \\\\\n",
       "\t6 & Cardano & ADA & 30B & 0.9 \\\\\n",
       "\t7 & Avalanche & AVAX & 20B & 73 \\\\\n",
       "\t8 & Polkadot & DOT & 19B & 19 \\\\\n",
       "\t9 & Dogecoin & DOGE & 18B & 0.13 \\\\\n",
       "\t10 & Polygon & MATIC & 10.7B & 1.4 \\\\\n",
       "\\end{tabular}\n"
      ],
      "text/plain": [
       "\u001b[1m10×4 DataFrame\u001b[0m\n",
       "\u001b[1m Row \u001b[0m│\u001b[1m name      \u001b[0m\u001b[1m ticket \u001b[0m\u001b[1m market cap \u001b[0m\u001b[1m last price($) \u001b[0m\n",
       "\u001b[1m     \u001b[0m│\u001b[90m Any       \u001b[0m\u001b[90m Any    \u001b[0m\u001b[90m Any        \u001b[0m\u001b[90m Any           \u001b[0m\n",
       "─────┼──────────────────────────────────────────────\n",
       "   1 │ Bitcoin    BTC     750B        39K\n",
       "   2 │ Ethereum   ETH     360B        3K\n",
       "   3 │ Ripple     XRP     50B         0.7\n",
       "   4 │ Solana     SOL     34B         100\n",
       "   5 │ Terra      LUNA    32B         91\n",
       "   6 │ Cardano    ADA     30B         0.9\n",
       "   7 │ Avalanche  AVAX    20B         73\n",
       "   8 │ Polkadot   DOT     19B         19\n",
       "   9 │ Dogecoin   DOGE    18B         0.13\n",
       "  10 │ Polygon    MATIC   10.7B       1.4"
      ]
     },
     "execution_count": 71,
     "metadata": {},
     "output_type": "execute_result"
    }
   ],
   "source": [
    "dff = DataFrame(XLSX.readtable(\"crypto_currency.xlsx\", \"Sheet1\")...)"
   ]
  },
  {
   "cell_type": "code",
   "execution_count": 42,
   "metadata": {},
   "outputs": [
    {
     "data": {
      "text/plain": [
       "10-element Vector{Any}:\n",
       " \"BTC\"\n",
       " \"ETH\"\n",
       " \"XRP\"\n",
       " \"SOL\"\n",
       " \"LUNA\"\n",
       " \"ADA\"\n",
       " \"AVAX\"\n",
       " \"DOT\"\n",
       " \"DOGE\"\n",
       " \"MATIC\""
      ]
     },
     "execution_count": 42,
     "metadata": {},
     "output_type": "execute_result"
    }
   ],
   "source": [
    "dff.ticket"
   ]
  },
  {
   "cell_type": "code",
   "execution_count": 110,
   "metadata": {},
   "outputs": [
    {
     "data": {
      "text/html": [
       "<table class=\"data-frame\"><thead><tr><th></th><th>name</th><th>ticket</th><th>market cap</th><th>last price($)</th></tr><tr><th></th><th>Any</th><th>Any</th><th>Any</th><th>Any</th></tr></thead><tbody><p>5 rows × 4 columns</p><tr><th>1</th><td>Bitcoin</td><td>BTC</td><td>750B</td><td>39K</td></tr><tr><th>2</th><td>Ethereum</td><td>ETH</td><td>360B</td><td>3K</td></tr><tr><th>3</th><td>Ripple</td><td>XRP</td><td>50B</td><td>0.7</td></tr><tr><th>4</th><td>Solana</td><td>SOL</td><td>34B</td><td>100</td></tr><tr><th>5</th><td>Terra</td><td>LUNA</td><td>32B</td><td>91</td></tr></tbody></table>"
      ],
      "text/latex": [
       "\\begin{tabular}{r|cccc}\n",
       "\t& name & ticket & market cap & last price(\\$)\\\\\n",
       "\t\\hline\n",
       "\t& Any & Any & Any & Any\\\\\n",
       "\t\\hline\n",
       "\t1 & Bitcoin & BTC & 750B & 39K \\\\\n",
       "\t2 & Ethereum & ETH & 360B & 3K \\\\\n",
       "\t3 & Ripple & XRP & 50B & 0.7 \\\\\n",
       "\t4 & Solana & SOL & 34B & 100 \\\\\n",
       "\t5 & Terra & LUNA & 32B & 91 \\\\\n",
       "\\end{tabular}\n"
      ],
      "text/plain": [
       "\u001b[1m5×4 DataFrame\u001b[0m\n",
       "\u001b[1m Row \u001b[0m│\u001b[1m name     \u001b[0m\u001b[1m ticket \u001b[0m\u001b[1m market cap \u001b[0m\u001b[1m last price($) \u001b[0m\n",
       "\u001b[1m     \u001b[0m│\u001b[90m Any      \u001b[0m\u001b[90m Any    \u001b[0m\u001b[90m Any        \u001b[0m\u001b[90m Any           \u001b[0m\n",
       "─────┼─────────────────────────────────────────────\n",
       "   1 │ Bitcoin   BTC     750B        39K\n",
       "   2 │ Ethereum  ETH     360B        3K\n",
       "   3 │ Ripple    XRP     50B         0.7\n",
       "   4 │ Solana    SOL     34B         100\n",
       "   5 │ Terra     LUNA    32B         91"
      ]
     },
     "execution_count": 110,
     "metadata": {},
     "output_type": "execute_result"
    }
   ],
   "source": [
    "selected_rows = findall(x->x ∈ sort(dff.\"market cap\", rev=true)[1:5], dff.\"market cap\")\n",
    "top_five=df[selected_rows,:]\n",
    "for i in top_five.\"last price(\\$)\"\n",
    "    if typeof(i) == String && contains(i, \"K\") == true\n",
    "        replace!(top_five.\"last price(\\$)\", i=>parse(Int, chop(i))*1000)\n",
    "    end\n",
    "end\n",
    "top_five"
   ]
  },
  {
   "cell_type": "markdown",
   "metadata": {},
   "source": [
    "##### *sclaing data*\n",
    "$$\n",
    "x := \\frac{x - \\mu}{\\sigma}\n",
    "$$"
   ]
  },
  {
   "cell_type": "markdown",
   "metadata": {},
   "source": [
    "##### *Functions*"
   ]
  },
  {
   "cell_type": "code",
   "execution_count": 68,
   "metadata": {},
   "outputs": [
    {
     "data": {
      "text/plain": [
       "cumulative_return (generic function with 1 method)"
      ]
     },
     "execution_count": 68,
     "metadata": {},
     "output_type": "execute_result"
    }
   ],
   "source": [
    "# removing nulls and substituing them with the average value\n",
    "function string_remover(df :: DataFrame, col_ :: Integer)\n",
    "    list_ = [0.0 for i in 1:366]\n",
    "    sum=0.0\n",
    "    tot=0.0\n",
    "    for (n, value) in enumerate(df[!, col_])\n",
    "        if value != \"null\"\n",
    "            list_[n]=parse(Float64, value) \n",
    "            sum += list_[n]\n",
    "            tot += 1  \n",
    "        end\n",
    "    end\n",
    "    avg = sum/tot\n",
    "    list_[findall(x->x==0.0, list_)] .= avg\n",
    "    return list_\n",
    "end\n",
    "# calculating return values\n",
    "function return_cal(df :: DataFrame)\n",
    "    r_list = []\n",
    "    for i in 2:11\n",
    "        temp=[]\n",
    "        for j in 1:365\n",
    "            r = (df[j,i] - df[j+1,i])/ df[j+1,i]\n",
    "            push!(temp, r)\n",
    "        end\n",
    "        push!(r_list, temp)\n",
    "    end\n",
    "    return r_list\n",
    "end\n",
    "# calculating the Cumulative return \n",
    "function cumulative_return(r_list)\n",
    "    cu_r_list = []\n",
    "    for i in 1:10\n",
    "        multi=1\n",
    "        for j in 1:length(r_list[i])\n",
    "            multi *= (r_list[i][j] + 1)\n",
    "        end\n",
    "        push!(cu_r_list, multi - 1)\n",
    "    end\n",
    "    return cu_r_list\n",
    "end"
   ]
  },
  {
   "cell_type": "markdown",
   "metadata": {},
   "source": [
    "### Q1"
   ]
  },
  {
   "cell_type": "code",
   "execution_count": 49,
   "metadata": {},
   "outputs": [
    {
     "data": {
      "text/plain": [
       "\"2022-01-01\""
      ]
     },
     "execution_count": 49,
     "metadata": {},
     "output_type": "execute_result"
    }
   ],
   "source": [
    "coin_symbols = [\"BTC\", \"ETH\", \"XRP\", \"SOL\", \"LUNA\", \"ADA\", \"AVAX\", \"DOT\", \"DOGE\", \"MATIC\" ]\n",
    "start_date = \"2021-01-01\"\n",
    "end_date = \"2022-01-01\""
   ]
  },
  {
   "cell_type": "code",
   "execution_count": 54,
   "metadata": {},
   "outputs": [],
   "source": [
    "api_key = \"052E2ECA-27A4-4E59-AD69-DAFDD269B5BE\"\n",
    "\n",
    "api_address = \"https://rest.coinapi.io/v1/exchangerate/\"\n",
    "api_params = \"/USD/history?period_id=1DAY&limit=2000&output_format=csv\"\n",
    "\n",
    "api_time(sdate, edate) = \"&time_start=$(sdate)&time_end=$(edate)\"\n",
    "\n",
    "for symbol in coin_symbols\n",
    "    write(\"$symbol.csv\", HTTP.get(\n",
    "        api_address * symbol * api_params * api_time(start_date, end_date),\n",
    "        [\"X-CoinAPI-Key\" => api_key]).body)\n",
    "end"
   ]
  },
  {
   "cell_type": "code",
   "execution_count": 64,
   "metadata": {},
   "outputs": [
    {
     "data": {
      "text/html": [
       "<table class=\"data-frame\"><thead><tr><th></th><th>Date</th><th>BTC</th><th>ETH</th><th>XRP</th><th>SOL</th><th>LUNA</th><th>ADA</th><th>AVAX</th><th>DOT</th></tr><tr><th></th><th>Date</th><th>Float64</th><th>Float64</th><th>Float64</th><th>Float64</th><th>Float64</th><th>Float64</th><th>Float64</th><th>Float64</th></tr></thead><tbody><p>366 rows × 11 columns (omitted printing of 2 columns)</p><tr><th>1</th><td>2022-01-01</td><td>46181.5</td><td>3675.38</td><td>0.829368</td><td>169.98</td><td>85.4733</td><td>1.30796</td><td>109.436</td><td>26.6559</td></tr><tr><th>2</th><td>2021-12-31</td><td>46175.7</td><td>3675.22</td><td>0.829491</td><td>169.867</td><td>85.4261</td><td>1.30615</td><td>109.415</td><td>26.6477</td></tr><tr><th>3</th><td>2021-12-30</td><td>47144.6</td><td>3711.54</td><td>0.838914</td><td>172.593</td><td>84.7173</td><td>1.35927</td><td>101.726</td><td>27.5511</td></tr><tr><th>4</th><td>2021-12-29</td><td>46450.4</td><td>3628.43</td><td>0.816511</td><td>170.774</td><td>84.1641</td><td>1.33047</td><td>103.033</td><td>26.741</td></tr><tr><th>5</th><td>2021-12-28</td><td>47565.5</td><td>3797.55</td><td>0.851919</td><td>177.358</td><td>85.3572</td><td>1.40073</td><td>107.135</td><td>27.8798</td></tr><tr><th>6</th><td>2021-12-27</td><td>50702.3</td><td>4041.64</td><td>0.926585</td><td>195.661</td><td>90.891</td><td>1.51408</td><td>113.752</td><td>30.94</td></tr><tr><th>7</th><td>2021-12-26</td><td>50814.2</td><td>4066.1</td><td>0.920693</td><td>198.048</td><td>99.7597</td><td>1.45519</td><td>115.186</td><td>31.3552</td></tr><tr><th>8</th><td>2021-12-25</td><td>50435.6</td><td>4095.73</td><td>0.925013</td><td>193.072</td><td>98.2836</td><td>1.45388</td><td>114.931</td><td>28.8548</td></tr><tr><th>9</th><td>2021-12-24</td><td>50821.5</td><td>4047.17</td><td>0.910808</td><td>190.375</td><td>96.0153</td><td>1.39114</td><td>115.038</td><td>28.158</td></tr><tr><th>10</th><td>2021-12-23</td><td>50789.5</td><td>4109.71</td><td>0.993075</td><td>190.053</td><td>93.9176</td><td>1.47496</td><td>121.226</td><td>29.1045</td></tr><tr><th>11</th><td>2021-12-22</td><td>48612.7</td><td>3980.41</td><td>0.953634</td><td>178.577</td><td>85.4441</td><td>1.32693</td><td>116.517</td><td>27.2136</td></tr><tr><th>12</th><td>2021-12-21</td><td>48911.1</td><td>4019.16</td><td>0.946763</td><td>179.91</td><td>87.4943</td><td>1.28023</td><td>123.255</td><td>25.1925</td></tr><tr><th>13</th><td>2021-12-20</td><td>46906.4</td><td>3938.26</td><td>0.878923</td><td>173.735</td><td>82.0916</td><td>1.23754</td><td>113.503</td><td>24.0671</td></tr><tr><th>14</th><td>2021-12-19</td><td>46684.0</td><td>3923.23</td><td>0.834325</td><td>180.162</td><td>78.1978</td><td>1.24388</td><td>107.449</td><td>24.7867</td></tr><tr><th>15</th><td>2021-12-18</td><td>46845.7</td><td>3961.12</td><td>0.826627</td><td>182.669</td><td>74.0328</td><td>1.24255</td><td>116.078</td><td>25.5029</td></tr><tr><th>16</th><td>2021-12-17</td><td>46191.6</td><td>3876.22</td><td>0.797542</td><td>175.274</td><td>65.6597</td><td>1.21786</td><td>110.808</td><td>24.6273</td></tr><tr><th>17</th><td>2021-12-16</td><td>47619.2</td><td>3956.13</td><td>0.804456</td><td>176.406</td><td>64.282</td><td>1.23802</td><td>98.3428</td><td>25.9704</td></tr><tr><th>18</th><td>2021-12-15</td><td>48878.9</td><td>4018.76</td><td>0.826407</td><td>178.237</td><td>61.5363</td><td>1.31112</td><td>101.189</td><td>27.1349</td></tr><tr><th>19</th><td>2021-12-14</td><td>48381.5</td><td>3858.71</td><td>0.81103</td><td>161.674</td><td>60.2732</td><td>1.26773</td><td>87.351</td><td>26.2111</td></tr><tr><th>20</th><td>2021-12-13</td><td>46744.9</td><td>3783.47</td><td>0.782082</td><td>155.102</td><td>52.8175</td><td>1.22528</td><td>79.1394</td><td>25.9711</td></tr><tr><th>21</th><td>2021-12-12</td><td>50106.3</td><td>4134.69</td><td>0.840667</td><td>173.371</td><td>61.9821</td><td>1.34735</td><td>88.0986</td><td>29.6227</td></tr><tr><th>22</th><td>2021-12-11</td><td>49391.2</td><td>4085.61</td><td>0.838938</td><td>171.964</td><td>60.0424</td><td>1.35403</td><td>86.4754</td><td>27.791</td></tr><tr><th>23</th><td>2021-12-10</td><td>47199.6</td><td>3905.45</td><td>0.799455</td><td>168.243</td><td>60.9494</td><td>1.21037</td><td>80.7018</td><td>26.4325</td></tr><tr><th>24</th><td>2021-12-09</td><td>47720.0</td><td>4120.09</td><td>0.861018</td><td>181.356</td><td>66.5874</td><td>1.29209</td><td>85.5246</td><td>26.9876</td></tr><tr><th>25</th><td>2021-12-08</td><td>50541.3</td><td>4443.7</td><td>0.863345</td><td>194.683</td><td>75.2255</td><td>1.39876</td><td>93.294</td><td>29.8912</td></tr><tr><th>26</th><td>2021-12-07</td><td>50672.5</td><td>4310.68</td><td>0.816523</td><td>190.347</td><td>68.8257</td><td>1.37976</td><td>89.6472</td><td>30.5463</td></tr><tr><th>27</th><td>2021-12-06</td><td>50630.9</td><td>4363.04</td><td>0.828697</td><td>194.141</td><td>67.398</td><td>1.42616</td><td>93.4604</td><td>28.2733</td></tr><tr><th>28</th><td>2021-12-05</td><td>49503.5</td><td>4207.94</td><td>0.807067</td><td>196.862</td><td>68.3729</td><td>1.38207</td><td>86.1041</td><td>28.3839</td></tr><tr><th>29</th><td>2021-12-04</td><td>49313.6</td><td>4128.87</td><td>0.848107</td><td>201.56</td><td>75.5628</td><td>1.4238</td><td>93.0693</td><td>29.4448</td></tr><tr><th>30</th><td>2021-12-03</td><td>53585.7</td><td>4219.12</td><td>0.920761</td><td>211.258</td><td>63.2996</td><td>1.55695</td><td>108.1</td><td>33.6528</td></tr><tr><th>&vellip;</th><td>&vellip;</td><td>&vellip;</td><td>&vellip;</td><td>&vellip;</td><td>&vellip;</td><td>&vellip;</td><td>&vellip;</td><td>&vellip;</td><td>&vellip;</td></tr></tbody></table>"
      ],
      "text/latex": [
       "\\begin{tabular}{r|cccccccccc}\n",
       "\t& Date & BTC & ETH & XRP & SOL & LUNA & ADA & AVAX & DOT & \\\\\n",
       "\t\\hline\n",
       "\t& Date & Float64 & Float64 & Float64 & Float64 & Float64 & Float64 & Float64 & Float64 & \\\\\n",
       "\t\\hline\n",
       "\t1 & 2022-01-01 & 46181.5 & 3675.38 & 0.829368 & 169.98 & 85.4733 & 1.30796 & 109.436 & 26.6559 & $\\dots$ \\\\\n",
       "\t2 & 2021-12-31 & 46175.7 & 3675.22 & 0.829491 & 169.867 & 85.4261 & 1.30615 & 109.415 & 26.6477 & $\\dots$ \\\\\n",
       "\t3 & 2021-12-30 & 47144.6 & 3711.54 & 0.838914 & 172.593 & 84.7173 & 1.35927 & 101.726 & 27.5511 & $\\dots$ \\\\\n",
       "\t4 & 2021-12-29 & 46450.4 & 3628.43 & 0.816511 & 170.774 & 84.1641 & 1.33047 & 103.033 & 26.741 & $\\dots$ \\\\\n",
       "\t5 & 2021-12-28 & 47565.5 & 3797.55 & 0.851919 & 177.358 & 85.3572 & 1.40073 & 107.135 & 27.8798 & $\\dots$ \\\\\n",
       "\t6 & 2021-12-27 & 50702.3 & 4041.64 & 0.926585 & 195.661 & 90.891 & 1.51408 & 113.752 & 30.94 & $\\dots$ \\\\\n",
       "\t7 & 2021-12-26 & 50814.2 & 4066.1 & 0.920693 & 198.048 & 99.7597 & 1.45519 & 115.186 & 31.3552 & $\\dots$ \\\\\n",
       "\t8 & 2021-12-25 & 50435.6 & 4095.73 & 0.925013 & 193.072 & 98.2836 & 1.45388 & 114.931 & 28.8548 & $\\dots$ \\\\\n",
       "\t9 & 2021-12-24 & 50821.5 & 4047.17 & 0.910808 & 190.375 & 96.0153 & 1.39114 & 115.038 & 28.158 & $\\dots$ \\\\\n",
       "\t10 & 2021-12-23 & 50789.5 & 4109.71 & 0.993075 & 190.053 & 93.9176 & 1.47496 & 121.226 & 29.1045 & $\\dots$ \\\\\n",
       "\t11 & 2021-12-22 & 48612.7 & 3980.41 & 0.953634 & 178.577 & 85.4441 & 1.32693 & 116.517 & 27.2136 & $\\dots$ \\\\\n",
       "\t12 & 2021-12-21 & 48911.1 & 4019.16 & 0.946763 & 179.91 & 87.4943 & 1.28023 & 123.255 & 25.1925 & $\\dots$ \\\\\n",
       "\t13 & 2021-12-20 & 46906.4 & 3938.26 & 0.878923 & 173.735 & 82.0916 & 1.23754 & 113.503 & 24.0671 & $\\dots$ \\\\\n",
       "\t14 & 2021-12-19 & 46684.0 & 3923.23 & 0.834325 & 180.162 & 78.1978 & 1.24388 & 107.449 & 24.7867 & $\\dots$ \\\\\n",
       "\t15 & 2021-12-18 & 46845.7 & 3961.12 & 0.826627 & 182.669 & 74.0328 & 1.24255 & 116.078 & 25.5029 & $\\dots$ \\\\\n",
       "\t16 & 2021-12-17 & 46191.6 & 3876.22 & 0.797542 & 175.274 & 65.6597 & 1.21786 & 110.808 & 24.6273 & $\\dots$ \\\\\n",
       "\t17 & 2021-12-16 & 47619.2 & 3956.13 & 0.804456 & 176.406 & 64.282 & 1.23802 & 98.3428 & 25.9704 & $\\dots$ \\\\\n",
       "\t18 & 2021-12-15 & 48878.9 & 4018.76 & 0.826407 & 178.237 & 61.5363 & 1.31112 & 101.189 & 27.1349 & $\\dots$ \\\\\n",
       "\t19 & 2021-12-14 & 48381.5 & 3858.71 & 0.81103 & 161.674 & 60.2732 & 1.26773 & 87.351 & 26.2111 & $\\dots$ \\\\\n",
       "\t20 & 2021-12-13 & 46744.9 & 3783.47 & 0.782082 & 155.102 & 52.8175 & 1.22528 & 79.1394 & 25.9711 & $\\dots$ \\\\\n",
       "\t21 & 2021-12-12 & 50106.3 & 4134.69 & 0.840667 & 173.371 & 61.9821 & 1.34735 & 88.0986 & 29.6227 & $\\dots$ \\\\\n",
       "\t22 & 2021-12-11 & 49391.2 & 4085.61 & 0.838938 & 171.964 & 60.0424 & 1.35403 & 86.4754 & 27.791 & $\\dots$ \\\\\n",
       "\t23 & 2021-12-10 & 47199.6 & 3905.45 & 0.799455 & 168.243 & 60.9494 & 1.21037 & 80.7018 & 26.4325 & $\\dots$ \\\\\n",
       "\t24 & 2021-12-09 & 47720.0 & 4120.09 & 0.861018 & 181.356 & 66.5874 & 1.29209 & 85.5246 & 26.9876 & $\\dots$ \\\\\n",
       "\t25 & 2021-12-08 & 50541.3 & 4443.7 & 0.863345 & 194.683 & 75.2255 & 1.39876 & 93.294 & 29.8912 & $\\dots$ \\\\\n",
       "\t26 & 2021-12-07 & 50672.5 & 4310.68 & 0.816523 & 190.347 & 68.8257 & 1.37976 & 89.6472 & 30.5463 & $\\dots$ \\\\\n",
       "\t27 & 2021-12-06 & 50630.9 & 4363.04 & 0.828697 & 194.141 & 67.398 & 1.42616 & 93.4604 & 28.2733 & $\\dots$ \\\\\n",
       "\t28 & 2021-12-05 & 49503.5 & 4207.94 & 0.807067 & 196.862 & 68.3729 & 1.38207 & 86.1041 & 28.3839 & $\\dots$ \\\\\n",
       "\t29 & 2021-12-04 & 49313.6 & 4128.87 & 0.848107 & 201.56 & 75.5628 & 1.4238 & 93.0693 & 29.4448 & $\\dots$ \\\\\n",
       "\t30 & 2021-12-03 & 53585.7 & 4219.12 & 0.920761 & 211.258 & 63.2996 & 1.55695 & 108.1 & 33.6528 & $\\dots$ \\\\\n",
       "\t$\\dots$ & $\\dots$ & $\\dots$ & $\\dots$ & $\\dots$ & $\\dots$ & $\\dots$ & $\\dots$ & $\\dots$ & $\\dots$ &  \\\\\n",
       "\\end{tabular}\n"
      ],
      "text/plain": [
       "\u001b[1m366×11 DataFrame\u001b[0m\n",
       "\u001b[1m Row \u001b[0m│\u001b[1m Date       \u001b[0m\u001b[1m BTC     \u001b[0m\u001b[1m ETH      \u001b[0m\u001b[1m XRP      \u001b[0m\u001b[1m SOL       \u001b[0m\u001b[1m LUNA      \u001b[0m\u001b[1m ADA     \u001b[0m ⋯\n",
       "\u001b[1m     \u001b[0m│\u001b[90m Date       \u001b[0m\u001b[90m Float64 \u001b[0m\u001b[90m Float64  \u001b[0m\u001b[90m Float64  \u001b[0m\u001b[90m Float64   \u001b[0m\u001b[90m Float64   \u001b[0m\u001b[90m Float64 \u001b[0m ⋯\n",
       "─────┼──────────────────────────────────────────────────────────────────────────\n",
       "   1 │ 2022-01-01  46181.5  3675.38   0.829368  169.98     85.4733    1.30796  ⋯\n",
       "   2 │ 2021-12-31  46175.7  3675.22   0.829491  169.867    85.4261    1.30615\n",
       "   3 │ 2021-12-30  47144.6  3711.54   0.838914  172.593    84.7173    1.35927\n",
       "   4 │ 2021-12-29  46450.4  3628.43   0.816511  170.774    84.1641    1.33047\n",
       "   5 │ 2021-12-28  47565.5  3797.55   0.851919  177.358    85.3572    1.40073  ⋯\n",
       "   6 │ 2021-12-27  50702.3  4041.64   0.926585  195.661    90.891     1.51408\n",
       "   7 │ 2021-12-26  50814.2  4066.1    0.920693  198.048    99.7597    1.45519\n",
       "   8 │ 2021-12-25  50435.6  4095.73   0.925013  193.072    98.2836    1.45388\n",
       "   9 │ 2021-12-24  50821.5  4047.17   0.910808  190.375    96.0153    1.39114  ⋯\n",
       "  10 │ 2021-12-23  50789.5  4109.71   0.993075  190.053    93.9176    1.47496\n",
       "  11 │ 2021-12-22  48612.7  3980.41   0.953634  178.577    85.4441    1.32693\n",
       "  ⋮  │     ⋮          ⋮        ⋮         ⋮          ⋮          ⋮         ⋮     ⋱\n",
       " 357 │ 2021-01-10  38203.4  1257.0    0.315203    3.45447   0.845053  0.302932\n",
       " 358 │ 2021-01-09  40250.6  1280.85   0.325822    3.38924   0.815963  0.331605 ⋯\n",
       " 359 │ 2021-01-08  40648.0  1218.86   0.321464    3.22077   0.849522  0.304515\n",
       " 360 │ 2021-01-07  39452.9  1225.26   0.323405    2.37015   0.857755  0.299837\n",
       " 361 │ 2021-01-06  36969.8  1210.8    0.249347    1.94555   0.716133  0.334327\n",
       " 362 │ 2021-01-05  34001.3  1101.19   0.225984    2.15806   0.71558   0.258903 ⋯\n",
       " 363 │ 2021-01-04  32033.7  1040.9    0.236076    2.49443   0.668823  0.225798\n",
       " 364 │ 2021-01-03  32974.3   975.212  0.224948    2.16401   0.658989  0.204902\n",
       " 365 │ 2021-01-02  32210.3   775.477  0.221105    1.80125   0.630157  0.17745\n",
       " 366 │ 2021-01-01  29401.0   730.931  0.237509    1.84405   0.649155  0.175393 ⋯\n",
       "\u001b[36m                                                  4 columns and 345 rows omitted\u001b[0m"
      ]
     },
     "execution_count": 64,
     "metadata": {},
     "output_type": "execute_result"
    }
   ],
   "source": [
    "df = DataFrame(\"Date\" => reverse!(collect(Date(2021,01,01):Day(1):Date(2022,01,01))),\n",
    "     \"BTC\" => reverse!(vec(convert(Array, select!(CSV.read(\"BTC.csv\", DataFrame), \"rate_close\")))),\n",
    "     \"ETH\"=> reverse!(vec(convert(Array, select!(CSV.read(\"ETH.csv\", DataFrame), \"rate_close\")))), \n",
    "     \"XRP\"=> reverse!(vec(convert(Array, select!(CSV.read(\"XRP.csv\", DataFrame), \"rate_close\")))),\n",
    "     \"SOL\"=> reverse!(vec(convert(Array, select!(CSV.read(\"SOL.csv\", DataFrame), \"rate_close\")))), \n",
    "     \"LUNA\"=> reverse!(vec(convert(Array, select!(CSV.read(\"LUNA.csv\", DataFrame), \"rate_close\")))),\n",
    "     \"ADA\"=> reverse!(vec(convert(Array, select!(CSV.read(\"ADA.csv\", DataFrame), \"rate_close\")))), \n",
    "     \"AVAX\"=> reverse!(vec(convert(Array, select!(CSV.read(\"AVAX.csv\", DataFrame), \"rate_close\")))), \n",
    "     \"DOT\"=> reverse!(vec(convert(Array, select!(CSV.read(\"DOT.csv\", DataFrame), \"rate_close\")))),\n",
    "     \"DOGE\"=> reverse!(vec(convert(Array, select!(CSV.read(\"DOGE.csv\", DataFrame), \"rate_close\")))), \n",
    "     \"MATIC\"=> reverse!(vec(convert(Array, select!(CSV.read(\"MATIC.csv\", DataFrame), \"rate_close\")))))\n",
    "\n",
    "#preprocessing data\n"
   ]
  },
  {
   "cell_type": "code",
   "execution_count": null,
   "metadata": {},
   "outputs": [],
   "source": [
    "# Polkadot_ = string_remover(df, 9)\n",
    "# # deleting the previous column and adding the new one\n",
    "# dff = select!(df, Not(:Polkadot))\n",
    "# #insert!(df, 9, Polkadot_, :Polkadot)\n",
    "# dff.Polkadot = Polkadot_"
   ]
  },
  {
   "cell_type": "code",
   "execution_count": null,
   "metadata": {},
   "outputs": [],
   "source": [
    "# for i in 2:10\n",
    "#     replace!(x -> x == \"null\" ? 0.0 : x , df[!,i])\n",
    "# end"
   ]
  },
  {
   "cell_type": "code",
   "execution_count": 65,
   "metadata": {},
   "outputs": [],
   "source": [
    "for i in 2:11\n",
    "    replace!(x -> (x - mean(df[!,i]))/var(df[!,i]), df[!,i])\n",
    "end"
   ]
  },
  {
   "cell_type": "code",
   "execution_count": 66,
   "metadata": {},
   "outputs": [
    {
     "data": {
      "image/svg+xml": "<?xml version=\"1.0\" encoding=\"utf-8\"?>\n<svg xmlns=\"http://www.w3.org/2000/svg\" xmlns:xlink=\"http://www.w3.org/1999/xlink\" width=\"600\" height=\"400\" viewBox=\"0 0 2400 1600\">\n<defs>\n  <clipPath id=\"clip800\">\n    <rect x=\"0\" y=\"0\" width=\"2400\" height=\"1600\"/>\n  </clipPath>\n</defs>\n<path clip-path=\"url(#clip800)\" d=\"\nM0 1600 L2400 1600 L2400 0 L0 0  Z\n  \" fill=\"#ffffff\" fill-rule=\"evenodd\" fill-opacity=\"1\"/>\n<defs>\n  <clipPath id=\"clip801\">\n    <rect x=\"480\" y=\"0\" width=\"1681\" height=\"1600\"/>\n  </clipPath>\n</defs>\n<defs>\n  <clipPath id=\"clip802\">\n    <rect x=\"210\" y=\"47\" width=\"2143\" height=\"1377\"/>\n  </clipPath>\n</defs>\n<path clip-path=\"url(#clip800)\" d=\"\nM175.445 1423.18 L2352.76 1423.18 L2352.76 47.2441 L175.445 47.2441  Z\n  \" fill=\"#ffffff\" fill-rule=\"evenodd\" fill-opacity=\"1\"/>\n<defs>\n  <clipPath id=\"clip803\">\n    <rect x=\"175\" y=\"47\" width=\"2178\" height=\"1377\"/>\n  </clipPath>\n</defs>\n<polyline clip-path=\"url(#clip803)\" style=\"stroke:#000000; stroke-linecap:butt; stroke-linejoin:round; stroke-width:2; stroke-opacity:0.1; fill:none\" points=\"\n  315.853,1423.18 315.853,47.2441 \n  \"/>\n<polyline clip-path=\"url(#clip803)\" style=\"stroke:#000000; stroke-linecap:butt; stroke-linejoin:round; stroke-width:2; stroke-opacity:0.1; fill:none\" points=\"\n  833.591,1423.18 833.591,47.2441 \n  \"/>\n<polyline clip-path=\"url(#clip803)\" style=\"stroke:#000000; stroke-linecap:butt; stroke-linejoin:round; stroke-width:2; stroke-opacity:0.1; fill:none\" points=\"\n  1351.33,1423.18 1351.33,47.2441 \n  \"/>\n<polyline clip-path=\"url(#clip803)\" style=\"stroke:#000000; stroke-linecap:butt; stroke-linejoin:round; stroke-width:2; stroke-opacity:0.1; fill:none\" points=\"\n  1869.07,1423.18 1869.07,47.2441 \n  \"/>\n<polyline clip-path=\"url(#clip800)\" style=\"stroke:#000000; stroke-linecap:butt; stroke-linejoin:round; stroke-width:4; stroke-opacity:1; fill:none\" points=\"\n  175.445,1423.18 2352.76,1423.18 \n  \"/>\n<polyline clip-path=\"url(#clip800)\" style=\"stroke:#000000; stroke-linecap:butt; stroke-linejoin:round; stroke-width:4; stroke-opacity:1; fill:none\" points=\"\n  315.853,1423.18 315.853,1404.28 \n  \"/>\n<polyline clip-path=\"url(#clip800)\" style=\"stroke:#000000; stroke-linecap:butt; stroke-linejoin:round; stroke-width:4; stroke-opacity:1; fill:none\" points=\"\n  833.591,1423.18 833.591,1404.28 \n  \"/>\n<polyline clip-path=\"url(#clip800)\" style=\"stroke:#000000; stroke-linecap:butt; stroke-linejoin:round; stroke-width:4; stroke-opacity:1; fill:none\" points=\"\n  1351.33,1423.18 1351.33,1404.28 \n  \"/>\n<polyline clip-path=\"url(#clip800)\" style=\"stroke:#000000; stroke-linecap:butt; stroke-linejoin:round; stroke-width:4; stroke-opacity:1; fill:none\" points=\"\n  1869.07,1423.18 1869.07,1404.28 \n  \"/>\n<path clip-path=\"url(#clip800)\" d=\"M187.648 1481.64 L203.967 1481.64 L203.967 1485.58 L182.023 1485.58 L182.023 1481.64 Q184.685 1478.89 189.268 1474.26 Q193.875 1469.61 195.055 1468.27 Q197.301 1465.74 198.18 1464.01 Q199.083 1462.25 199.083 1460.56 Q199.083 1457.8 197.139 1456.07 Q195.217 1454.33 192.116 1454.33 Q189.917 1454.33 187.463 1455.09 Q185.032 1455.86 182.255 1457.41 L182.255 1452.69 Q185.079 1451.55 187.532 1450.97 Q189.986 1450.39 192.023 1450.39 Q197.393 1450.39 200.588 1453.08 Q203.782 1455.77 203.782 1460.26 Q203.782 1462.39 202.972 1464.31 Q202.185 1466.2 200.078 1468.8 Q199.5 1469.47 196.398 1472.69 Q193.296 1475.88 187.648 1481.64 Z\" fill=\"#000000\" fill-rule=\"evenodd\" fill-opacity=\"1\" /><path clip-path=\"url(#clip800)\" d=\"M223.782 1454.1 Q220.171 1454.1 218.342 1457.66 Q216.537 1461.2 216.537 1468.33 Q216.537 1475.44 218.342 1479.01 Q220.171 1482.55 223.782 1482.55 Q227.416 1482.55 229.222 1479.01 Q231.051 1475.44 231.051 1468.33 Q231.051 1461.2 229.222 1457.66 Q227.416 1454.1 223.782 1454.1 M223.782 1450.39 Q229.592 1450.39 232.648 1455 Q235.726 1459.58 235.726 1468.33 Q235.726 1477.06 232.648 1481.67 Q229.592 1486.25 223.782 1486.25 Q217.972 1486.25 214.893 1481.67 Q211.838 1477.06 211.838 1468.33 Q211.838 1459.58 214.893 1455 Q217.972 1450.39 223.782 1450.39 Z\" fill=\"#000000\" fill-rule=\"evenodd\" fill-opacity=\"1\" /><path clip-path=\"url(#clip800)\" d=\"M247.972 1481.64 L264.291 1481.64 L264.291 1485.58 L242.347 1485.58 L242.347 1481.64 Q245.009 1478.89 249.592 1474.26 Q254.199 1469.61 255.379 1468.27 Q257.624 1465.74 258.504 1464.01 Q259.407 1462.25 259.407 1460.56 Q259.407 1457.8 257.462 1456.07 Q255.541 1454.33 252.439 1454.33 Q250.24 1454.33 247.787 1455.09 Q245.356 1455.86 242.578 1457.41 L242.578 1452.69 Q245.402 1451.55 247.856 1450.97 Q250.31 1450.39 252.347 1450.39 Q257.717 1450.39 260.911 1453.08 Q264.106 1455.77 264.106 1460.26 Q264.106 1462.39 263.296 1464.31 Q262.509 1466.2 260.402 1468.8 Q259.824 1469.47 256.722 1472.69 Q253.62 1475.88 247.972 1481.64 Z\" fill=\"#000000\" fill-rule=\"evenodd\" fill-opacity=\"1\" /><path clip-path=\"url(#clip800)\" d=\"M274.916 1481.64 L282.555 1481.64 L282.555 1455.28 L274.245 1456.95 L274.245 1452.69 L282.509 1451.02 L287.185 1451.02 L287.185 1481.64 L294.823 1481.64 L294.823 1485.58 L274.916 1485.58 L274.916 1481.64 Z\" fill=\"#000000\" fill-rule=\"evenodd\" fill-opacity=\"1\" /><path clip-path=\"url(#clip800)\" d=\"M301.513 1470.7 L313.99 1470.7 L313.99 1474.49 L301.513 1474.49 L301.513 1470.7 Z\" fill=\"#000000\" fill-rule=\"evenodd\" fill-opacity=\"1\" /><path clip-path=\"url(#clip800)\" d=\"M331.374 1454.1 Q327.763 1454.1 325.934 1457.66 Q324.129 1461.2 324.129 1468.33 Q324.129 1475.44 325.934 1479.01 Q327.763 1482.55 331.374 1482.55 Q335.008 1482.55 336.814 1479.01 Q338.643 1475.44 338.643 1468.33 Q338.643 1461.2 336.814 1457.66 Q335.008 1454.1 331.374 1454.1 M331.374 1450.39 Q337.184 1450.39 340.24 1455 Q343.318 1459.58 343.318 1468.33 Q343.318 1477.06 340.24 1481.67 Q337.184 1486.25 331.374 1486.25 Q325.564 1486.25 322.485 1481.67 Q319.43 1477.06 319.43 1468.33 Q319.43 1459.58 322.485 1455 Q325.564 1450.39 331.374 1450.39 Z\" fill=\"#000000\" fill-rule=\"evenodd\" fill-opacity=\"1\" /><path clip-path=\"url(#clip800)\" d=\"M351.582 1451.02 L369.939 1451.02 L369.939 1454.96 L355.865 1454.96 L355.865 1463.43 Q356.883 1463.08 357.902 1462.92 Q358.92 1462.73 359.939 1462.73 Q365.726 1462.73 369.105 1465.9 Q372.485 1469.08 372.485 1474.49 Q372.485 1480.07 369.013 1483.17 Q365.541 1486.25 359.221 1486.25 Q357.045 1486.25 354.777 1485.88 Q352.531 1485.51 350.124 1484.77 L350.124 1480.07 Q352.207 1481.2 354.43 1481.76 Q356.652 1482.32 359.129 1482.32 Q363.133 1482.32 365.471 1480.21 Q367.809 1478.1 367.809 1474.49 Q367.809 1470.88 365.471 1468.77 Q363.133 1466.67 359.129 1466.67 Q357.254 1466.67 355.379 1467.08 Q353.527 1467.5 351.582 1468.38 L351.582 1451.02 Z\" fill=\"#000000\" fill-rule=\"evenodd\" fill-opacity=\"1\" /><path clip-path=\"url(#clip800)\" d=\"M378.943 1470.7 L391.42 1470.7 L391.42 1474.49 L378.943 1474.49 L378.943 1470.7 Z\" fill=\"#000000\" fill-rule=\"evenodd\" fill-opacity=\"1\" /><path clip-path=\"url(#clip800)\" d=\"M408.804 1454.1 Q405.193 1454.1 403.364 1457.66 Q401.559 1461.2 401.559 1468.33 Q401.559 1475.44 403.364 1479.01 Q405.193 1482.55 408.804 1482.55 Q412.438 1482.55 414.244 1479.01 Q416.073 1475.44 416.073 1468.33 Q416.073 1461.2 414.244 1457.66 Q412.438 1454.1 408.804 1454.1 M408.804 1450.39 Q414.614 1450.39 417.67 1455 Q420.749 1459.58 420.749 1468.33 Q420.749 1477.06 417.67 1481.67 Q414.614 1486.25 408.804 1486.25 Q402.994 1486.25 399.915 1481.67 Q396.86 1477.06 396.86 1468.33 Q396.86 1459.58 399.915 1455 Q402.994 1450.39 408.804 1450.39 Z\" fill=\"#000000\" fill-rule=\"evenodd\" fill-opacity=\"1\" /><path clip-path=\"url(#clip800)\" d=\"M429.776 1481.64 L437.415 1481.64 L437.415 1455.28 L429.105 1456.95 L429.105 1452.69 L437.369 1451.02 L442.045 1451.02 L442.045 1481.64 L449.684 1481.64 L449.684 1485.58 L429.776 1485.58 L429.776 1481.64 Z\" fill=\"#000000\" fill-rule=\"evenodd\" fill-opacity=\"1\" /><path clip-path=\"url(#clip800)\" d=\"M705.385 1481.64 L721.705 1481.64 L721.705 1485.58 L699.76 1485.58 L699.76 1481.64 Q702.422 1478.89 707.006 1474.26 Q711.612 1469.61 712.793 1468.27 Q715.038 1465.74 715.918 1464.01 Q716.82 1462.25 716.82 1460.56 Q716.82 1457.8 714.876 1456.07 Q712.955 1454.33 709.853 1454.33 Q707.654 1454.33 705.2 1455.09 Q702.77 1455.86 699.992 1457.41 L699.992 1452.69 Q702.816 1451.55 705.27 1450.97 Q707.723 1450.39 709.76 1450.39 Q715.131 1450.39 718.325 1453.08 Q721.52 1455.77 721.52 1460.26 Q721.52 1462.39 720.709 1464.31 Q719.922 1466.2 717.816 1468.8 Q717.237 1469.47 714.135 1472.69 Q711.033 1475.88 705.385 1481.64 Z\" fill=\"#000000\" fill-rule=\"evenodd\" fill-opacity=\"1\" /><path clip-path=\"url(#clip800)\" d=\"M741.519 1454.1 Q737.908 1454.1 736.08 1457.66 Q734.274 1461.2 734.274 1468.33 Q734.274 1475.44 736.08 1479.01 Q737.908 1482.55 741.519 1482.55 Q745.154 1482.55 746.959 1479.01 Q748.788 1475.44 748.788 1468.33 Q748.788 1461.2 746.959 1457.66 Q745.154 1454.1 741.519 1454.1 M741.519 1450.39 Q747.33 1450.39 750.385 1455 Q753.464 1459.58 753.464 1468.33 Q753.464 1477.06 750.385 1481.67 Q747.33 1486.25 741.519 1486.25 Q735.709 1486.25 732.631 1481.67 Q729.575 1477.06 729.575 1468.33 Q729.575 1459.58 732.631 1455 Q735.709 1450.39 741.519 1450.39 Z\" fill=\"#000000\" fill-rule=\"evenodd\" fill-opacity=\"1\" /><path clip-path=\"url(#clip800)\" d=\"M765.709 1481.64 L782.028 1481.64 L782.028 1485.58 L760.084 1485.58 L760.084 1481.64 Q762.746 1478.89 767.329 1474.26 Q771.936 1469.61 773.116 1468.27 Q775.362 1465.74 776.241 1464.01 Q777.144 1462.25 777.144 1460.56 Q777.144 1457.8 775.2 1456.07 Q773.279 1454.33 770.177 1454.33 Q767.978 1454.33 765.524 1455.09 Q763.093 1455.86 760.316 1457.41 L760.316 1452.69 Q763.14 1451.55 765.593 1450.97 Q768.047 1450.39 770.084 1450.39 Q775.454 1450.39 778.649 1453.08 Q781.843 1455.77 781.843 1460.26 Q781.843 1462.39 781.033 1464.31 Q780.246 1466.2 778.14 1468.8 Q777.561 1469.47 774.459 1472.69 Q771.357 1475.88 765.709 1481.64 Z\" fill=\"#000000\" fill-rule=\"evenodd\" fill-opacity=\"1\" /><path clip-path=\"url(#clip800)\" d=\"M792.653 1481.64 L800.292 1481.64 L800.292 1455.28 L791.982 1456.95 L791.982 1452.69 L800.246 1451.02 L804.922 1451.02 L804.922 1481.64 L812.561 1481.64 L812.561 1485.58 L792.653 1485.58 L792.653 1481.64 Z\" fill=\"#000000\" fill-rule=\"evenodd\" fill-opacity=\"1\" /><path clip-path=\"url(#clip800)\" d=\"M819.25 1470.7 L831.727 1470.7 L831.727 1474.49 L819.25 1474.49 L819.25 1470.7 Z\" fill=\"#000000\" fill-rule=\"evenodd\" fill-opacity=\"1\" /><path clip-path=\"url(#clip800)\" d=\"M849.111 1454.1 Q845.5 1454.1 843.672 1457.66 Q841.866 1461.2 841.866 1468.33 Q841.866 1475.44 843.672 1479.01 Q845.5 1482.55 849.111 1482.55 Q852.746 1482.55 854.551 1479.01 Q856.38 1475.44 856.38 1468.33 Q856.38 1461.2 854.551 1457.66 Q852.746 1454.1 849.111 1454.1 M849.111 1450.39 Q854.922 1450.39 857.977 1455 Q861.056 1459.58 861.056 1468.33 Q861.056 1477.06 857.977 1481.67 Q854.922 1486.25 849.111 1486.25 Q843.301 1486.25 840.223 1481.67 Q837.167 1477.06 837.167 1468.33 Q837.167 1459.58 840.223 1455 Q843.301 1450.39 849.111 1450.39 Z\" fill=\"#000000\" fill-rule=\"evenodd\" fill-opacity=\"1\" /><path clip-path=\"url(#clip800)\" d=\"M879.273 1469.17 Q875.94 1469.17 874.019 1470.95 Q872.121 1472.73 872.121 1475.86 Q872.121 1478.98 874.019 1480.77 Q875.94 1482.55 879.273 1482.55 Q882.607 1482.55 884.528 1480.77 Q886.449 1478.96 886.449 1475.86 Q886.449 1472.73 884.528 1470.95 Q882.63 1469.17 879.273 1469.17 M874.597 1467.18 Q871.588 1466.44 869.898 1464.38 Q868.232 1462.32 868.232 1459.35 Q868.232 1455.21 871.172 1452.8 Q874.134 1450.39 879.273 1450.39 Q884.435 1450.39 887.375 1452.8 Q890.315 1455.21 890.315 1459.35 Q890.315 1462.32 888.625 1464.38 Q886.958 1466.44 883.972 1467.18 Q887.352 1467.96 889.227 1470.26 Q891.125 1472.55 891.125 1475.86 Q891.125 1480.88 888.046 1483.57 Q884.991 1486.25 879.273 1486.25 Q873.556 1486.25 870.477 1483.57 Q867.422 1480.88 867.422 1475.86 Q867.422 1472.55 869.32 1470.26 Q871.218 1467.96 874.597 1467.18 M872.884 1459.79 Q872.884 1462.48 874.551 1463.98 Q876.241 1465.49 879.273 1465.49 Q882.283 1465.49 883.972 1463.98 Q885.685 1462.48 885.685 1459.79 Q885.685 1457.11 883.972 1455.6 Q882.283 1454.1 879.273 1454.1 Q876.241 1454.1 874.551 1455.6 Q872.884 1457.11 872.884 1459.79 Z\" fill=\"#000000\" fill-rule=\"evenodd\" fill-opacity=\"1\" /><path clip-path=\"url(#clip800)\" d=\"M896.681 1470.7 L909.157 1470.7 L909.157 1474.49 L896.681 1474.49 L896.681 1470.7 Z\" fill=\"#000000\" fill-rule=\"evenodd\" fill-opacity=\"1\" /><path clip-path=\"url(#clip800)\" d=\"M926.542 1454.1 Q922.93 1454.1 921.102 1457.66 Q919.296 1461.2 919.296 1468.33 Q919.296 1475.44 921.102 1479.01 Q922.93 1482.55 926.542 1482.55 Q930.176 1482.55 931.981 1479.01 Q933.81 1475.44 933.81 1468.33 Q933.81 1461.2 931.981 1457.66 Q930.176 1454.1 926.542 1454.1 M926.542 1450.39 Q932.352 1450.39 935.407 1455 Q938.486 1459.58 938.486 1468.33 Q938.486 1477.06 935.407 1481.67 Q932.352 1486.25 926.542 1486.25 Q920.731 1486.25 917.653 1481.67 Q914.597 1477.06 914.597 1468.33 Q914.597 1459.58 917.653 1455 Q920.731 1450.39 926.542 1450.39 Z\" fill=\"#000000\" fill-rule=\"evenodd\" fill-opacity=\"1\" /><path clip-path=\"url(#clip800)\" d=\"M947.514 1481.64 L955.153 1481.64 L955.153 1455.28 L946.842 1456.95 L946.842 1452.69 L955.106 1451.02 L959.782 1451.02 L959.782 1481.64 L967.421 1481.64 L967.421 1485.58 L947.514 1485.58 L947.514 1481.64 Z\" fill=\"#000000\" fill-rule=\"evenodd\" fill-opacity=\"1\" /><path clip-path=\"url(#clip800)\" d=\"M1223.12 1481.64 L1239.44 1481.64 L1239.44 1485.58 L1217.5 1485.58 L1217.5 1481.64 Q1220.16 1478.89 1224.74 1474.26 Q1229.35 1469.61 1230.53 1468.27 Q1232.78 1465.74 1233.66 1464.01 Q1234.56 1462.25 1234.56 1460.56 Q1234.56 1457.8 1232.61 1456.07 Q1230.69 1454.33 1227.59 1454.33 Q1225.39 1454.33 1222.94 1455.09 Q1220.51 1455.86 1217.73 1457.41 L1217.73 1452.69 Q1220.55 1451.55 1223.01 1450.97 Q1225.46 1450.39 1227.5 1450.39 Q1232.87 1450.39 1236.06 1453.08 Q1239.26 1455.77 1239.26 1460.26 Q1239.26 1462.39 1238.45 1464.31 Q1237.66 1466.2 1235.55 1468.8 Q1234.97 1469.47 1231.87 1472.69 Q1228.77 1475.88 1223.12 1481.64 Z\" fill=\"#000000\" fill-rule=\"evenodd\" fill-opacity=\"1\" /><path clip-path=\"url(#clip800)\" d=\"M1259.26 1454.1 Q1255.65 1454.1 1253.82 1457.66 Q1252.01 1461.2 1252.01 1468.33 Q1252.01 1475.44 1253.82 1479.01 Q1255.65 1482.55 1259.26 1482.55 Q1262.89 1482.55 1264.7 1479.01 Q1266.53 1475.44 1266.53 1468.33 Q1266.53 1461.2 1264.7 1457.66 Q1262.89 1454.1 1259.26 1454.1 M1259.26 1450.39 Q1265.07 1450.39 1268.12 1455 Q1271.2 1459.58 1271.2 1468.33 Q1271.2 1477.06 1268.12 1481.67 Q1265.07 1486.25 1259.26 1486.25 Q1253.45 1486.25 1250.37 1481.67 Q1247.31 1477.06 1247.31 1468.33 Q1247.31 1459.58 1250.37 1455 Q1253.45 1450.39 1259.26 1450.39 Z\" fill=\"#000000\" fill-rule=\"evenodd\" fill-opacity=\"1\" /><path clip-path=\"url(#clip800)\" d=\"M1283.45 1481.64 L1299.77 1481.64 L1299.77 1485.58 L1277.82 1485.58 L1277.82 1481.64 Q1280.48 1478.89 1285.07 1474.26 Q1289.67 1469.61 1290.85 1468.27 Q1293.1 1465.74 1293.98 1464.01 Q1294.88 1462.25 1294.88 1460.56 Q1294.88 1457.8 1292.94 1456.07 Q1291.02 1454.33 1287.91 1454.33 Q1285.71 1454.33 1283.26 1455.09 Q1280.83 1455.86 1278.05 1457.41 L1278.05 1452.69 Q1280.88 1451.55 1283.33 1450.97 Q1285.78 1450.39 1287.82 1450.39 Q1293.19 1450.39 1296.39 1453.08 Q1299.58 1455.77 1299.58 1460.26 Q1299.58 1462.39 1298.77 1464.31 Q1297.98 1466.2 1295.88 1468.8 Q1295.3 1469.47 1292.2 1472.69 Q1289.09 1475.88 1283.45 1481.64 Z\" fill=\"#000000\" fill-rule=\"evenodd\" fill-opacity=\"1\" /><path clip-path=\"url(#clip800)\" d=\"M1310.39 1481.64 L1318.03 1481.64 L1318.03 1455.28 L1309.72 1456.95 L1309.72 1452.69 L1317.98 1451.02 L1322.66 1451.02 L1322.66 1481.64 L1330.3 1481.64 L1330.3 1485.58 L1310.39 1485.58 L1310.39 1481.64 Z\" fill=\"#000000\" fill-rule=\"evenodd\" fill-opacity=\"1\" /><path clip-path=\"url(#clip800)\" d=\"M1336.99 1470.7 L1349.46 1470.7 L1349.46 1474.49 L1336.99 1474.49 L1336.99 1470.7 Z\" fill=\"#000000\" fill-rule=\"evenodd\" fill-opacity=\"1\" /><path clip-path=\"url(#clip800)\" d=\"M1357.66 1481.64 L1365.3 1481.64 L1365.3 1455.28 L1356.99 1456.95 L1356.99 1452.69 L1365.25 1451.02 L1369.93 1451.02 L1369.93 1481.64 L1377.57 1481.64 L1377.57 1485.58 L1357.66 1485.58 L1357.66 1481.64 Z\" fill=\"#000000\" fill-rule=\"evenodd\" fill-opacity=\"1\" /><path clip-path=\"url(#clip800)\" d=\"M1387.82 1481.64 L1395.46 1481.64 L1395.46 1455.28 L1387.15 1456.95 L1387.15 1452.69 L1395.41 1451.02 L1400.09 1451.02 L1400.09 1481.64 L1407.73 1481.64 L1407.73 1485.58 L1387.82 1485.58 L1387.82 1481.64 Z\" fill=\"#000000\" fill-rule=\"evenodd\" fill-opacity=\"1\" /><path clip-path=\"url(#clip800)\" d=\"M1414.42 1470.7 L1426.89 1470.7 L1426.89 1474.49 L1414.42 1474.49 L1414.42 1470.7 Z\" fill=\"#000000\" fill-rule=\"evenodd\" fill-opacity=\"1\" /><path clip-path=\"url(#clip800)\" d=\"M1444.28 1454.1 Q1440.67 1454.1 1438.84 1457.66 Q1437.03 1461.2 1437.03 1468.33 Q1437.03 1475.44 1438.84 1479.01 Q1440.67 1482.55 1444.28 1482.55 Q1447.91 1482.55 1449.72 1479.01 Q1451.55 1475.44 1451.55 1468.33 Q1451.55 1461.2 1449.72 1457.66 Q1447.91 1454.1 1444.28 1454.1 M1444.28 1450.39 Q1450.09 1450.39 1453.14 1455 Q1456.22 1459.58 1456.22 1468.33 Q1456.22 1477.06 1453.14 1481.67 Q1450.09 1486.25 1444.28 1486.25 Q1438.47 1486.25 1435.39 1481.67 Q1432.33 1477.06 1432.33 1468.33 Q1432.33 1459.58 1435.39 1455 Q1438.47 1450.39 1444.28 1450.39 Z\" fill=\"#000000\" fill-rule=\"evenodd\" fill-opacity=\"1\" /><path clip-path=\"url(#clip800)\" d=\"M1465.25 1481.64 L1472.89 1481.64 L1472.89 1455.28 L1464.58 1456.95 L1464.58 1452.69 L1472.84 1451.02 L1477.52 1451.02 L1477.52 1481.64 L1485.16 1481.64 L1485.16 1485.58 L1465.25 1485.58 L1465.25 1481.64 Z\" fill=\"#000000\" fill-rule=\"evenodd\" fill-opacity=\"1\" /><path clip-path=\"url(#clip800)\" d=\"M1740.86 1481.64 L1757.18 1481.64 L1757.18 1485.58 L1735.24 1485.58 L1735.24 1481.64 Q1737.9 1478.89 1742.48 1474.26 Q1747.09 1469.61 1748.27 1468.27 Q1750.51 1465.74 1751.39 1464.01 Q1752.3 1462.25 1752.3 1460.56 Q1752.3 1457.8 1750.35 1456.07 Q1748.43 1454.33 1745.33 1454.33 Q1743.13 1454.33 1740.67 1455.09 Q1738.24 1455.86 1735.47 1457.41 L1735.47 1452.69 Q1738.29 1451.55 1740.74 1450.97 Q1743.2 1450.39 1745.24 1450.39 Q1750.61 1450.39 1753.8 1453.08 Q1756.99 1455.77 1756.99 1460.26 Q1756.99 1462.39 1756.18 1464.31 Q1755.4 1466.2 1753.29 1468.8 Q1752.71 1469.47 1749.61 1472.69 Q1746.51 1475.88 1740.86 1481.64 Z\" fill=\"#000000\" fill-rule=\"evenodd\" fill-opacity=\"1\" /><path clip-path=\"url(#clip800)\" d=\"M1776.99 1454.1 Q1773.38 1454.1 1771.55 1457.66 Q1769.75 1461.2 1769.75 1468.33 Q1769.75 1475.44 1771.55 1479.01 Q1773.38 1482.55 1776.99 1482.55 Q1780.63 1482.55 1782.43 1479.01 Q1784.26 1475.44 1784.26 1468.33 Q1784.26 1461.2 1782.43 1457.66 Q1780.63 1454.1 1776.99 1454.1 M1776.99 1450.39 Q1782.8 1450.39 1785.86 1455 Q1788.94 1459.58 1788.94 1468.33 Q1788.94 1477.06 1785.86 1481.67 Q1782.8 1486.25 1776.99 1486.25 Q1771.18 1486.25 1768.11 1481.67 Q1765.05 1477.06 1765.05 1468.33 Q1765.05 1459.58 1768.11 1455 Q1771.18 1450.39 1776.99 1450.39 Z\" fill=\"#000000\" fill-rule=\"evenodd\" fill-opacity=\"1\" /><path clip-path=\"url(#clip800)\" d=\"M1801.18 1481.64 L1817.5 1481.64 L1817.5 1485.58 L1795.56 1485.58 L1795.56 1481.64 Q1798.22 1478.89 1802.8 1474.26 Q1807.41 1469.61 1808.59 1468.27 Q1810.84 1465.74 1811.72 1464.01 Q1812.62 1462.25 1812.62 1460.56 Q1812.62 1457.8 1810.67 1456.07 Q1808.75 1454.33 1805.65 1454.33 Q1803.45 1454.33 1801 1455.09 Q1798.57 1455.86 1795.79 1457.41 L1795.79 1452.69 Q1798.61 1451.55 1801.07 1450.97 Q1803.52 1450.39 1805.56 1450.39 Q1810.93 1450.39 1814.12 1453.08 Q1817.32 1455.77 1817.32 1460.26 Q1817.32 1462.39 1816.51 1464.31 Q1815.72 1466.2 1813.61 1468.8 Q1813.04 1469.47 1809.93 1472.69 Q1806.83 1475.88 1801.18 1481.64 Z\" fill=\"#000000\" fill-rule=\"evenodd\" fill-opacity=\"1\" /><path clip-path=\"url(#clip800)\" d=\"M1831.35 1481.64 L1847.67 1481.64 L1847.67 1485.58 L1825.72 1485.58 L1825.72 1481.64 Q1828.38 1478.89 1832.97 1474.26 Q1837.57 1469.61 1838.75 1468.27 Q1841 1465.74 1841.88 1464.01 Q1842.78 1462.25 1842.78 1460.56 Q1842.78 1457.8 1840.84 1456.07 Q1838.92 1454.33 1835.81 1454.33 Q1833.61 1454.33 1831.16 1455.09 Q1828.73 1455.86 1825.95 1457.41 L1825.95 1452.69 Q1828.78 1451.55 1831.23 1450.97 Q1833.68 1450.39 1835.72 1450.39 Q1841.09 1450.39 1844.29 1453.08 Q1847.48 1455.77 1847.48 1460.26 Q1847.48 1462.39 1846.67 1464.31 Q1845.88 1466.2 1843.78 1468.8 Q1843.2 1469.47 1840.1 1472.69 Q1836.99 1475.88 1831.35 1481.64 Z\" fill=\"#000000\" fill-rule=\"evenodd\" fill-opacity=\"1\" /><path clip-path=\"url(#clip800)\" d=\"M1854.73 1470.7 L1867.2 1470.7 L1867.2 1474.49 L1854.73 1474.49 L1854.73 1470.7 Z\" fill=\"#000000\" fill-rule=\"evenodd\" fill-opacity=\"1\" /><path clip-path=\"url(#clip800)\" d=\"M1884.59 1454.1 Q1880.98 1454.1 1879.15 1457.66 Q1877.34 1461.2 1877.34 1468.33 Q1877.34 1475.44 1879.15 1479.01 Q1880.98 1482.55 1884.59 1482.55 Q1888.22 1482.55 1890.03 1479.01 Q1891.85 1475.44 1891.85 1468.33 Q1891.85 1461.2 1890.03 1457.66 Q1888.22 1454.1 1884.59 1454.1 M1884.59 1450.39 Q1890.4 1450.39 1893.45 1455 Q1896.53 1459.58 1896.53 1468.33 Q1896.53 1477.06 1893.45 1481.67 Q1890.4 1486.25 1884.59 1486.25 Q1878.78 1486.25 1875.7 1481.67 Q1872.64 1477.06 1872.64 1468.33 Q1872.64 1459.58 1875.7 1455 Q1878.78 1450.39 1884.59 1450.39 Z\" fill=\"#000000\" fill-rule=\"evenodd\" fill-opacity=\"1\" /><path clip-path=\"url(#clip800)\" d=\"M1908.78 1481.64 L1925.1 1481.64 L1925.1 1485.58 L1903.15 1485.58 L1903.15 1481.64 Q1905.81 1478.89 1910.4 1474.26 Q1915 1469.61 1916.18 1468.27 Q1918.43 1465.74 1919.31 1464.01 Q1920.21 1462.25 1920.21 1460.56 Q1920.21 1457.8 1918.27 1456.07 Q1916.35 1454.33 1913.24 1454.33 Q1911.04 1454.33 1908.59 1455.09 Q1906.16 1455.86 1903.38 1457.41 L1903.38 1452.69 Q1906.21 1451.55 1908.66 1450.97 Q1911.11 1450.39 1913.15 1450.39 Q1918.52 1450.39 1921.72 1453.08 Q1924.91 1455.77 1924.91 1460.26 Q1924.91 1462.39 1924.1 1464.31 Q1923.31 1466.2 1921.21 1468.8 Q1920.63 1469.47 1917.53 1472.69 Q1914.42 1475.88 1908.78 1481.64 Z\" fill=\"#000000\" fill-rule=\"evenodd\" fill-opacity=\"1\" /><path clip-path=\"url(#clip800)\" d=\"M1932.16 1470.7 L1944.63 1470.7 L1944.63 1474.49 L1932.16 1474.49 L1932.16 1470.7 Z\" fill=\"#000000\" fill-rule=\"evenodd\" fill-opacity=\"1\" /><path clip-path=\"url(#clip800)\" d=\"M1962.02 1454.1 Q1958.41 1454.1 1956.58 1457.66 Q1954.77 1461.2 1954.77 1468.33 Q1954.77 1475.44 1956.58 1479.01 Q1958.41 1482.55 1962.02 1482.55 Q1965.65 1482.55 1967.46 1479.01 Q1969.28 1475.44 1969.28 1468.33 Q1969.28 1461.2 1967.46 1457.66 Q1965.65 1454.1 1962.02 1454.1 M1962.02 1450.39 Q1967.83 1450.39 1970.88 1455 Q1973.96 1459.58 1973.96 1468.33 Q1973.96 1477.06 1970.88 1481.67 Q1967.83 1486.25 1962.02 1486.25 Q1956.21 1486.25 1953.13 1481.67 Q1950.07 1477.06 1950.07 1468.33 Q1950.07 1459.58 1953.13 1455 Q1956.21 1450.39 1962.02 1450.39 Z\" fill=\"#000000\" fill-rule=\"evenodd\" fill-opacity=\"1\" /><path clip-path=\"url(#clip800)\" d=\"M1982.99 1481.64 L1990.63 1481.64 L1990.63 1455.28 L1982.32 1456.95 L1982.32 1452.69 L1990.58 1451.02 L1995.26 1451.02 L1995.26 1481.64 L2002.9 1481.64 L2002.9 1485.58 L1982.99 1485.58 L1982.99 1481.64 Z\" fill=\"#000000\" fill-rule=\"evenodd\" fill-opacity=\"1\" /><path clip-path=\"url(#clip800)\" d=\"M1197.56 1525.81 L1197.56 1562.76 L1205.33 1562.76 Q1215.16 1562.76 1219.72 1558.3 Q1224.3 1553.85 1224.3 1544.24 Q1224.3 1534.69 1219.72 1530.26 Q1215.16 1525.81 1205.33 1525.81 L1197.56 1525.81 M1191.13 1520.52 L1204.34 1520.52 Q1218.16 1520.52 1224.62 1526.28 Q1231.08 1532.01 1231.08 1544.24 Q1231.08 1556.52 1224.59 1562.28 Q1218.09 1568.04 1204.34 1568.04 L1191.13 1568.04 L1191.13 1520.52 Z\" fill=\"#000000\" fill-rule=\"evenodd\" fill-opacity=\"1\" /><path clip-path=\"url(#clip800)\" d=\"M1257.27 1550.12 Q1250.18 1550.12 1247.44 1551.75 Q1244.7 1553.37 1244.7 1557.29 Q1244.7 1560.4 1246.74 1562.25 Q1248.81 1564.07 1252.34 1564.07 Q1257.21 1564.07 1260.14 1560.63 Q1263.1 1557.16 1263.1 1551.43 L1263.1 1550.12 L1257.27 1550.12 M1268.95 1547.71 L1268.95 1568.04 L1263.1 1568.04 L1263.1 1562.63 Q1261.09 1565.88 1258.1 1567.44 Q1255.11 1568.97 1250.78 1568.97 Q1245.31 1568.97 1242.06 1565.91 Q1238.84 1562.82 1238.84 1557.67 Q1238.84 1551.65 1242.86 1548.6 Q1246.9 1545.54 1254.89 1545.54 L1263.1 1545.54 L1263.1 1544.97 Q1263.1 1540.93 1260.42 1538.73 Q1257.78 1536.5 1252.98 1536.5 Q1249.92 1536.5 1247.02 1537.23 Q1244.13 1537.97 1241.45 1539.43 L1241.45 1534.02 Q1244.67 1532.78 1247.69 1532.17 Q1250.72 1531.54 1253.58 1531.54 Q1261.32 1531.54 1265.13 1535.55 Q1268.95 1539.56 1268.95 1547.71 Z\" fill=\"#000000\" fill-rule=\"evenodd\" fill-opacity=\"1\" /><path clip-path=\"url(#clip800)\" d=\"M1286.81 1522.27 L1286.81 1532.4 L1298.87 1532.4 L1298.87 1536.95 L1286.81 1536.95 L1286.81 1556.3 Q1286.81 1560.66 1287.99 1561.9 Q1289.2 1563.14 1292.86 1563.14 L1298.87 1563.14 L1298.87 1568.04 L1292.86 1568.04 Q1286.08 1568.04 1283.5 1565.53 Q1280.92 1562.98 1280.92 1556.3 L1280.92 1536.95 L1276.63 1536.95 L1276.63 1532.4 L1280.92 1532.4 L1280.92 1522.27 L1286.81 1522.27 Z\" fill=\"#000000\" fill-rule=\"evenodd\" fill-opacity=\"1\" /><path clip-path=\"url(#clip800)\" d=\"M1337.07 1548.76 L1337.07 1551.62 L1310.14 1551.62 Q1310.52 1557.67 1313.77 1560.85 Q1317.05 1564 1322.87 1564 Q1326.25 1564 1329.4 1563.17 Q1332.58 1562.35 1335.7 1560.69 L1335.7 1566.23 Q1332.55 1567.57 1329.24 1568.27 Q1325.93 1568.97 1322.52 1568.97 Q1313.99 1568.97 1308.99 1564 Q1304.03 1559.04 1304.03 1550.57 Q1304.03 1541.82 1308.74 1536.69 Q1313.48 1531.54 1321.5 1531.54 Q1328.7 1531.54 1332.87 1536.18 Q1337.07 1540.8 1337.07 1548.76 M1331.21 1547.04 Q1331.15 1542.23 1328.51 1539.37 Q1325.9 1536.5 1321.57 1536.5 Q1316.67 1536.5 1313.71 1539.27 Q1310.78 1542.04 1310.33 1547.07 L1331.21 1547.04 Z\" fill=\"#000000\" fill-rule=\"evenodd\" fill-opacity=\"1\" /><polyline clip-path=\"url(#clip803)\" style=\"stroke:#000000; stroke-linecap:butt; stroke-linejoin:round; stroke-width:2; stroke-opacity:0.1; fill:none\" points=\"\n  175.445,1223.2 2352.76,1223.2 \n  \"/>\n<polyline clip-path=\"url(#clip803)\" style=\"stroke:#000000; stroke-linecap:butt; stroke-linejoin:round; stroke-width:2; stroke-opacity:0.1; fill:none\" points=\"\n  175.445,1011.74 2352.76,1011.74 \n  \"/>\n<polyline clip-path=\"url(#clip803)\" style=\"stroke:#000000; stroke-linecap:butt; stroke-linejoin:round; stroke-width:2; stroke-opacity:0.1; fill:none\" points=\"\n  175.445,800.279 2352.76,800.279 \n  \"/>\n<polyline clip-path=\"url(#clip803)\" style=\"stroke:#000000; stroke-linecap:butt; stroke-linejoin:round; stroke-width:2; stroke-opacity:0.1; fill:none\" points=\"\n  175.445,588.818 2352.76,588.818 \n  \"/>\n<polyline clip-path=\"url(#clip803)\" style=\"stroke:#000000; stroke-linecap:butt; stroke-linejoin:round; stroke-width:2; stroke-opacity:0.1; fill:none\" points=\"\n  175.445,377.357 2352.76,377.357 \n  \"/>\n<polyline clip-path=\"url(#clip803)\" style=\"stroke:#000000; stroke-linecap:butt; stroke-linejoin:round; stroke-width:2; stroke-opacity:0.1; fill:none\" points=\"\n  175.445,165.897 2352.76,165.897 \n  \"/>\n<polyline clip-path=\"url(#clip800)\" style=\"stroke:#000000; stroke-linecap:butt; stroke-linejoin:round; stroke-width:4; stroke-opacity:1; fill:none\" points=\"\n  175.445,1423.18 175.445,47.2441 \n  \"/>\n<polyline clip-path=\"url(#clip800)\" style=\"stroke:#000000; stroke-linecap:butt; stroke-linejoin:round; stroke-width:4; stroke-opacity:1; fill:none\" points=\"\n  175.445,1223.2 194.343,1223.2 \n  \"/>\n<polyline clip-path=\"url(#clip800)\" style=\"stroke:#000000; stroke-linecap:butt; stroke-linejoin:round; stroke-width:4; stroke-opacity:1; fill:none\" points=\"\n  175.445,1011.74 194.343,1011.74 \n  \"/>\n<polyline clip-path=\"url(#clip800)\" style=\"stroke:#000000; stroke-linecap:butt; stroke-linejoin:round; stroke-width:4; stroke-opacity:1; fill:none\" points=\"\n  175.445,800.279 194.343,800.279 \n  \"/>\n<polyline clip-path=\"url(#clip800)\" style=\"stroke:#000000; stroke-linecap:butt; stroke-linejoin:round; stroke-width:4; stroke-opacity:1; fill:none\" points=\"\n  175.445,588.818 194.343,588.818 \n  \"/>\n<polyline clip-path=\"url(#clip800)\" style=\"stroke:#000000; stroke-linecap:butt; stroke-linejoin:round; stroke-width:4; stroke-opacity:1; fill:none\" points=\"\n  175.445,377.357 194.343,377.357 \n  \"/>\n<polyline clip-path=\"url(#clip800)\" style=\"stroke:#000000; stroke-linecap:butt; stroke-linejoin:round; stroke-width:4; stroke-opacity:1; fill:none\" points=\"\n  175.445,165.897 194.343,165.897 \n  \"/>\n<path clip-path=\"url(#clip800)\" d=\"M127.501 1209 Q123.89 1209 122.061 1212.56 Q120.255 1216.11 120.255 1223.24 Q120.255 1230.34 122.061 1233.91 Q123.89 1237.45 127.501 1237.45 Q131.135 1237.45 132.941 1233.91 Q134.769 1230.34 134.769 1223.24 Q134.769 1216.11 132.941 1212.56 Q131.135 1209 127.501 1209 M127.501 1205.3 Q133.311 1205.3 136.367 1209.9 Q139.445 1214.49 139.445 1223.24 Q139.445 1231.96 136.367 1236.57 Q133.311 1241.15 127.501 1241.15 Q121.691 1241.15 118.612 1236.57 Q115.556 1231.96 115.556 1223.24 Q115.556 1214.49 118.612 1209.9 Q121.691 1205.3 127.501 1205.3 Z\" fill=\"#000000\" fill-rule=\"evenodd\" fill-opacity=\"1\" /><path clip-path=\"url(#clip800)\" d=\"M119.538 1025.08 L127.177 1025.08 L127.177 998.719 L118.867 1000.39 L118.867 996.126 L127.13 994.46 L131.806 994.46 L131.806 1025.08 L139.445 1025.08 L139.445 1029.02 L119.538 1029.02 L119.538 1025.08 Z\" fill=\"#000000\" fill-rule=\"evenodd\" fill-opacity=\"1\" /><path clip-path=\"url(#clip800)\" d=\"M123.126 813.624 L139.445 813.624 L139.445 817.559 L117.501 817.559 L117.501 813.624 Q120.163 810.869 124.746 806.239 Q129.353 801.587 130.533 800.244 Q132.779 797.721 133.658 795.985 Q134.561 794.226 134.561 792.536 Q134.561 789.781 132.617 788.045 Q130.695 786.309 127.593 786.309 Q125.394 786.309 122.941 787.073 Q120.51 787.837 117.732 789.388 L117.732 784.665 Q120.556 783.531 123.01 782.953 Q125.464 782.374 127.501 782.374 Q132.871 782.374 136.066 785.059 Q139.26 787.744 139.26 792.235 Q139.26 794.364 138.45 796.286 Q137.663 798.184 135.556 800.776 Q134.978 801.448 131.876 804.665 Q128.774 807.86 123.126 813.624 Z\" fill=\"#000000\" fill-rule=\"evenodd\" fill-opacity=\"1\" /><path clip-path=\"url(#clip800)\" d=\"M132.316 587.464 Q135.672 588.181 137.547 590.45 Q139.445 592.719 139.445 596.052 Q139.445 601.168 135.927 603.968 Q132.408 606.769 125.927 606.769 Q123.751 606.769 121.436 606.33 Q119.144 605.913 116.691 605.056 L116.691 600.543 Q118.635 601.677 120.95 602.255 Q123.265 602.834 125.788 602.834 Q130.186 602.834 132.478 601.098 Q134.792 599.362 134.792 596.052 Q134.792 592.996 132.64 591.283 Q130.51 589.547 126.691 589.547 L122.663 589.547 L122.663 585.705 L126.876 585.705 Q130.325 585.705 132.154 584.339 Q133.982 582.95 133.982 580.357 Q133.982 577.695 132.084 576.283 Q130.209 574.848 126.691 574.848 Q124.769 574.848 122.57 575.265 Q120.371 575.682 117.732 576.561 L117.732 572.395 Q120.394 571.654 122.709 571.283 Q125.047 570.913 127.107 570.913 Q132.431 570.913 135.533 573.344 Q138.635 575.751 138.635 579.871 Q138.635 582.742 136.992 584.732 Q135.348 586.7 132.316 587.464 Z\" fill=\"#000000\" fill-rule=\"evenodd\" fill-opacity=\"1\" /><path clip-path=\"url(#clip800)\" d=\"M129.862 364.151 L118.056 382.6 L129.862 382.6 L129.862 364.151 M128.635 360.077 L134.515 360.077 L134.515 382.6 L139.445 382.6 L139.445 386.489 L134.515 386.489 L134.515 394.637 L129.862 394.637 L129.862 386.489 L114.26 386.489 L114.26 381.975 L128.635 360.077 Z\" fill=\"#000000\" fill-rule=\"evenodd\" fill-opacity=\"1\" /><path clip-path=\"url(#clip800)\" d=\"M118.543 148.617 L136.899 148.617 L136.899 152.552 L122.825 152.552 L122.825 161.024 Q123.843 160.677 124.862 160.515 Q125.88 160.329 126.899 160.329 Q132.686 160.329 136.066 163.501 Q139.445 166.672 139.445 172.089 Q139.445 177.667 135.973 180.769 Q132.501 183.848 126.181 183.848 Q124.005 183.848 121.737 183.477 Q119.492 183.107 117.084 182.366 L117.084 177.667 Q119.168 178.802 121.39 179.357 Q123.612 179.913 126.089 179.913 Q130.093 179.913 132.431 177.806 Q134.769 175.7 134.769 172.089 Q134.769 168.478 132.431 166.371 Q130.093 164.265 126.089 164.265 Q124.214 164.265 122.339 164.681 Q120.487 165.098 118.543 165.978 L118.543 148.617 Z\" fill=\"#000000\" fill-rule=\"evenodd\" fill-opacity=\"1\" /><path clip-path=\"url(#clip800)\" d=\"M16.4842 1017.53 L16.4842 1011.1 L58.5933 1011.1 L58.5933 987.962 L64.0042 987.962 L64.0042 1017.53 L16.4842 1017.53 Z\" fill=\"#000000\" fill-rule=\"evenodd\" fill-opacity=\"1\" /><path clip-path=\"url(#clip800)\" d=\"M46.0847 965.269 Q46.0847 972.366 47.7079 975.104 Q49.3312 977.841 53.2461 977.841 Q56.3653 977.841 58.2114 975.804 Q60.0256 973.735 60.0256 970.202 Q60.0256 965.332 56.5881 962.404 Q53.1188 959.444 47.3897 959.444 L46.0847 959.444 L46.0847 965.269 M43.6657 953.588 L64.0042 953.588 L64.0042 959.444 L58.5933 959.444 Q61.8398 961.449 63.3994 964.441 Q64.9272 967.433 64.9272 971.762 Q64.9272 977.236 61.8716 980.483 Q58.7843 983.697 53.6281 983.697 Q47.6125 983.697 44.5569 979.687 Q41.5014 975.645 41.5014 967.656 L41.5014 959.444 L40.9285 959.444 Q36.8862 959.444 34.6901 962.118 Q32.4621 964.759 32.4621 969.565 Q32.4621 972.621 33.1941 975.517 Q33.9262 978.414 35.3903 981.087 L29.9795 981.087 Q28.7381 977.873 28.1334 974.849 Q27.4968 971.825 27.4968 968.961 Q27.4968 961.226 31.5072 957.407 Q35.5176 953.588 43.6657 953.588 Z\" fill=\"#000000\" fill-rule=\"evenodd\" fill-opacity=\"1\" /><path clip-path=\"url(#clip800)\" d=\"M29.4065 918.799 L34.9447 918.799 Q33.6716 921.282 33.035 923.955 Q32.3984 926.629 32.3984 929.493 Q32.3984 933.854 33.7352 936.05 Q35.072 938.214 37.7456 938.214 Q39.7826 938.214 40.9603 936.655 Q42.1061 935.095 43.1565 930.385 L43.6021 928.379 Q44.9389 922.141 47.3897 919.531 Q49.8086 916.889 54.1691 916.889 Q59.1344 916.889 62.0308 920.836 Q64.9272 924.751 64.9272 931.626 Q64.9272 934.49 64.3543 937.61 Q63.8132 940.697 62.6992 944.134 L56.6518 944.134 Q58.3387 940.888 59.198 937.737 Q60.0256 934.586 60.0256 931.499 Q60.0256 927.361 58.6251 925.133 Q57.1929 922.905 54.6147 922.905 Q52.2276 922.905 50.9545 924.528 Q49.6813 926.12 48.5037 931.562 L48.0262 933.599 Q46.8804 939.042 44.5251 941.461 Q42.138 943.88 38.0002 943.88 Q32.9713 943.88 30.2341 940.315 Q27.4968 936.75 27.4968 930.194 Q27.4968 926.947 27.9743 924.082 Q28.4517 921.218 29.4065 918.799 Z\" fill=\"#000000\" fill-rule=\"evenodd\" fill-opacity=\"1\" /><path clip-path=\"url(#clip800)\" d=\"M18.2347 901.771 L28.3562 901.771 L28.3562 889.708 L32.9077 889.708 L32.9077 901.771 L52.2594 901.771 Q56.6199 901.771 57.8613 900.593 Q59.1026 899.384 59.1026 895.723 L59.1026 889.708 L64.0042 889.708 L64.0042 895.723 Q64.0042 902.503 61.4897 905.081 Q58.9434 907.659 52.2594 907.659 L32.9077 907.659 L32.9077 911.956 L28.3562 911.956 L28.3562 907.659 L18.2347 907.659 L18.2347 901.771 Z\" fill=\"#000000\" fill-rule=\"evenodd\" fill-opacity=\"1\" /><path clip-path=\"url(#clip800)\" d=\"M20.1444 825.446 L26.9239 825.446 Q23.9002 828.692 22.4043 832.384 Q20.9083 836.045 20.9083 840.182 Q20.9083 848.331 25.9054 852.659 Q30.8707 856.988 40.2919 856.988 Q49.6813 856.988 54.6784 852.659 Q59.6436 848.331 59.6436 840.182 Q59.6436 836.045 58.1477 832.384 Q56.6518 828.692 53.6281 825.446 L60.3439 825.446 Q62.6355 828.82 63.7814 832.607 Q64.9272 836.363 64.9272 840.564 Q64.9272 851.354 58.3387 857.561 Q51.7183 863.767 40.2919 863.767 Q28.8336 863.767 22.2451 857.561 Q15.6248 851.354 15.6248 840.564 Q15.6248 836.299 16.7706 832.544 Q17.8846 828.756 20.1444 825.446 Z\" fill=\"#000000\" fill-rule=\"evenodd\" fill-opacity=\"1\" /><path clip-path=\"url(#clip800)\" d=\"M14.479 815.77 L14.479 809.914 L64.0042 809.914 L64.0042 815.77 L14.479 815.77 Z\" fill=\"#000000\" fill-rule=\"evenodd\" fill-opacity=\"1\" /><path clip-path=\"url(#clip800)\" d=\"M32.4621 783.846 Q32.4621 788.557 36.1542 791.294 Q39.8145 794.031 46.212 794.031 Q52.6095 794.031 56.3017 791.326 Q59.9619 788.588 59.9619 783.846 Q59.9619 779.167 56.2698 776.43 Q52.5777 773.693 46.212 773.693 Q39.8781 773.693 36.186 776.43 Q32.4621 779.167 32.4621 783.846 M27.4968 783.846 Q27.4968 776.207 32.4621 771.847 Q37.4273 767.486 46.212 767.486 Q54.9649 767.486 59.9619 771.847 Q64.9272 776.207 64.9272 783.846 Q64.9272 791.517 59.9619 795.877 Q54.9649 800.206 46.212 800.206 Q37.4273 800.206 32.4621 795.877 Q27.4968 791.517 27.4968 783.846 Z\" fill=\"#000000\" fill-rule=\"evenodd\" fill-opacity=\"1\" /><path clip-path=\"url(#clip800)\" d=\"M29.4065 735.053 L34.9447 735.053 Q33.6716 737.535 33.035 740.209 Q32.3984 742.883 32.3984 745.747 Q32.3984 750.108 33.7352 752.304 Q35.072 754.468 37.7456 754.468 Q39.7826 754.468 40.9603 752.909 Q42.1061 751.349 43.1565 746.638 L43.6021 744.633 Q44.9389 738.395 47.3897 735.785 Q49.8086 733.143 54.1691 733.143 Q59.1344 733.143 62.0308 737.09 Q64.9272 741.005 64.9272 747.88 Q64.9272 750.744 64.3543 753.863 Q63.8132 756.951 62.6992 760.388 L56.6518 760.388 Q58.3387 757.142 59.198 753.991 Q60.0256 750.84 60.0256 747.752 Q60.0256 743.615 58.6251 741.387 Q57.1929 739.159 54.6147 739.159 Q52.2276 739.159 50.9545 740.782 Q49.6813 742.373 48.5037 747.816 L48.0262 749.853 Q46.8804 755.296 44.5251 757.715 Q42.138 760.134 38.0002 760.134 Q32.9713 760.134 30.2341 756.569 Q27.4968 753.004 27.4968 746.447 Q27.4968 743.201 27.9743 740.336 Q28.4517 737.472 29.4065 735.053 Z\" fill=\"#000000\" fill-rule=\"evenodd\" fill-opacity=\"1\" /><path clip-path=\"url(#clip800)\" d=\"M28.3562 723.817 L28.3562 717.961 L64.0042 717.961 L64.0042 723.817 L28.3562 723.817 M14.479 723.817 L14.479 717.961 L21.895 717.961 L21.895 723.817 L14.479 723.817 Z\" fill=\"#000000\" fill-rule=\"evenodd\" fill-opacity=\"1\" /><path clip-path=\"url(#clip800)\" d=\"M42.4881 676.075 L64.0042 676.075 L64.0042 681.931 L42.679 681.931 Q37.6183 681.931 35.1038 683.904 Q32.5894 685.878 32.5894 689.824 Q32.5894 694.567 35.6131 697.304 Q38.6368 700.041 43.8567 700.041 L64.0042 700.041 L64.0042 705.93 L28.3562 705.93 L28.3562 700.041 L33.8944 700.041 Q30.6797 697.941 29.0883 695.108 Q27.4968 692.243 27.4968 688.52 Q27.4968 682.377 31.3163 679.226 Q35.1038 676.075 42.4881 676.075 Z\" fill=\"#000000\" fill-rule=\"evenodd\" fill-opacity=\"1\" /><path clip-path=\"url(#clip800)\" d=\"M45.7664 640.936 Q39.4007 640.936 35.8996 643.578 Q32.3984 646.188 32.3984 650.93 Q32.3984 655.641 35.8996 658.282 Q39.4007 660.892 45.7664 660.892 Q52.1003 660.892 55.6014 658.282 Q59.1026 655.641 59.1026 650.93 Q59.1026 646.188 55.6014 643.578 Q52.1003 640.936 45.7664 640.936 M59.58 635.079 Q68.683 635.079 73.1071 639.122 Q77.5631 643.164 77.5631 651.503 Q77.5631 654.59 77.0857 657.328 Q76.6401 660.065 75.6852 662.643 L69.9879 662.643 Q71.3884 660.065 72.0568 657.55 Q72.7252 655.036 72.7252 652.426 Q72.7252 646.665 69.7015 643.8 Q66.7096 640.936 60.6303 640.936 L57.7339 640.936 Q60.885 642.75 62.4446 645.583 Q64.0042 648.416 64.0042 652.362 Q64.0042 658.919 59.0071 662.929 Q54.01 666.94 45.7664 666.94 Q37.491 666.94 32.4939 662.929 Q27.4968 658.919 27.4968 652.362 Q27.4968 648.416 29.0564 645.583 Q30.616 642.75 33.7671 640.936 L28.3562 640.936 L28.3562 635.079 L59.58 635.079 Z\" fill=\"#000000\" fill-rule=\"evenodd\" fill-opacity=\"1\" /><path clip-path=\"url(#clip800)\" d=\"M21.7677 595.612 L39.6235 595.612 L39.6235 587.528 Q39.6235 583.04 37.3 580.589 Q34.9765 578.138 30.6797 578.138 Q26.4147 578.138 24.0912 580.589 Q21.7677 583.04 21.7677 587.528 L21.7677 595.612 M16.4842 602.041 L16.4842 587.528 Q16.4842 579.539 20.1126 575.465 Q23.7092 571.359 30.6797 571.359 Q37.7138 571.359 41.3104 575.465 Q44.907 579.539 44.907 587.528 L44.907 595.612 L64.0042 595.612 L64.0042 602.041 L16.4842 602.041 Z\" fill=\"#000000\" fill-rule=\"evenodd\" fill-opacity=\"1\" /><path clip-path=\"url(#clip800)\" d=\"M33.8307 543.477 Q33.2578 544.464 33.0032 545.641 Q32.7167 546.787 32.7167 548.188 Q32.7167 553.153 35.9632 555.826 Q39.1779 558.468 45.2253 558.468 L64.0042 558.468 L64.0042 564.356 L28.3562 564.356 L28.3562 558.468 L33.8944 558.468 Q30.6479 556.622 29.0883 553.662 Q27.4968 550.702 27.4968 546.469 Q27.4968 545.864 27.5923 545.132 Q27.656 544.4 27.8151 543.509 L33.8307 543.477 Z\" fill=\"#000000\" fill-rule=\"evenodd\" fill-opacity=\"1\" /><path clip-path=\"url(#clip800)\" d=\"M28.3562 537.334 L28.3562 531.478 L64.0042 531.478 L64.0042 537.334 L28.3562 537.334 M14.479 537.334 L14.479 531.478 L21.895 531.478 L21.895 537.334 L14.479 537.334 Z\" fill=\"#000000\" fill-rule=\"evenodd\" fill-opacity=\"1\" /><path clip-path=\"url(#clip800)\" d=\"M29.7248 493.57 L35.1993 493.57 Q33.8307 496.052 33.1623 498.567 Q32.4621 501.049 32.4621 503.596 Q32.4621 509.293 36.0905 512.444 Q39.6872 515.595 46.212 515.595 Q52.7369 515.595 56.3653 512.444 Q59.9619 509.293 59.9619 503.596 Q59.9619 501.049 59.2935 498.567 Q58.5933 496.052 57.2247 493.57 L62.6355 493.57 Q63.7814 496.021 64.3543 498.662 Q64.9272 501.272 64.9272 504.232 Q64.9272 512.285 59.8664 517.027 Q54.8057 521.77 46.212 521.77 Q37.491 521.77 32.4939 516.996 Q27.4968 512.189 27.4968 503.85 Q27.4968 501.145 28.0697 498.567 Q28.6108 495.989 29.7248 493.57 Z\" fill=\"#000000\" fill-rule=\"evenodd\" fill-opacity=\"1\" /><path clip-path=\"url(#clip800)\" d=\"M44.7161 452.893 L47.5806 452.893 L47.5806 479.82 Q53.6281 479.438 56.8109 476.191 Q59.9619 472.913 59.9619 467.088 Q59.9619 463.715 59.1344 460.564 Q58.3069 457.381 56.6518 454.262 L62.1899 454.262 Q63.5267 457.413 64.227 460.723 Q64.9272 464.033 64.9272 467.439 Q64.9272 475.969 59.9619 480.966 Q54.9967 485.931 46.5303 485.931 Q37.7774 485.931 32.6531 481.22 Q27.4968 476.478 27.4968 468.457 Q27.4968 461.264 32.1438 457.094 Q36.7589 452.893 44.7161 452.893 M42.9973 458.749 Q38.1912 458.813 35.3266 461.455 Q32.4621 464.065 32.4621 468.393 Q32.4621 473.295 35.2312 476.255 Q38.0002 479.183 43.0292 479.629 L42.9973 458.749 Z\" fill=\"#000000\" fill-rule=\"evenodd\" fill-opacity=\"1\" /><polyline clip-path=\"url(#clip803)\" style=\"stroke:#009af9; stroke-linecap:butt; stroke-linejoin:round; stroke-width:4; stroke-opacity:1; fill:none\" points=\"\n  2291.13,1223.2 2285.51,1223.2 2279.88,1223.2 2274.25,1223.2 2268.62,1223.2 2263,1223.19 2257.37,1223.19 2251.74,1223.19 2246.11,1223.19 2240.49,1223.19 \n  2234.86,1223.2 2229.23,1223.2 2223.6,1223.2 2217.98,1223.2 2212.35,1223.2 2206.72,1223.2 2201.09,1223.2 2195.47,1223.2 2189.84,1223.2 2184.21,1223.2 \n  2178.58,1223.2 2172.95,1223.2 2167.33,1223.2 2161.7,1223.2 2156.07,1223.19 2150.44,1223.19 2144.82,1223.19 2139.19,1223.2 2133.56,1223.2 2127.93,1223.19 \n  2122.31,1223.19 2116.68,1223.19 2111.05,1223.19 2105.42,1223.19 2099.8,1223.19 2094.17,1223.19 2088.54,1223.19 2082.91,1223.19 2077.29,1223.19 2071.66,1223.19 \n  2066.03,1223.19 2060.4,1223.19 2054.78,1223.19 2049.15,1223.19 2043.52,1223.19 2037.89,1223.19 2032.27,1223.19 2026.64,1223.19 2021.01,1223.18 2015.38,1223.19 \n  2009.75,1223.19 2004.13,1223.19 1998.5,1223.19 1992.87,1223.18 1987.24,1223.18 1981.62,1223.19 1975.99,1223.19 1970.36,1223.19 1964.73,1223.19 1959.11,1223.19 \n  1953.48,1223.19 1947.85,1223.19 1942.22,1223.19 1936.6,1223.19 1930.97,1223.19 1925.34,1223.19 1919.71,1223.19 1914.09,1223.19 1908.46,1223.19 1902.83,1223.19 \n  1897.2,1223.19 1891.58,1223.19 1885.95,1223.19 1880.32,1223.18 1874.69,1223.19 1869.07,1223.19 1863.44,1223.19 1857.81,1223.19 1852.18,1223.19 1846.56,1223.19 \n  1840.93,1223.19 1835.3,1223.19 1829.67,1223.19 1824.04,1223.19 1818.42,1223.19 1812.79,1223.19 1807.16,1223.19 1801.53,1223.19 1795.91,1223.19 1790.28,1223.19 \n  1784.65,1223.19 1779.02,1223.19 1773.4,1223.19 1767.77,1223.2 1762.14,1223.2 1756.51,1223.2 1750.89,1223.2 1745.26,1223.2 1739.63,1223.2 1734,1223.2 \n  1728.38,1223.19 1722.75,1223.2 1717.12,1223.2 1711.49,1223.2 1705.87,1223.19 1700.24,1223.19 1694.61,1223.19 1688.98,1223.19 1683.36,1223.19 1677.73,1223.19 \n  1672.1,1223.19 1666.47,1223.19 1660.84,1223.19 1655.22,1223.19 1649.59,1223.19 1643.96,1223.19 1638.33,1223.19 1632.71,1223.19 1627.08,1223.19 1621.45,1223.19 \n  1615.82,1223.19 1610.2,1223.19 1604.57,1223.19 1598.94,1223.19 1593.31,1223.19 1587.69,1223.19 1582.06,1223.19 1576.43,1223.19 1570.8,1223.19 1565.18,1223.19 \n  1559.55,1223.19 1553.92,1223.19 1548.29,1223.19 1542.67,1223.19 1537.04,1223.19 1531.41,1223.19 1525.78,1223.19 1520.16,1223.19 1514.53,1223.19 1508.9,1223.19 \n  1503.27,1223.19 1497.65,1223.19 1492.02,1223.19 1486.39,1223.19 1480.76,1223.19 1475.13,1223.19 1469.51,1223.19 1463.88,1223.19 1458.25,1223.19 1452.62,1223.19 \n  1447,1223.19 1441.37,1223.2 1435.74,1223.2 1430.11,1223.19 1424.49,1223.19 1418.86,1223.19 1413.23,1223.19 1407.6,1223.19 1401.98,1223.19 1396.35,1223.2 \n  1390.72,1223.2 1385.09,1223.2 1379.47,1223.2 1373.84,1223.2 1368.21,1223.2 1362.58,1223.2 1356.96,1223.2 1351.33,1223.2 1345.7,1223.2 1340.07,1223.2 \n  1334.45,1223.2 1328.82,1223.2 1323.19,1223.2 1317.56,1223.2 1311.93,1223.2 1306.31,1223.2 1300.68,1223.2 1295.05,1223.2 1289.42,1223.2 1283.8,1223.2 \n  1278.17,1223.2 1272.54,1223.2 1266.91,1223.2 1261.29,1223.2 1255.66,1223.2 1250.03,1223.2 1244.4,1223.2 1238.78,1223.2 1233.15,1223.2 1227.52,1223.2 \n  1221.89,1223.2 1216.27,1223.2 1210.64,1223.2 1205.01,1223.2 1199.38,1223.2 1193.76,1223.2 1188.13,1223.2 1182.5,1223.2 1176.87,1223.19 1171.25,1223.19 \n  1165.62,1223.19 1159.99,1223.19 1154.36,1223.19 1148.74,1223.2 1143.11,1223.19 1137.48,1223.19 1131.85,1223.19 1126.22,1223.2 1120.6,1223.2 1114.97,1223.19 \n  1109.34,1223.19 1103.71,1223.19 1098.09,1223.19 1092.46,1223.19 1086.83,1223.19 1081.2,1223.19 1075.58,1223.19 1069.95,1223.19 1064.32,1223.19 1058.69,1223.19 \n  1053.07,1223.19 1047.44,1223.19 1041.81,1223.19 1036.18,1223.19 1030.56,1223.19 1024.93,1223.19 1019.3,1223.19 1013.67,1223.19 1008.05,1223.19 1002.42,1223.19 \n  996.791,1223.19 991.163,1223.19 985.535,1223.19 979.908,1223.19 974.28,1223.19 968.653,1223.19 963.025,1223.19 957.397,1223.19 951.77,1223.18 946.142,1223.19 \n  940.515,1223.19 934.887,1223.19 929.26,1223.19 923.632,1223.18 918.004,1223.18 912.377,1223.18 906.749,1223.18 901.122,1223.19 895.494,1223.18 889.866,1223.18 \n  884.239,1223.18 878.611,1223.19 872.984,1223.19 867.356,1223.19 861.729,1223.19 856.101,1223.18 850.473,1223.18 844.846,1223.18 839.218,1223.18 833.591,1223.18 \n  827.963,1223.18 822.336,1223.18 816.708,1223.18 811.08,1223.18 805.453,1223.18 799.825,1223.18 794.198,1223.18 788.57,1223.18 782.942,1223.18 777.315,1223.18 \n  771.687,1223.18 766.06,1223.18 760.432,1223.18 754.805,1223.18 749.177,1223.18 743.549,1223.18 737.922,1223.18 732.294,1223.17 726.667,1223.18 721.039,1223.18 \n  715.412,1223.18 709.784,1223.18 704.156,1223.18 698.529,1223.18 692.901,1223.17 687.274,1223.17 681.646,1223.17 676.018,1223.17 670.391,1223.17 664.763,1223.17 \n  659.136,1223.17 653.508,1223.17 647.881,1223.17 642.253,1223.17 636.625,1223.16 630.998,1223.16 625.37,1223.16 619.743,1223.16 614.115,1223.16 608.487,1223.17 \n  602.86,1223.17 597.232,1223.17 591.605,1223.17 585.977,1223.16 580.35,1223.16 574.722,1223.16 569.094,1223.16 563.467,1223.16 557.839,1223.16 552.212,1223.16 \n  546.584,1223.16 540.957,1223.16 535.329,1223.16 529.701,1223.15 524.074,1223.14 518.446,1223.14 512.819,1223.14 507.191,1223.14 501.563,1223.14 495.936,1223.14 \n  490.308,1223.14 484.681,1223.14 479.053,1223.14 473.426,1223.14 467.798,1223.13 462.17,1223.13 456.543,1223.13 450.915,1223.13 445.288,1223.14 439.66,1223.13 \n  434.033,1223.13 428.405,1223.13 422.777,1223.13 417.15,1223.13 411.522,1223.13 405.895,1223.13 400.267,1223.13 394.639,1223.13 389.012,1223.13 383.384,1223.13 \n  377.757,1223.12 372.129,1223.12 366.502,1223.12 360.874,1223.12 355.246,1223.11 349.619,1223.11 343.991,1223.1 338.364,1223.09 332.736,1223.08 327.108,1223.08 \n  321.481,1223.07 315.853,1223.05 310.226,1223.03 304.598,1223.03 298.971,1223.03 293.343,1223.01 287.715,1222.97 282.088,1222.93 276.46,1222.88 270.833,1222.82 \n  265.205,1222.76 259.578,1222.69 253.95,1222.58 248.322,1222.35 242.695,1221.89 237.067,1220.58 \n  \"/>\n<polyline clip-path=\"url(#clip803)\" style=\"stroke:#e26f46; stroke-linecap:butt; stroke-linejoin:round; stroke-width:4; stroke-opacity:1; fill:none\" points=\"\n  2291.13,1223.02 2285.51,1223.02 2279.88,1223.02 2274.25,1223.03 2268.62,1223 2263,1222.96 2257.37,1222.95 2251.74,1222.95 2246.11,1222.96 2240.49,1222.95 \n  2234.86,1222.97 2229.23,1222.97 2223.6,1222.98 2217.98,1222.99 2212.35,1222.98 2206.72,1222.99 2201.09,1222.98 2195.47,1222.97 2189.84,1223 2184.21,1223.01 \n  2178.58,1222.96 2172.95,1222.96 2167.33,1222.99 2161.7,1222.96 2156.07,1222.91 2150.44,1222.93 2144.82,1222.92 2139.19,1222.95 2133.56,1222.96 2127.93,1222.94 \n  2122.31,1222.9 2116.68,1222.89 2111.05,1222.88 2105.42,1222.91 2099.8,1222.93 2094.17,1222.96 2088.54,1222.96 2082.91,1222.9 2077.29,1222.93 2071.66,1222.92 \n  2066.03,1222.95 2060.4,1222.93 2054.78,1222.91 2049.15,1222.92 2043.52,1222.96 2037.89,1222.92 2032.27,1222.93 2026.64,1222.88 2021.01,1222.87 2015.38,1222.87 \n  2009.75,1222.86 2004.13,1222.85 1998.5,1222.86 1992.87,1222.84 1987.24,1222.83 1981.62,1222.85 1975.99,1222.86 1970.36,1222.87 1964.73,1222.86 1959.11,1222.84 \n  1953.48,1222.84 1947.85,1222.88 1942.22,1222.88 1936.6,1222.87 1930.97,1222.86 1925.34,1222.87 1919.71,1222.92 1914.09,1222.89 1908.46,1222.88 1902.83,1222.9 \n  1897.2,1222.88 1891.58,1222.91 1885.95,1222.89 1880.32,1222.88 1874.69,1222.92 1869.07,1222.93 1863.44,1222.92 1857.81,1222.92 1852.18,1222.91 1846.56,1222.92 \n  1840.93,1222.95 1835.3,1222.96 1829.67,1222.95 1824.04,1222.97 1818.42,1222.95 1812.79,1222.95 1807.16,1222.94 1801.53,1222.94 1795.91,1222.95 1790.28,1222.97 \n  1784.65,1222.96 1779.02,1222.96 1773.4,1222.97 1767.77,1223.02 1762.14,1223.04 1756.51,1223.05 1750.89,1223.03 1745.26,1223.01 1739.63,1223.03 1734,1223.02 \n  1728.38,1222.99 1722.75,1223 1717.12,1223.04 1711.49,1223.02 1705.87,1222.96 1700.24,1222.95 1694.61,1222.95 1688.98,1222.93 1683.36,1222.92 1677.73,1222.94 \n  1672.1,1222.96 1666.47,1222.94 1660.84,1222.96 1655.22,1222.97 1649.59,1222.93 1643.96,1222.92 1638.33,1222.93 1632.71,1222.86 1627.08,1222.85 1621.45,1222.85 \n  1615.82,1222.84 1610.2,1222.86 1604.57,1222.85 1598.94,1222.91 1593.31,1222.94 1587.69,1222.93 1582.06,1222.93 1576.43,1222.92 1570.8,1222.95 1565.18,1222.93 \n  1559.55,1222.93 1553.92,1222.91 1548.29,1222.92 1542.67,1222.92 1537.04,1222.91 1531.41,1222.92 1525.78,1222.94 1520.16,1222.94 1514.53,1222.92 1508.9,1222.89 \n  1503.27,1222.9 1497.65,1222.88 1492.02,1222.93 1486.39,1222.9 1480.76,1222.9 1475.13,1222.9 1469.51,1222.92 1463.88,1222.89 1458.25,1222.94 1452.62,1222.94 \n  1447,1222.96 1441.37,1222.99 1435.74,1222.97 1430.11,1222.98 1424.49,1222.98 1418.86,1222.99 1413.23,1223.01 1407.6,1223.02 1401.98,1223.02 1396.35,1223.03 \n  1390.72,1223.03 1385.09,1223.03 1379.47,1223.04 1373.84,1223.06 1368.21,1223.06 1362.58,1223.1 1356.96,1223.09 1351.33,1223.08 1345.7,1223.08 1340.07,1223.08 \n  1334.45,1223.07 1328.82,1223.06 1323.19,1223.07 1317.56,1223.05 1311.93,1223.03 1306.31,1223.04 1300.68,1223.03 1295.05,1223.03 1289.42,1223 1283.8,1223 \n  1278.17,1223.02 1272.54,1223 1266.91,1223.01 1261.29,1223.02 1255.66,1223.03 1250.03,1223 1244.4,1223.02 1238.78,1223.03 1233.15,1223.04 1227.52,1223.07 \n  1221.89,1223.07 1216.27,1223.04 1210.64,1223.04 1205.01,1223.06 1199.38,1223.05 1193.76,1223 1188.13,1223.01 1182.5,1223 1176.87,1222.97 1171.25,1222.97 \n  1165.62,1222.94 1159.99,1222.93 1154.36,1222.94 1148.74,1222.96 1143.11,1222.96 1137.48,1222.94 1131.85,1222.92 1126.22,1222.93 1120.6,1222.92 1114.97,1222.89 \n  1109.34,1222.9 1103.71,1222.89 1098.09,1222.86 1092.46,1222.88 1086.83,1222.89 1081.2,1222.87 1075.58,1222.93 1069.95,1222.94 1064.32,1222.92 1058.69,1222.86 \n  1053.07,1222.83 1047.44,1222.86 1041.81,1222.86 1036.18,1222.96 1030.56,1222.92 1024.93,1222.89 1019.3,1222.83 1013.67,1222.88 1008.05,1222.71 1002.42,1222.71 \n  996.791,1222.65 991.163,1222.62 985.535,1222.52 979.908,1222.57 974.28,1222.55 968.653,1222.44 963.025,1222.46 957.397,1222.44 951.77,1222.42 946.142,1222.49 \n  940.515,1222.47 934.887,1222.44 929.26,1222.49 923.632,1222.42 918.004,1222.53 912.377,1222.52 906.749,1222.55 901.122,1222.54 895.494,1222.53 889.866,1222.54 \n  884.239,1222.57 878.611,1222.63 872.984,1222.65 867.356,1222.6 861.729,1222.57 856.101,1222.57 850.473,1222.57 844.846,1222.62 839.218,1222.58 833.591,1222.55 \n  827.963,1222.5 822.336,1222.45 816.708,1222.46 811.08,1222.5 805.453,1222.55 799.825,1222.53 794.198,1222.53 788.57,1222.54 782.942,1222.52 777.315,1222.56 \n  771.687,1222.49 766.06,1222.48 760.432,1222.48 754.805,1222.49 749.177,1222.43 743.549,1222.49 737.922,1222.5 732.294,1222.52 726.667,1222.52 721.039,1222.57 \n  715.412,1222.55 709.784,1222.55 704.156,1222.59 698.529,1222.59 692.901,1222.53 687.274,1222.52 681.646,1222.46 676.018,1222.43 670.391,1222.42 664.763,1222.42 \n  659.136,1222.38 653.508,1222.38 647.881,1222.37 642.253,1222.32 636.625,1222.26 630.998,1222.33 625.37,1222.28 619.743,1222.28 614.115,1222.21 608.487,1222.21 \n  602.86,1222.26 597.232,1222.29 591.605,1222.35 585.977,1222.33 580.35,1222.29 574.722,1222.33 569.094,1222.26 563.467,1222.35 557.839,1222.31 552.212,1222.3 \n  546.584,1222.27 540.957,1222.13 535.329,1222.15 529.701,1221.96 524.074,1221.8 518.446,1221.77 512.819,1221.68 507.191,1221.65 501.563,1221.66 495.936,1221.67 \n  490.308,1221.61 484.681,1221.53 479.053,1221.45 473.426,1221.35 467.798,1221.33 462.17,1221.3 456.543,1221.18 450.915,1221.11 445.288,1221.19 439.66,1221.02 \n  434.033,1220.85 428.405,1220.92 422.777,1220.69 417.15,1220.81 411.522,1220.95 405.895,1220.96 400.267,1220.76 394.639,1220.64 389.012,1220.62 383.384,1220.67 \n  377.757,1220.31 372.129,1220.26 366.502,1219.92 360.874,1220.14 355.246,1219.97 349.619,1220.15 343.991,1219.22 338.364,1218.92 332.736,1218.98 327.108,1218.77 \n  321.481,1218.45 315.853,1218.3 310.226,1217.66 304.598,1217.61 298.971,1217.57 293.343,1216.84 287.715,1215.13 282.088,1213.73 276.46,1212.52 270.833,1210.3 \n  265.205,1207.18 259.578,1203.77 253.95,1197.82 248.322,1187.09 242.695,1170.49 237.067,1117.6 \n  \"/>\n<polyline clip-path=\"url(#clip803)\" style=\"stroke:#3da44d; stroke-linecap:butt; stroke-linejoin:round; stroke-width:4; stroke-opacity:1; fill:none\" points=\"\n  2291.13,1289.36 2285.51,1281.88 2279.88,1259.85 2274.25,1290.53 2268.62,1228.62 2263,1110.24 2257.37,1117.84 2251.74,1109.73 2246.11,1129.99 2240.49,1003.23 \n  2234.86,1063.45 2229.23,1073.07 2223.6,1175.23 2217.98,1240.19 2212.35,1247.62 2206.72,1285.86 2201.09,1270.27 2195.47,1234.79 2189.84,1252.46 2184.21,1287.62 \n  2178.58,1204.78 2172.95,1204.52 2167.33,1253.3 2161.7,1170.83 2156.07,1166.02 2150.44,1223.51 2144.82,1205.47 2139.19,1229.94 2133.56,1176.69 2127.93,1086.17 \n  2122.31,1021.92 2116.68,1000.21 2111.05,990.561 2105.42,1001.03 2099.8,1028.6 2094.17,1057.89 2088.54,1067.98 2082.91,935.38 2077.29,949.613 2071.66,910.925 \n  2066.03,954.125 2060.4,923.407 2054.78,882.223 2049.15,894.344 2043.52,954.996 2037.89,893.554 2032.27,904.225 2026.64,815.238 2021.01,802.675 2015.38,811.156 \n  2009.75,819.583 2004.13,799.596 1998.5,832.872 1992.87,771.835 1987.24,758.248 1981.62,837.591 1975.99,907.798 1970.36,902.158 1964.73,863.699 1959.11,860.669 \n  1953.48,935.092 1947.85,977.799 1942.22,959.326 1936.6,988.168 1930.97,990.891 1925.34,1013.31 1919.71,1073.14 1914.09,964.901 1908.46,977.303 1902.83,989.374 \n  1897.2,979.324 1891.58,984.403 1885.95,984.232 1880.32,932.413 1874.69,982.975 1869.07,991.258 1863.44,982.151 1857.81,941.96 1852.18,937.219 1846.56,946.508 \n  1840.93,951.114 1835.3,977.711 1829.67,944.42 1824.04,945.349 1818.42,923.763 1812.79,1017.72 1807.16,1012.61 1801.53,1002.46 1795.91,995.893 1790.28,1034.43 \n  1784.65,1023.88 1779.02,1038.59 1773.4,1034.5 1767.77,1120.86 1762.14,1142.54 1756.51,1175.04 1750.89,1145.23 1745.26,1123.97 1739.63,1125.5 1734,1120.41 \n  1728.38,1066.59 1722.75,1063.96 1717.12,1183.31 1711.49,1143.64 1705.87,1019.5 1700.24,992.414 1694.61,1003.13 1688.98,978.945 1683.36,953.246 1677.73,974.986 \n  1672.1,1006.41 1666.47,953.826 1660.84,993.051 1655.22,1014.5 1649.59,983.711 1643.96,974.597 1638.33,950.424 1632.71,703.772 1627.08,798.463 1621.45,848.224 \n  1615.82,821.178 1610.2,858.597 1604.57,878.585 1598.94,924.716 1593.31,1002.9 1587.69,966.624 1582.06,962.934 1576.43,925.429 1570.8,1024.8 1565.18,939.858 \n  1559.55,970.703 1553.92,877.197 1548.29,895.466 1542.67,906.991 1537.04,869.657 1531.41,896.823 1525.78,973.695 1520.16,1013.67 1514.53,935.468 1508.9,853.921 \n  1503.27,864.445 1497.65,1024.6 1492.02,1128.9 1486.39,1089.21 1480.76,1220.48 1475.13,1245.73 1469.51,1275.46 1463.88,1242.36 1458.25,1295.72 1452.62,1302.64 \n  1447,1301.46 1441.37,1311.66 1435.74,1288.05 1430.11,1295.36 1424.49,1275.77 1418.86,1270.08 1413.23,1271.21 1407.6,1284.68 1401.98,1338.63 1396.35,1348.11 \n  1390.72,1356.35 1385.09,1349.64 1379.47,1345.68 1373.84,1353 1368.21,1362.85 1362.58,1384.24 1356.96,1361.59 1351.33,1338.88 1345.7,1338.94 1340.07,1330.78 \n  1334.45,1323.69 1328.82,1307.74 1323.19,1305.7 1317.56,1297.36 1311.93,1291.91 1306.31,1295.66 1300.68,1287.51 1295.05,1293.15 1289.42,1275.62 1283.8,1266.3 \n  1278.17,1271.05 1272.54,1247.29 1266.91,1258.16 1261.29,1265.1 1255.66,1261.68 1250.03,1236.42 1244.4,1237.73 1238.78,1266.34 1233.15,1263.26 1227.52,1278.45 \n  1221.89,1277.53 1216.27,1246.58 1210.64,1262.38 1205.01,1307.64 1199.38,1272.99 1193.76,1190.58 1188.13,1197.36 1182.5,1178.59 1176.87,1156.35 1171.25,1160.32 \n  1165.62,1142.42 1159.99,1129.95 1154.36,1133.15 1148.74,1157.71 1143.11,1149.44 1137.48,1138.53 1131.85,1113.2 1126.22,1134.12 1120.6,1140.86 1114.97,1099.27 \n  1109.34,1109.55 1103.71,1086.33 1098.09,1049.03 1092.46,1058.63 1086.83,1064.68 1081.2,1046.45 1075.58,1114.19 1069.95,1150.35 1064.32,1116.27 1058.69,1081.87 \n  1053.07,1051.02 1047.44,1078.74 1041.81,1068.4 1036.18,1165.46 1030.56,1111.43 1024.93,1058.66 1019.3,973.057 1013.67,1029.01 1008.05,773.586 1002.42,823.669 \n  996.791,849.212 991.163,834.595 985.535,875.818 979.908,898.043 974.28,959.923 968.653,841.828 963.025,886.105 957.397,817.645 951.77,807.376 946.142,801.3 \n  940.515,795.316 934.887,792.348 929.26,897.251 923.632,823.373 918.004,821.768 912.377,782.333 906.749,812.439 901.122,902.949 895.494,921.578 889.866,902.398 \n  884.239,917.583 878.611,1068.31 872.984,1062.05 867.356,1005.84 861.729,1005.48 856.101,949.016 850.473,908.383 844.846,941.207 839.218,895.692 833.591,835.523 \n  827.963,836.068 822.336,742.178 816.708,714.201 811.08,737.947 805.453,886.898 799.825,935.58 794.198,928.174 788.57,1083.09 782.942,1067.31 777.315,1125.48 \n  771.687,1048.92 766.06,1124.33 760.432,1247.59 754.805,1271.42 749.177,1258.49 743.549,1272.72 737.922,1271.93 732.294,1273.79 726.667,1271.22 721.039,1278.99 \n  715.412,1276.49 709.784,1268.7 704.156,1289.31 698.529,1300.09 692.901,1272.99 687.274,1271.9 681.646,1282.06 676.018,1278.16 670.391,1300.13 664.763,1298.27 \n  659.136,1296.55 653.508,1299.74 647.881,1307.73 642.253,1304.99 636.625,1296 630.998,1302.46 625.37,1296.24 619.743,1291.01 614.115,1280.87 608.487,1284.6 \n  602.86,1286.36 597.232,1286.34 591.605,1287.96 585.977,1276.8 580.35,1288.52 574.722,1292.55 569.094,1287.71 563.467,1298.1 557.839,1289.07 552.212,1291.19 \n  546.584,1288.4 540.957,1273.42 535.329,1271.44 529.701,1236.18 524.074,1243.88 518.446,1254.28 512.819,1235.61 507.191,1247.21 501.563,1244.68 495.936,1249.74 \n  490.308,1237.82 484.681,1221.34 479.053,1206.54 473.426,1214.13 467.798,1243.25 462.17,1250.64 456.543,1260.42 450.915,1268.55 445.288,1279.06 439.66,1269.93 \n  434.033,1266.37 428.405,1266.79 422.777,1283.57 417.15,1291.61 411.522,1290.31 405.895,1247.42 400.267,1262.94 394.639,1319.2 389.012,1324.36 383.384,1327.88 \n  377.757,1320.81 372.129,1320 366.502,1316.95 360.874,1316.53 355.246,1315.02 349.619,1315.79 343.991,1305.76 338.364,1305.07 332.736,1307.24 327.108,1308.98 \n  321.481,1307.3 315.853,1305.97 310.226,1300.24 304.598,1296.17 298.971,1299.67 293.343,1300.21 287.715,1290.82 282.088,1286.67 276.46,1287.35 270.833,1286.02 \n  265.205,1308.85 259.578,1315.41 253.95,1311.34 248.322,1314 242.695,1314.35 237.067,1308.37 \n  \"/>\n<polyline clip-path=\"url(#clip803)\" style=\"stroke:#c271d2; stroke-linecap:butt; stroke-linejoin:round; stroke-width:4; stroke-opacity:1; fill:none\" points=\"\n  2291.13,1220.02 2285.51,1220 2279.88,1219.89 2274.25,1219.93 2268.62,1219.68 2263,1219 2257.37,1218.88 2251.74,1219.02 2246.11,1219.08 2240.49,1219.06 \n  2234.86,1219.45 2229.23,1219.37 2223.6,1219.57 2217.98,1219.31 2212.35,1219.19 2206.72,1219.43 2201.09,1219.36 2195.47,1219.26 2189.84,1219.85 2184.21,1220.07 \n  2178.58,1219.37 2172.95,1219.4 2167.33,1219.51 2161.7,1218.99 2156.07,1218.45 2150.44,1218.57 2144.82,1218.38 2139.19,1218.23 2133.56,1218 2127.93,1217.57 \n  2122.31,1216.61 2116.68,1216.67 2111.05,1217.4 2105.42,1217.51 2099.8,1217.59 2094.17,1217.84 2088.54,1217.84 2082.91,1217.01 2077.29,1217.09 2071.66,1216.33 \n  2066.03,1216.48 2060.4,1215.7 2054.78,1216.14 2049.15,1216.15 2043.52,1216.93 2037.89,1215.78 2032.27,1215.63 2026.64,1214.63 2021.01,1214.39 2015.38,1214.04 \n  2009.75,1214.45 2004.13,1214.01 1998.5,1213.79 1992.87,1213.28 1987.24,1212.51 1981.62,1212.12 1975.99,1211.26 1970.36,1212.17 1964.73,1211.18 1959.11,1211.01 \n  1953.48,1212.09 1947.85,1212.88 1942.22,1212.71 1936.6,1212.95 1930.97,1212.38 1925.34,1212.5 1919.71,1213.04 1914.09,1211.68 1908.46,1210.6 1902.83,1210.83 \n  1897.2,1210.85 1891.58,1210.62 1885.95,1210.75 1880.32,1211.64 1874.69,1213.12 1869.07,1212.83 1863.44,1212.42 1857.81,1212.41 1852.18,1211.73 1846.56,1212.7 \n  1840.93,1212.67 1835.3,1212.05 1829.67,1212.6 1824.04,1212.12 1818.42,1211.02 1812.79,1210.55 1807.16,1210.73 1801.53,1210.49 1795.91,1209.13 1790.28,1208.42 \n  1784.65,1207.37 1779.02,1207.3 1773.4,1207.66 1767.77,1209.76 1762.14,1210.18 1756.51,1210.41 1750.89,1209.5 1745.26,1209.35 1739.63,1208.98 1734,1208.23 \n  1728.38,1206.42 1722.75,1206.18 1717.12,1209.18 1711.49,1207.73 1705.87,1204.27 1700.24,1201 1694.61,1203.54 1688.98,1202.08 1683.36,1200.16 1677.73,1199.32 \n  1672.1,1196.14 1666.47,1193.59 1660.84,1190.83 1655.22,1188.33 1649.59,1183.58 1643.96,1179.09 1638.33,1179.45 1632.71,1177.97 1627.08,1181.51 1621.45,1179.56 \n  1615.82,1173.4 1610.2,1176.8 1604.57,1181.38 1598.94,1180.27 1593.31,1176.94 1587.69,1182.75 1582.06,1179.82 1576.43,1182.64 1570.8,1188.71 1565.18,1189.79 \n  1559.55,1189.71 1553.92,1185.72 1548.29,1186.43 1542.67,1184.68 1537.04,1180.12 1531.41,1182.77 1525.78,1181.6 1520.16,1186.65 1514.53,1187.02 1508.9,1192.97 \n  1503.27,1200.17 1497.65,1199.3 1492.02,1202.13 1486.39,1201.4 1480.76,1202.09 1475.13,1203.43 1469.51,1204.19 1463.88,1202.59 1458.25,1202.37 1452.62,1203.92 \n  1447,1205.09 1441.37,1206.44 1435.74,1207 1430.11,1205.99 1424.49,1203.61 1418.86,1207.29 1413.23,1208.16 1407.6,1211 1401.98,1210.71 1396.35,1210.47 \n  1390.72,1210.49 1385.09,1209.96 1379.47,1210.04 1373.84,1210.65 1368.21,1211.51 1362.58,1214.14 1356.96,1213.26 1351.33,1211.23 1345.7,1211.21 1340.07,1211.44 \n  1334.45,1209.53 1328.82,1207.08 1323.19,1208.82 1317.56,1207.25 1311.93,1205.99 1306.31,1206.21 1300.68,1204.79 1295.05,1204.73 1289.42,1201.59 1283.8,1203.44 \n  1278.17,1204.46 1272.54,1203.06 1266.91,1202.79 1261.29,1203.01 1255.66,1203.37 1250.03,1201.29 1244.4,1202.59 1238.78,1203.24 1233.15,1204.02 1227.52,1205.97 \n  1221.89,1206.67 1216.27,1204.3 1210.64,1204.52 1205.01,1208.11 1199.38,1208.06 1193.76,1199.96 1188.13,1199.76 1182.5,1198.24 1176.87,1195.44 1171.25,1194.67 \n  1165.62,1194.46 1159.99,1193.84 1154.36,1194.35 1148.74,1196.34 1143.11,1196.43 1137.48,1190.95 1131.85,1189.49 1126.22,1189.46 1120.6,1192.31 1114.97,1187.57 \n  1109.34,1189.88 1103.71,1191.74 1098.09,1188.92 1092.46,1194.6 1086.83,1197.57 1081.2,1195.19 1075.58,1199.71 1069.95,1200.91 1064.32,1198.78 1058.69,1193.28 \n  1053.07,1190.62 1047.44,1196.63 1041.81,1194.79 1036.18,1202.55 1030.56,1194.39 1024.93,1184.45 1019.3,1176.72 1013.67,1187.67 1008.05,1160.37 1002.42,1169.61 \n  996.791,1167.77 991.163,1171.18 985.535,1170.77 979.908,1171.9 974.28,1169.05 968.653,1163.45 963.025,1164.12 957.397,1159.94 951.77,1155.53 946.142,1157.16 \n  940.515,1154.27 934.887,1149.38 929.26,1150.32 923.632,1140.92 918.004,1134.86 912.377,1124.32 906.749,1133.51 901.122,1130.42 895.494,1119.61 889.866,1117.77 \n  884.239,1109.36 878.611,1091.35 872.984,1102.78 867.356,1108.55 861.729,1093.53 856.101,1111.64 850.473,1109.3 844.846,1104.48 839.218,1095.16 833.591,1123.43 \n  827.963,1118.27 822.336,1103 816.708,1104.86 811.08,1094.82 805.453,1083.31 799.825,1080.04 794.198,1079.09 788.57,1066.02 782.942,1062.25 777.315,1056.63 \n  771.687,1059.11 766.06,1065.44 760.432,1050.11 754.805,1053.61 749.177,1069.74 743.549,1070.18 737.922,1060.73 732.294,1056.58 726.667,1053.45 721.039,1056.07 \n  715.412,1065.78 709.784,1079.89 704.156,1096.91 698.529,1087.05 692.901,1068.31 687.274,1063.76 681.646,1065.98 676.018,1063.51 670.391,1058.82 664.763,1053.74 \n  659.136,1048.09 653.508,1051.96 647.881,1038.01 642.253,1027.12 636.625,1006.76 630.998,1010.15 625.37,976.729 619.743,995.51 614.115,974.546 608.487,987.342 \n  602.86,971.602 597.232,978.132 591.605,977.553 585.977,956.244 580.35,920.53 574.722,907.308 569.094,862.109 563.467,889.437 557.839,867.156 552.212,833.326 \n  546.584,799.139 540.957,637.758 535.329,641.641 529.701,605.932 524.074,704.442 518.446,725.131 512.819,608.767 507.191,712.435 501.563,733.402 495.936,704.619 \n  490.308,635.697 484.681,608.393 479.053,568.352 473.426,478.32 467.798,416.193 462.17,366.649 456.543,435.024 450.915,376.11 445.288,469.436 439.66,509.256 \n  434.033,402.128 428.405,398.676 422.777,465.623 417.15,511.397 411.522,596.376 405.895,638.349 400.267,633.898 394.639,689.406 389.012,682.984 383.384,699.338 \n  377.757,625.317 372.129,679.821 366.502,683.923 360.874,700.269 355.246,724.064 349.619,785.927 343.991,641.708 338.364,649.594 332.736,611.981 327.108,598.946 \n  321.481,665.488 315.853,698.825 310.226,686.349 304.598,631.988 298.971,606.854 293.343,706.49 287.715,629.403 282.088,637.665 276.46,668.609 270.833,848.374 \n  265.205,938.685 259.578,890.912 253.95,815.389 248.322,885.842 242.695,964.46 237.067,953.846 \n  \"/>\n<polyline clip-path=\"url(#clip803)\" style=\"stroke:#ac8d18; stroke-linecap:butt; stroke-linejoin:round; stroke-width:4; stroke-opacity:1; fill:none\" points=\"\n  2285.51,1195.74 2279.88,1195.42 2274.25,1195.04 2268.62,1193.82 2263,1190.42 2257.37,1185.05 2251.74,1184.27 2246.11,1183.91 2240.49,1183.51 2234.86,1186.79 \n  2229.23,1184.44 2223.6,1186.35 2217.98,1187.64 2212.35,1189.3 2206.72,1193.88 2201.09,1194.26 2195.47,1195.58 2189.84,1195.99 2184.21,1200.65 2178.58,1194.13 \n  2172.95,1194.98 2167.33,1193.9 2161.7,1189.4 2156.07,1182.41 2150.44,1185.9 2144.82,1186.03 2139.19,1184.36 2133.56,1177.64 2127.93,1186.05 2122.31,1182.68 \n  2116.68,1183.38 2111.05,1186.28 2105.42,1192.64 2099.8,1193.6 2094.17,1198.87 2088.54,1201.38 2082.91,1198.66 2077.29,1202.98 2071.66,1199.08 2066.03,1200.3 \n  2060.4,1197.79 2054.78,1196.08 2049.15,1198.3 2043.52,1200.08 2037.89,1197.15 2032.27,1196.76 2026.64,1191.87 2021.01,1188.48 2015.38,1186.87 2009.75,1188.68 \n  2004.13,1187.2 1998.5,1188.29 1992.87,1186.26 1987.24,1181.45 1981.62,1184.26 1975.99,1182.9 1970.36,1183.43 1964.73,1180.39 1959.11,1183.88 1953.48,1187 \n  1947.85,1187.16 1942.22,1188.04 1936.6,1187 1930.97,1183.65 1925.34,1186.25 1919.71,1189.39 1914.09,1184.05 1908.46,1184.71 1902.83,1185.77 1897.2,1182.99 \n  1891.58,1181.65 1885.95,1184.6 1880.32,1181.69 1874.69,1187.62 1869.07,1189.85 1863.44,1188.96 1857.81,1187.92 1852.18,1186.9 1846.56,1186.18 1840.93,1186.43 \n  1835.3,1184.52 1829.67,1181.56 1824.04,1180.66 1818.42,1175.05 1812.79,1172.79 1807.16,1166.38 1801.53,1172.25 1795.91,1166.59 1790.28,1161.43 1784.65,1166.67 \n  1779.02,1167.41 1773.4,1172.83 1767.77,1170.21 1762.14,1177.45 1756.51,1178.66 1750.89,1170.82 1745.26,1174.16 1739.63,1166.79 1734,1160.82 1728.38,1167.43 \n  1722.75,1172.52 1717.12,1188.93 1711.49,1184.17 1705.87,1171.37 1700.24,1166.23 1694.61,1165.93 1688.98,1157.72 1683.36,1158.02 1677.73,1158.65 1672.1,1153.35 \n  1666.47,1146.23 1660.84,1144.17 1655.22,1129.89 1649.59,1161.19 1643.96,1163.07 1638.33,1166.43 1632.71,1152.37 1627.08,1144.47 1621.45,1151.25 1615.82,1148.56 \n  1610.2,1143.11 1604.57,1144.7 1598.94,1142.99 1593.31,1134.42 1587.69,1131.87 1582.06,1123.01 1576.43,1127.44 1570.8,1145.93 1565.18,1132.39 1559.55,1131.07 \n  1553.92,1127.1 1548.29,1132.31 1542.67,1131.71 1537.04,1115.66 1531.41,1117.21 1525.78,1106.89 1520.16,1129.44 1514.53,1143.25 1508.9,1155.46 1503.27,1164.21 \n  1497.65,1161.54 1492.02,1167.21 1486.39,1164.27 1480.76,1165.14 1475.13,1179.22 1469.51,1181.76 1463.88,1175.19 1458.25,1175.38 1452.62,1174.63 1447,1174.51 \n  1441.37,1172.96 1435.74,1185.54 1430.11,1187.43 1424.49,1193.59 1418.86,1192.92 1413.23,1191.71 1407.6,1192.05 1401.98,1199.7 1396.35,1204.97 1390.72,1206.25 \n  1385.09,1204.95 1379.47,1207.84 1373.84,1210.93 1368.21,1214.81 1362.58,1218.72 1356.96,1218.17 1351.33,1215.22 1345.7,1215.2 1340.07,1214.59 1334.45,1214.23 \n  1328.82,1212.59 1323.19,1211.51 1317.56,1207.24 1311.93,1204.34 1306.31,1206.99 1300.68,1205.84 1295.05,1213.14 1289.42,1211.01 1283.8,1213.89 1278.17,1216.45 \n  1272.54,1216.67 1266.91,1217.5 1261.29,1217.85 1255.66,1216.7 1250.03,1213.5 1244.4,1216.23 1238.78,1218.55 1233.15,1219.12 1227.52,1220.17 1221.89,1220.76 \n  1216.27,1218.68 1210.64,1219.92 1205.01,1222.41 1199.38,1221.64 1193.76,1216.18 1188.13,1216.79 1182.5,1215.89 1176.87,1214.56 1171.25,1214.4 1165.62,1212.21 \n  1159.99,1213.92 1154.36,1214.66 1148.74,1217.56 1143.11,1217.21 1137.48,1214.11 1131.85,1214.67 1126.22,1216.63 1120.6,1216.73 1114.97,1213.27 1109.34,1214.2 \n  1103.71,1212.43 1098.09,1205.8 1092.46,1209.91 1086.83,1212.61 1081.2,1211.12 1075.58,1212.82 1069.95,1216.38 1064.32,1214.28 1058.69,1210.43 1053.07,1206.9 \n  1047.44,1210.3 1041.81,1210.42 1036.18,1222.99 1030.56,1210.41 1024.93,1201.62 1019.3,1190.8 1013.67,1194.45 1008.05,1163.56 1002.42,1166.64 996.791,1159.84 \n  991.163,1164.08 985.535,1157.14 979.908,1158.91 974.28,1166.4 968.653,1155.13 963.025,1156.52 957.397,1149.53 951.77,1148.35 946.142,1149.47 940.515,1147.33 \n  934.887,1144.64 929.26,1147.5 923.632,1140.6 918.004,1139.89 912.377,1141.94 906.749,1139.69 901.122,1141.13 895.494,1136.07 889.866,1128.54 884.239,1127.29 \n  878.611,1124.56 872.984,1136.71 867.356,1145.84 861.729,1146.55 856.101,1149.28 850.473,1147.2 844.846,1142.69 839.218,1144.69 833.591,1130.41 827.963,1124.69 \n  822.336,1114.72 816.708,1124.38 811.08,1119.94 805.453,1125.64 799.825,1120.13 794.198,1114.89 788.57,1111.16 782.942,1107.62 777.315,1107.17 771.687,1093.57 \n  766.06,1082.39 760.432,1071.9 754.805,1068.42 749.177,1058.31 743.549,1051.95 737.922,1042.4 732.294,1035.09 726.667,1023.47 721.039,1018.43 715.412,1005.71 \n  709.784,996.847 704.156,1014.12 698.529,1002.02 692.901,948.41 687.274,928.911 681.646,860.994 676.018,842.796 670.391,819.932 664.763,799.643 659.136,762.346 \n  653.508,671.642 647.881,705.555 642.253,663.02 636.625,648.526 630.998,604.369 625.37,706.843 619.743,651.285 614.115,570.538 608.487,643.876 602.86,700.701 \n  597.232,676.375 591.605,627.652 585.977,673.031 580.35,670.357 574.722,713.424 569.094,668.013 563.467,780.979 557.839,712.932 552.212,697.229 546.584,673.37 \n  540.957,572.037 535.329,539.837 529.701,464.091 524.074,543.328 518.446,536.858 512.819,462.428 507.191,375.699 501.563,245.148 495.936,311.434 490.308,443.619 \n  484.681,387.978 479.053,366.211 473.426,315.007 467.798,331.706 462.17,186.754 456.543,86.1857 450.915,185.623 445.288,732.226 439.66,801.437 434.033,759.403 \n  428.405,805.107 422.777,914.989 417.15,864.129 411.522,980.883 405.895,1051.18 400.267,1055.7 394.639,1046.34 389.012,1049.87 383.384,1121.48 377.757,1090.72 \n  372.129,1175.34 366.502,1166.82 360.874,1167.8 355.246,1186.69 349.619,1190.57 343.991,1166.22 338.364,1164.38 332.736,1187.68 327.108,1186.22 321.481,1195.88 \n  315.853,1188.64 310.226,1179.71 304.598,1181.56 298.971,1197.2 293.343,1198.95 287.715,1175.51 282.088,1181.41 276.46,1173.86 270.833,1171.75 265.205,1201.8 \n  259.578,1201.57 253.95,1211.25 248.322,1213 242.695,1218.83 237.067,1214.41 \n  \"/>\n<path clip-path=\"url(#clip800)\" d=\"\nM1914.26 404.149 L2280.18 404.149 L2280.18 93.1086 L1914.26 93.1086  Z\n  \" fill=\"#ffffff\" fill-rule=\"evenodd\" fill-opacity=\"1\"/>\n<polyline clip-path=\"url(#clip800)\" style=\"stroke:#000000; stroke-linecap:butt; stroke-linejoin:round; stroke-width:4; stroke-opacity:1; fill:none\" points=\"\n  1914.26,404.149 2280.18,404.149 2280.18,93.1086 1914.26,93.1086 1914.26,404.149 \n  \"/>\n<polyline clip-path=\"url(#clip800)\" style=\"stroke:#009af9; stroke-linecap:butt; stroke-linejoin:round; stroke-width:4; stroke-opacity:1; fill:none\" points=\"\n  1938.45,144.949 2083.61,144.949 \n  \"/>\n<path clip-path=\"url(#clip800)\" d=\"M2142.04 141.94 Q2142.04 144.118 2140.55 146.086 Q2139.07 148.03 2136.82 149.271 Q2134.57 150.489 2132.02 150.958 Q2135.46 151.356 2137.45 153.23 Q2139.47 155.103 2139.47 157.727 Q2139.47 159.483 2138.44 161.334 Q2137.43 163.161 2135.7 164.66 Q2133.99 166.159 2131.46 167.119 Q2128.95 168.079 2126.21 168.079 L2109.09 168.079 Q2108.55 168.079 2108.34 168.056 Q2108.13 168.033 2107.97 167.915 Q2107.8 167.798 2107.8 167.541 Q2107.8 167.072 2107.97 166.861 Q2108.15 166.651 2108.36 166.627 Q2108.57 166.604 2109.09 166.604 Q2110.26 166.604 2110.96 166.533 Q2111.67 166.463 2112.11 166.37 Q2112.58 166.252 2112.81 165.925 Q2113.07 165.597 2113.19 165.316 Q2113.31 165.011 2113.47 164.332 L2119.89 138.567 Q2120.07 137.794 2120.07 137.677 Q2120.07 137.232 2119.79 137.115 Q2119.54 136.974 2118.79 136.904 L2116.96 136.81 Q2116.4 136.81 2116.16 136.787 Q2115.95 136.764 2115.79 136.646 Q2115.62 136.529 2115.62 136.272 Q2115.62 135.616 2115.91 135.475 Q2116.21 135.311 2117.01 135.311 L2133.12 135.311 Q2137.27 135.311 2139.66 137.232 Q2142.04 139.129 2142.04 141.94 M2137.69 141.753 Q2137.69 140.862 2137.45 140.066 Q2137.22 139.27 2136.66 138.497 Q2136.12 137.724 2135.04 137.279 Q2133.96 136.81 2132.46 136.81 L2126.26 136.81 Q2124.74 136.81 2124.36 137.091 Q2124.01 137.349 2123.68 138.637 L2120.71 150.513 L2127.71 150.513 Q2129.84 150.513 2131.72 149.74 Q2133.61 148.967 2134.9 147.725 Q2136.19 146.46 2136.94 144.891 Q2137.69 143.322 2137.69 141.753 M2134.99 157.188 Q2134.99 156.485 2134.88 155.806 Q2134.76 155.127 2134.39 154.33 Q2134.01 153.534 2133.43 152.948 Q2132.84 152.363 2131.81 151.965 Q2130.8 151.567 2129.49 151.567 L2120.43 151.567 L2117.1 164.964 Q2116.87 165.831 2116.87 166.065 Q2116.87 166.323 2116.98 166.416 Q2117.12 166.487 2117.5 166.533 Q2117.92 166.604 2118.55 166.604 L2125.06 166.604 Q2127.12 166.604 2129 165.807 Q2130.87 164.988 2132.16 163.676 Q2133.47 162.364 2134.22 160.654 Q2134.99 158.945 2134.99 157.188 Z\" fill=\"#000000\" fill-rule=\"evenodd\" fill-opacity=\"1\" /><path clip-path=\"url(#clip800)\" d=\"M2177.24 136.131 Q2177.24 136.576 2177.15 136.951 L2175.83 145.289 Q2175.76 145.922 2175.62 146.156 Q2175.51 146.39 2175.13 146.39 Q2174.55 146.39 2174.55 145.781 Q2174.55 145.43 2174.69 144.868 Q2175.08 142.221 2175.08 141.026 Q2175.08 140.23 2174.92 139.645 Q2174.78 139.036 2174.55 138.614 Q2174.33 138.192 2173.84 137.911 Q2173.35 137.63 2172.88 137.466 Q2172.41 137.302 2171.57 137.232 Q2170.73 137.138 2170 137.115 Q2169.28 137.091 2168.08 137.091 Q2165.48 137.091 2165.06 137.185 Q2164.61 137.302 2164.38 137.654 Q2164.17 137.982 2163.94 138.965 L2157.56 164.425 L2157.38 165.433 Q2157.38 165.995 2157.73 166.182 Q2158.08 166.37 2159.16 166.487 Q2160.7 166.604 2162.23 166.604 Q2162.27 166.604 2162.37 166.604 Q2162.88 166.604 2163.09 166.627 Q2163.3 166.627 2163.51 166.674 Q2163.72 166.721 2163.77 166.838 Q2163.84 166.932 2163.84 167.119 Q2163.84 167.564 2163.65 167.798 Q2163.47 168.009 2163.28 168.056 Q2163.12 168.079 2162.79 168.079 Q2162.13 168.079 2160.73 168.033 Q2159.32 167.986 2158.62 167.986 L2154.64 167.939 L2150.56 167.986 Q2149.93 167.986 2148.59 168.033 Q2147.26 168.079 2146.63 168.079 Q2145.81 168.079 2145.81 167.494 Q2145.81 166.838 2146.11 166.721 Q2146.44 166.604 2147.82 166.604 Q2149.76 166.604 2150.82 166.51 Q2151.87 166.416 2152.43 166.088 Q2153.02 165.761 2153.18 165.433 Q2153.35 165.081 2153.54 164.285 L2159.98 138.684 Q2160.16 138.122 2160.16 137.677 Q2160.16 137.443 2160.09 137.349 Q2160.05 137.255 2159.74 137.185 Q2159.44 137.091 2158.81 137.091 L2156.93 137.091 Q2155.01 137.091 2153.82 137.185 Q2152.65 137.255 2151.52 137.607 Q2150.42 137.958 2149.76 138.45 Q2149.13 138.942 2148.43 139.949 Q2147.73 140.956 2147.21 142.174 Q2146.72 143.392 2146.02 145.383 Q2145.78 146.039 2145.64 146.226 Q2145.53 146.39 2145.2 146.39 Q2144.96 146.39 2144.78 146.25 Q2144.61 146.086 2144.61 145.875 Q2144.85 145.102 2144.89 145.008 L2147.77 136.553 Q2148.01 135.874 2148.22 135.756 Q2148.45 135.616 2149.32 135.616 L2175.93 135.616 Q2176.35 135.616 2176.49 135.616 Q2176.63 135.616 2176.86 135.663 Q2177.1 135.71 2177.17 135.827 Q2177.24 135.944 2177.24 136.131 Z\" fill=\"#000000\" fill-rule=\"evenodd\" fill-opacity=\"1\" /><path clip-path=\"url(#clip800)\" d=\"M2212.39 134.749 L2209.36 146.976 Q2209.15 147.749 2209.01 147.842 Q2208.9 147.936 2208.52 147.936 Q2207.8 147.936 2207.8 147.444 Q2207.8 147.397 2207.87 146.788 Q2207.94 146.156 2207.94 145.008 Q2207.94 140.769 2205.87 138.263 Q2203.84 135.756 2200.21 135.756 Q2197.07 135.756 2193.91 137.349 Q2190.77 138.942 2188.52 141.542 Q2186.83 143.509 2185.59 145.992 Q2184.37 148.475 2183.79 150.747 Q2183.23 153.019 2182.97 154.729 Q2182.71 156.438 2182.71 157.68 Q2182.71 159.483 2183.08 161.006 Q2183.48 162.528 2184.19 163.606 Q2184.89 164.66 2185.78 165.479 Q2186.69 166.276 2187.75 166.744 Q2188.82 167.213 2189.9 167.447 Q2190.98 167.658 2192.1 167.658 Q2196.62 167.658 2200.93 164.144 Q2204.35 161.263 2205.78 156.556 Q2205.9 156.087 2206.39 156.087 Q2206.98 156.087 2206.98 156.556 Q2206.98 156.649 2206.86 157.118 Q2206.74 157.563 2206.39 158.476 Q2206.04 159.366 2205.5 160.373 Q2204.96 161.381 2203.95 162.645 Q2202.95 163.91 2201.71 165.011 Q2199.6 166.838 2196.93 167.986 Q2194.26 169.133 2191.33 169.133 Q2187.68 169.133 2184.72 167.517 Q2181.77 165.901 2180.04 162.88 Q2178.33 159.858 2178.33 155.993 Q2178.33 151.918 2180.2 147.913 Q2182.08 143.907 2185.05 140.933 Q2188.03 137.958 2191.96 136.108 Q2195.9 134.257 2199.83 134.257 Q2201.33 134.257 2202.67 134.656 Q2204 135.054 2204.8 135.546 Q2205.62 136.037 2206.34 136.764 Q2207.07 137.466 2207.3 137.794 Q2207.56 138.122 2207.8 138.52 L2211.14 134.843 Q2211.73 134.257 2211.87 134.257 Q2212.15 134.257 2212.27 134.421 Q2212.39 134.585 2212.39 134.749 Z\" fill=\"#000000\" fill-rule=\"evenodd\" fill-opacity=\"1\" /><polyline clip-path=\"url(#clip800)\" style=\"stroke:#e26f46; stroke-linecap:butt; stroke-linejoin:round; stroke-width:4; stroke-opacity:1; fill:none\" points=\"\n  1938.45,196.789 2083.61,196.789 \n  \"/>\n<path clip-path=\"url(#clip800)\" d=\"M2142.58 188.611 L2141.62 196.903 Q2141.55 197.652 2141.44 197.887 Q2141.32 198.097 2140.94 198.097 Q2140.66 198.097 2140.5 197.934 Q2140.36 197.746 2140.36 197.535 Q2140.36 197.418 2140.38 197.114 Q2140.41 196.809 2140.41 196.669 Q2140.62 195.217 2140.62 194.116 Q2140.62 192.078 2140.01 190.977 Q2139.4 189.853 2137.83 189.337 Q2136.26 188.799 2133.31 188.799 L2126.56 188.799 Q2125.02 188.799 2124.64 189.08 Q2124.29 189.361 2123.96 190.673 L2121.08 202.22 L2125.6 202.22 Q2127.29 202.22 2128.3 202.009 Q2129.33 201.798 2130.01 201.213 Q2130.71 200.604 2131.08 199.784 Q2131.48 198.964 2131.88 197.488 Q2132 196.997 2132.11 196.809 Q2132.25 196.622 2132.56 196.622 Q2132.79 196.622 2132.96 196.786 Q2133.12 196.926 2133.12 197.137 L2130.38 208.356 Q2130.24 208.919 2130.1 209.129 Q2129.96 209.317 2129.68 209.317 Q2129.37 209.317 2129.21 209.153 Q2129.05 208.989 2129.05 208.802 Q2129.05 208.614 2129.19 208.263 Q2129.54 206.74 2129.54 205.921 Q2129.54 205.452 2129.49 205.218 Q2129.47 204.984 2129.26 204.656 Q2129.07 204.304 2128.65 204.14 Q2128.23 203.976 2127.43 203.859 Q2126.63 203.719 2125.44 203.719 L2120.71 203.719 L2117.43 216.812 Q2117.19 217.679 2117.19 217.913 Q2117.19 218.17 2117.31 218.264 Q2117.45 218.334 2117.83 218.381 Q2118.25 218.452 2118.88 218.452 L2125.88 218.452 Q2127.43 218.452 2128.67 218.311 Q2129.91 218.17 2130.94 217.819 Q2132 217.468 2132.79 217.07 Q2133.59 216.671 2134.34 215.945 Q2135.09 215.196 2135.6 214.54 Q2136.14 213.861 2136.77 212.713 Q2137.41 211.565 2137.85 210.628 Q2138.3 209.668 2138.98 208.122 Q2139.16 207.56 2139.61 207.56 Q2139.87 207.56 2140.01 207.701 Q2140.15 207.818 2140.17 207.935 L2140.17 208.075 Q2140.03 208.52 2139.94 208.755 L2135.53 219.107 Q2135.28 219.693 2135.06 219.81 Q2134.85 219.927 2134.03 219.927 L2109.14 219.927 Q2108.57 219.927 2108.34 219.904 Q2108.13 219.88 2107.97 219.763 Q2107.8 219.623 2107.8 219.342 Q2107.8 218.897 2107.99 218.709 Q2108.18 218.498 2108.39 218.475 Q2108.6 218.452 2109.14 218.452 Q2110.31 218.452 2111.01 218.381 Q2111.71 218.311 2112.16 218.217 Q2112.63 218.1 2112.86 217.772 Q2113.12 217.444 2113.24 217.163 Q2113.35 216.859 2113.52 216.18 L2119.84 190.813 Q2120.07 189.946 2120.07 189.665 Q2120.07 189.361 2119.86 189.174 Q2119.68 188.986 2119.16 188.916 Q2118.65 188.822 2118.22 188.822 Q2117.83 188.799 2116.96 188.799 Q2116.4 188.799 2116.16 188.775 Q2115.95 188.752 2115.79 188.635 Q2115.62 188.518 2115.62 188.26 Q2115.62 187.604 2115.91 187.464 Q2116.21 187.3 2117.05 187.3 L2141.27 187.3 Q2142.23 187.3 2142.44 187.511 Q2142.68 187.698 2142.58 188.611 Z\" fill=\"#000000\" fill-rule=\"evenodd\" fill-opacity=\"1\" /><path clip-path=\"url(#clip800)\" d=\"M2177.39 187.979 Q2177.39 188.424 2177.3 188.799 L2175.99 197.137 Q2175.92 197.77 2175.78 198.004 Q2175.66 198.238 2175.29 198.238 Q2174.7 198.238 2174.7 197.629 Q2174.7 197.278 2174.84 196.716 Q2175.24 194.069 2175.24 192.874 Q2175.24 192.078 2175.07 191.492 Q2174.93 190.883 2174.7 190.462 Q2174.49 190.04 2174 189.759 Q2173.51 189.478 2173.04 189.314 Q2172.57 189.15 2171.73 189.08 Q2170.88 188.986 2170.16 188.963 Q2169.43 188.939 2168.24 188.939 Q2165.64 188.939 2165.21 189.033 Q2164.77 189.15 2164.53 189.501 Q2164.32 189.829 2164.09 190.813 L2157.72 216.273 L2157.53 217.28 Q2157.53 217.843 2157.88 218.03 Q2158.23 218.217 2159.31 218.334 Q2160.86 218.452 2162.38 218.452 Q2162.43 218.452 2162.52 218.452 Q2163.04 218.452 2163.25 218.475 Q2163.46 218.475 2163.67 218.522 Q2163.88 218.569 2163.93 218.686 Q2164 218.779 2164 218.967 Q2164 219.412 2163.81 219.646 Q2163.62 219.857 2163.43 219.904 Q2163.27 219.927 2162.94 219.927 Q2162.29 219.927 2160.88 219.88 Q2159.48 219.833 2158.77 219.833 L2154.79 219.787 L2150.72 219.833 Q2150.08 219.833 2148.75 219.88 Q2147.41 219.927 2146.78 219.927 Q2145.96 219.927 2145.96 219.342 Q2145.96 218.686 2146.27 218.569 Q2146.59 218.452 2147.98 218.452 Q2149.92 218.452 2150.97 218.358 Q2152.03 218.264 2152.59 217.936 Q2153.17 217.608 2153.34 217.28 Q2153.5 216.929 2153.69 216.133 L2160.13 190.532 Q2160.32 189.97 2160.32 189.525 Q2160.32 189.291 2160.25 189.197 Q2160.2 189.103 2159.9 189.033 Q2159.59 188.939 2158.96 188.939 L2157.09 188.939 Q2155.17 188.939 2153.97 189.033 Q2152.8 189.103 2151.68 189.455 Q2150.58 189.806 2149.92 190.298 Q2149.29 190.79 2148.58 191.797 Q2147.88 192.804 2147.37 194.022 Q2146.87 195.24 2146.17 197.231 Q2145.94 197.887 2145.8 198.074 Q2145.68 198.238 2145.35 198.238 Q2145.12 198.238 2144.93 198.097 Q2144.77 197.934 2144.77 197.723 Q2145 196.95 2145.05 196.856 L2147.93 188.401 Q2148.16 187.721 2148.37 187.604 Q2148.61 187.464 2149.47 187.464 L2176.08 187.464 Q2176.5 187.464 2176.64 187.464 Q2176.78 187.464 2177.02 187.511 Q2177.25 187.557 2177.32 187.674 Q2177.39 187.792 2177.39 187.979 Z\" fill=\"#000000\" fill-rule=\"evenodd\" fill-opacity=\"1\" /><path clip-path=\"url(#clip800)\" d=\"M2219.99 187.698 Q2219.99 188.377 2219.69 188.518 Q2219.4 188.658 2218.37 188.658 Q2216.62 188.658 2215.82 188.892 Q2215.05 189.103 2214.81 189.478 Q2214.6 189.829 2214.35 190.86 L2207.86 216.765 Q2207.86 216.789 2207.79 217.116 Q2207.72 217.421 2207.72 217.585 Q2207.72 217.889 2207.9 218.077 Q2208.11 218.264 2208.63 218.358 Q2209.15 218.428 2209.54 218.452 Q2209.97 218.452 2210.83 218.452 Q2211.91 218.452 2212.07 218.639 Q2212.17 218.756 2212.17 218.967 Q2212.17 219.412 2211.98 219.646 Q2211.82 219.857 2211.65 219.904 Q2211.51 219.927 2211.23 219.927 Q2210.74 219.927 2209.68 219.88 Q2208.63 219.833 2208.09 219.833 L2205.02 219.787 L2198.93 219.927 Q2198.28 219.927 2198.28 219.388 Q2198.28 218.92 2198.44 218.709 Q2198.61 218.498 2198.77 218.475 Q2198.96 218.452 2199.42 218.452 Q2201.84 218.452 2202.63 218.217 Q2203.45 217.96 2203.78 216.859 L2207.08 203.625 L2192.47 203.625 L2189.19 216.765 Q2189.19 216.789 2189.12 217.116 Q2189.05 217.421 2189.05 217.585 Q2189.05 217.889 2189.24 218.077 Q2189.45 218.264 2189.96 218.358 Q2190.48 218.428 2190.88 218.452 Q2191.3 218.452 2192.16 218.452 Q2193.24 218.452 2193.43 218.639 Q2193.52 218.756 2193.52 218.967 Q2193.52 219.295 2193.43 219.529 Q2193.36 219.74 2193.17 219.81 Q2193.01 219.88 2192.89 219.904 Q2192.77 219.927 2192.56 219.927 Q2192.07 219.927 2191.02 219.88 Q2189.99 219.833 2189.45 219.833 L2186.38 219.787 L2180.29 219.927 Q2179.61 219.927 2179.61 219.388 Q2179.61 218.92 2179.77 218.733 Q2179.94 218.522 2180.15 218.498 Q2180.36 218.452 2180.9 218.452 Q2182.07 218.452 2182.77 218.381 Q2183.47 218.311 2183.92 218.217 Q2184.39 218.1 2184.62 217.772 Q2184.88 217.444 2185 217.163 Q2185.11 216.859 2185.28 216.18 L2191.7 190.415 Q2191.88 189.642 2191.88 189.525 Q2191.88 189.08 2191.6 188.963 Q2191.34 188.822 2190.59 188.752 L2188.77 188.658 Q2188.21 188.658 2187.97 188.635 Q2187.76 188.611 2187.6 188.494 Q2187.43 188.377 2187.43 188.12 Q2187.43 187.792 2187.5 187.581 Q2187.6 187.347 2187.76 187.276 Q2187.92 187.206 2188.04 187.183 Q2188.16 187.159 2188.35 187.159 L2194.53 187.3 L2200.67 187.159 Q2201.35 187.159 2201.35 187.698 Q2201.35 188.377 2201.04 188.518 Q2200.74 188.658 2199.71 188.658 Q2198 188.658 2197.2 188.892 Q2196.4 189.103 2196.15 189.478 Q2195.91 189.853 2195.68 190.86 L2192.84 202.126 L2207.48 202.126 L2210.36 190.415 Q2210.55 189.572 2210.55 189.525 Q2210.55 189.08 2210.27 188.963 Q2210.01 188.822 2209.26 188.752 L2207.44 188.658 Q2206.87 188.658 2206.64 188.635 Q2206.43 188.611 2206.24 188.494 Q2206.08 188.377 2206.08 188.12 Q2206.08 187.792 2206.15 187.581 Q2206.24 187.347 2206.4 187.276 Q2206.57 187.206 2206.69 187.183 Q2206.8 187.159 2206.99 187.159 L2213.17 187.3 L2219.33 187.159 Q2219.99 187.159 2219.99 187.698 Z\" fill=\"#000000\" fill-rule=\"evenodd\" fill-opacity=\"1\" /><polyline clip-path=\"url(#clip800)\" style=\"stroke:#3da44d; stroke-linecap:butt; stroke-linejoin:round; stroke-width:4; stroke-opacity:1; fill:none\" points=\"\n  1938.45,248.629 2083.61,248.629 \n  \"/>\n<path clip-path=\"url(#clip800)\" d=\"M2147.34 239.014 Q2147.34 239.436 2147.17 239.67 Q2147.03 239.881 2146.87 239.928 Q2146.71 239.951 2146.28 239.975 Q2142.93 240.139 2140.19 242.411 Q2139.52 242.996 2137.81 244.823 Q2136.12 246.65 2133.87 249.086 Q2131.65 251.522 2130.36 252.834 L2136.54 267.637 Q2136.8 268.222 2136.89 268.48 Q2137.01 268.714 2137.24 269.019 Q2137.5 269.323 2137.69 269.417 Q2137.9 269.51 2138.34 269.628 Q2138.81 269.721 2139.28 269.745 Q2139.77 269.745 2140.66 269.768 Q2140.94 269.768 2141.06 269.792 Q2141.2 269.792 2141.37 269.932 Q2141.53 270.049 2141.53 270.33 Q2141.53 270.752 2141.34 270.986 Q2141.18 271.197 2141.01 271.22 Q2140.87 271.244 2140.62 271.244 Q2140.01 271.244 2137.95 271.173 Q2135.88 271.103 2135.3 271.103 L2129.26 271.244 Q2128.53 271.244 2128.53 270.658 Q2128.53 270.354 2128.58 270.19 Q2128.65 270.002 2128.81 269.932 Q2128.98 269.838 2129.09 269.815 Q2129.21 269.792 2129.49 269.768 Q2130.36 269.674 2131.01 269.417 Q2131.69 269.136 2131.97 268.855 Q2132.28 268.574 2132.28 268.363 L2132.04 267.684 L2127.19 256.23 L2122.86 260.938 L2117.97 266.114 Q2116.68 267.496 2116.68 268.269 Q2116.68 269.557 2118.6 269.768 Q2119.18 269.815 2119.18 270.283 Q2119.18 270.728 2119 270.963 Q2118.83 271.173 2118.67 271.22 Q2118.53 271.244 2118.32 271.244 Q2117.45 271.244 2115.62 271.173 Q2113.82 271.103 2112.93 271.103 Q2112.18 271.103 2110.66 271.173 Q2109.14 271.244 2108.43 271.244 Q2108.15 271.244 2107.99 271.103 Q2107.82 270.963 2107.82 270.822 L2107.8 270.705 Q2107.8 270.377 2107.85 270.19 Q2107.92 270.002 2108.11 269.909 Q2108.32 269.815 2108.41 269.815 Q2108.5 269.792 2108.86 269.768 Q2110.85 269.651 2112.53 268.878 Q2114.24 268.105 2115.91 266.302 Q2116.05 266.184 2116.21 266.044 Q2116.4 265.903 2116.54 265.786 L2126.66 254.895 L2120.99 241.497 Q2120.73 240.888 2120.5 240.631 Q2120.26 240.35 2119.54 240.162 Q2118.81 239.975 2117.4 239.975 Q2117.01 239.975 2116.82 239.951 Q2116.63 239.928 2116.47 239.811 Q2116.3 239.694 2116.3 239.436 Q2116.3 238.991 2116.47 238.78 Q2116.65 238.546 2116.8 238.523 Q2116.96 238.476 2117.17 238.476 Q2117.76 238.476 2119.84 238.546 Q2121.92 238.616 2122.53 238.616 Q2123.54 238.616 2125.56 238.546 Q2127.59 238.476 2128.58 238.476 Q2129.3 238.476 2129.3 239.061 Q2129.3 239.436 2129.14 239.647 Q2128.98 239.858 2128.81 239.905 Q2128.65 239.951 2128.34 239.975 Q2127.43 240.068 2126.73 240.373 Q2126.05 240.654 2125.77 240.935 Q2125.51 241.193 2125.51 241.357 L2125.74 241.989 L2129.77 251.522 L2137.55 243.184 Q2138.46 242.153 2138.46 241.45 Q2138.46 240.186 2136.54 239.975 Q2135.95 239.881 2135.95 239.436 Q2135.95 238.991 2136.14 238.78 Q2136.33 238.546 2136.47 238.523 Q2136.63 238.476 2136.87 238.476 Q2137.74 238.476 2139.52 238.546 Q2141.32 238.616 2142.21 238.616 Q2142.96 238.616 2144.48 238.546 Q2146 238.476 2146.71 238.476 Q2146.99 238.476 2147.15 238.616 Q2147.31 238.733 2147.31 238.874 L2147.34 239.014 Z\" fill=\"#000000\" fill-rule=\"evenodd\" fill-opacity=\"1\" /><path clip-path=\"url(#clip800)\" d=\"M2180.17 244.706 Q2180.17 243.933 2179.96 243.301 Q2179.77 242.645 2179.46 242.2 Q2179.18 241.731 2178.64 241.38 Q2178.11 241.005 2177.66 240.771 Q2177.22 240.537 2176.47 240.396 Q2175.72 240.232 2175.22 240.162 Q2174.73 240.068 2173.89 240.022 Q2173.05 239.975 2172.62 239.975 Q2172.23 239.975 2171.43 239.975 Q2168.92 239.975 2168.5 240.022 Q2167.87 240.115 2167.64 240.49 Q2167.4 240.841 2167.17 241.802 L2164.05 254.309 L2169.42 254.309 Q2172.34 254.309 2174.36 253.49 Q2176.37 252.67 2177.52 251.522 Q2178.78 250.257 2179.46 248.219 Q2180.17 246.182 2180.17 244.706 M2185.39 266.793 Q2185.39 267.051 2185.18 267.637 Q2184.99 268.222 2184.52 269.042 Q2184.05 269.838 2183.42 270.564 Q2182.79 271.291 2181.78 271.782 Q2180.78 272.298 2179.63 272.298 Q2179.35 272.298 2179.07 272.274 Q2178.78 272.274 2178.08 272.157 Q2177.4 272.064 2176.84 271.876 Q2176.28 271.712 2175.58 271.314 Q2174.87 270.939 2174.38 270.424 Q2173.91 269.885 2173.58 269.042 Q2173.26 268.175 2173.26 267.121 Q2173.26 266.184 2174.03 263.046 Q2174.71 260.376 2174.71 259.72 Q2174.71 258.994 2174.47 258.315 Q2174.26 257.635 2173.73 256.933 Q2173.21 256.23 2172.11 255.808 Q2171.01 255.363 2169.46 255.363 L2163.77 255.363 L2160.59 268.082 Q2160.59 268.105 2160.51 268.433 Q2160.44 268.738 2160.44 268.901 Q2160.44 269.206 2160.63 269.393 Q2160.84 269.581 2161.36 269.674 Q2161.87 269.745 2162.27 269.768 Q2162.69 269.768 2163.56 269.768 Q2164.64 269.768 2164.82 269.956 Q2164.92 270.073 2164.92 270.283 Q2164.92 270.611 2164.82 270.846 Q2164.75 271.056 2164.57 271.127 Q2164.4 271.197 2164.29 271.22 Q2164.17 271.244 2163.96 271.244 L2157.87 271.103 L2151.83 271.244 Q2151.15 271.244 2151.15 270.705 Q2151.15 270.237 2151.31 270.049 Q2151.47 269.838 2151.68 269.815 Q2151.9 269.768 2152.43 269.768 Q2153.61 269.768 2154.31 269.698 Q2155.01 269.628 2155.46 269.534 Q2155.92 269.417 2156.16 269.089 Q2156.42 268.761 2156.53 268.48 Q2156.65 268.175 2156.81 267.496 L2163.23 241.731 Q2163.42 240.959 2163.42 240.841 Q2163.42 240.396 2163.14 240.279 Q2162.88 240.139 2162.13 240.068 L2160.3 239.975 Q2159.74 239.975 2159.51 239.951 Q2159.3 239.928 2159.13 239.811 Q2158.97 239.694 2158.97 239.436 Q2158.97 238.78 2159.25 238.64 Q2159.53 238.476 2160.35 238.476 L2174.03 238.476 Q2178.69 238.476 2181.64 240.513 Q2184.62 242.551 2184.62 245.666 Q2184.62 247.072 2183.98 248.383 Q2183.35 249.695 2182.3 250.726 Q2181.27 251.756 2179.89 252.623 Q2178.5 253.466 2177.03 254.052 Q2175.58 254.614 2174.08 254.942 Q2174.73 255.176 2175.34 255.527 Q2175.97 255.879 2176.77 256.534 Q2177.59 257.19 2178.08 258.244 Q2178.57 259.298 2178.57 260.587 Q2178.57 261.5 2178.39 262.859 Q2177.92 266.723 2177.92 268.316 Q2177.92 269.838 2178.32 270.541 Q2178.71 271.244 2179.84 271.244 Q2180.94 271.244 2182.16 270.26 Q2183.4 269.253 2184.19 266.887 Q2184.38 266.208 2184.83 266.208 Q2184.85 266.208 2184.87 266.208 Q2184.92 266.208 2185.01 266.255 Q2185.11 266.278 2185.18 266.348 Q2185.27 266.395 2185.32 266.512 Q2185.39 266.63 2185.39 266.793 Z\" fill=\"#000000\" fill-rule=\"evenodd\" fill-opacity=\"1\" /><path clip-path=\"url(#clip800)\" d=\"M2222.2 245.713 Q2222.2 248.337 2220.26 250.749 Q2218.34 253.162 2215.2 254.637 Q2212.08 256.089 2208.73 256.089 L2200.58 256.089 L2197.61 268.082 Q2197.58 268.152 2197.51 268.456 Q2197.44 268.738 2197.44 268.901 Q2197.44 269.487 2198.17 269.628 Q2198.92 269.768 2200.58 269.768 Q2201.66 269.768 2201.82 269.956 Q2201.92 270.073 2201.92 270.283 Q2201.92 270.611 2201.82 270.846 Q2201.73 271.056 2201.54 271.127 Q2201.38 271.197 2201.26 271.22 Q2201.14 271.244 2200.96 271.244 Q2200.46 271.244 2199.41 271.197 Q2198.38 271.15 2197.84 271.15 L2194.77 271.103 L2188.68 271.244 Q2187.96 271.244 2187.96 270.658 Q2187.96 270.213 2188.14 270.026 Q2188.33 269.815 2188.54 269.792 Q2188.75 269.768 2189.29 269.768 Q2190.46 269.768 2191.17 269.698 Q2191.87 269.628 2192.31 269.534 Q2192.78 269.417 2193.02 269.089 Q2193.27 268.761 2193.39 268.48 Q2193.51 268.175 2193.67 267.496 L2200.09 241.731 Q2200.28 240.959 2200.28 240.841 Q2200.28 240.443 2200.04 240.303 Q2199.83 240.139 2199.22 240.068 Q2198.05 239.975 2197.16 239.975 Q2196.58 239.975 2196.34 239.951 Q2196.13 239.928 2195.94 239.811 Q2195.78 239.67 2195.78 239.389 Q2195.78 238.944 2195.97 238.757 Q2196.18 238.546 2196.41 238.523 Q2196.65 238.476 2197.21 238.476 L2212.76 238.476 Q2217.23 238.476 2219.72 240.607 Q2222.2 242.739 2222.2 245.713 M2217.75 244.566 Q2217.75 239.975 2211.21 239.975 L2206.62 239.975 Q2205.1 239.975 2204.73 240.256 Q2204.35 240.513 2204.02 241.802 L2200.77 254.848 L2207.54 254.848 Q2212.08 254.848 2214.92 252.295 Q2216.2 251.124 2216.98 248.688 Q2217.75 246.252 2217.75 244.566 Z\" fill=\"#000000\" fill-rule=\"evenodd\" fill-opacity=\"1\" /><polyline clip-path=\"url(#clip800)\" style=\"stroke:#c271d2; stroke-linecap:butt; stroke-linejoin:round; stroke-width:4; stroke-opacity:1; fill:none\" points=\"\n  1938.45,300.469 2083.61,300.469 \n  \"/>\n<path clip-path=\"url(#clip800)\" d=\"M2136.26 290.269 L2133.66 300.762 Q2133.52 301.395 2133.4 301.559 Q2133.28 301.723 2132.96 301.723 Q2132.7 301.723 2132.54 301.606 Q2132.39 301.489 2132.39 301.371 L2132.37 301.254 Q2132.37 301.184 2132.42 300.833 Q2132.46 300.458 2132.51 299.849 Q2132.56 299.24 2132.56 298.561 Q2132.56 294.719 2130.68 292.939 Q2128.83 291.136 2125.65 291.136 Q2123.45 291.136 2121.48 292.307 Q2119.51 293.478 2118.39 295.328 Q2117.26 297.155 2117.26 299.076 Q2117.26 300.833 2118.15 301.957 Q2119.04 303.081 2120.19 303.456 L2123.4 304.323 Q2126.77 305.189 2127.73 305.564 Q2128.69 305.915 2129.49 306.712 Q2131.86 308.913 2131.86 312.333 Q2131.86 315.284 2130.19 318.142 Q2128.53 320.976 2125.67 322.826 Q2122.81 324.653 2119.65 324.653 Q2114.1 324.653 2111.55 321.21 L2109.21 323.927 Q2108.76 324.443 2108.62 324.536 Q2108.5 324.653 2108.34 324.653 Q2108.13 324.653 2107.97 324.513 Q2107.8 324.396 2107.8 324.185 Q2107.8 324.021 2109.18 318.517 Q2110.56 313.012 2110.68 312.895 Q2110.87 312.708 2111.17 312.708 Q2111.74 312.708 2111.74 313.247 Q2111.69 313.387 2111.64 313.575 Q2111.36 315.261 2111.36 316.174 Q2111.36 317.884 2111.95 319.196 Q2112.53 320.484 2113.4 321.234 Q2114.29 321.96 2115.48 322.428 Q2116.68 322.873 2117.69 323.037 Q2118.69 323.178 2119.75 323.178 Q2122.02 323.178 2124.03 321.866 Q2126.07 320.554 2127.22 318.517 Q2128.39 316.479 2128.39 314.348 Q2128.39 313.223 2128.08 312.357 Q2127.78 311.467 2127.36 310.975 Q2126.96 310.483 2126.28 310.108 Q2125.6 309.733 2125.13 309.593 Q2124.69 309.429 2123.99 309.265 L2118.86 307.906 Q2116.8 307.297 2115.32 305.541 Q2113.87 303.784 2113.87 301.09 Q2113.87 298.256 2115.53 295.633 Q2117.22 292.986 2119.96 291.394 Q2122.72 289.777 2125.7 289.777 Q2128.04 289.777 2129.84 290.691 Q2131.65 291.581 2132.56 293.244 L2134.88 290.503 Q2135.35 289.965 2135.44 289.871 Q2135.56 289.777 2135.72 289.777 Q2136 289.777 2136.12 289.941 Q2136.26 290.105 2136.26 290.269 Z\" fill=\"#000000\" fill-rule=\"evenodd\" fill-opacity=\"1\" /><path clip-path=\"url(#clip800)\" d=\"M2172.19 302.683 Q2172.19 306.033 2170.99 309.359 Q2169.82 312.661 2167.76 315.378 Q2165.7 318.095 2163.08 320.203 Q2160.45 322.311 2157.38 323.482 Q2154.32 324.653 2151.32 324.653 Q2146 324.653 2142.51 321.163 Q2139.02 317.673 2139.02 311.841 Q2139.02 307.766 2140.85 303.714 Q2142.67 299.638 2145.58 296.617 Q2148.48 293.572 2152.3 291.675 Q2156.14 289.777 2159.94 289.777 Q2165.32 289.777 2168.74 293.361 Q2172.19 296.921 2172.19 302.683 M2167.9 300.809 Q2167.9 298.233 2167.17 296.289 Q2166.45 294.321 2165.23 293.197 Q2164.04 292.073 2162.61 291.534 Q2161.2 290.972 2159.66 290.972 Q2156.66 290.972 2153.45 292.916 Q2150.24 294.86 2147.85 298.467 Q2146.56 300.435 2145.63 302.8 Q2144.69 305.142 2144.27 307.227 Q2143.85 309.288 2143.66 310.74 Q2143.49 312.193 2143.49 313.2 Q2143.49 317.884 2145.74 320.648 Q2147.99 323.412 2151.6 323.412 Q2154.43 323.412 2157.2 321.749 Q2159.96 320.063 2161.86 317.65 Q2163.54 315.565 2164.79 313.059 Q2166.05 310.553 2166.68 308.258 Q2167.32 305.962 2167.6 304.112 Q2167.9 302.262 2167.9 300.809 Z\" fill=\"#000000\" fill-rule=\"evenodd\" fill-opacity=\"1\" /><path clip-path=\"url(#clip800)\" d=\"M2205.76 311.748 Q2205.76 311.888 2205.57 312.427 L2201.78 322.78 Q2201.57 323.389 2201.35 323.506 Q2201.14 323.599 2200.28 323.599 L2178.07 323.599 Q2177.53 323.599 2177.32 323.576 Q2177.11 323.553 2176.95 323.435 Q2176.78 323.318 2176.78 323.061 Q2176.78 322.592 2176.95 322.381 Q2177.14 322.171 2177.35 322.147 Q2177.56 322.124 2178.07 322.124 Q2179.24 322.124 2179.95 322.053 Q2180.65 321.983 2181.09 321.89 Q2181.56 321.772 2181.8 321.445 Q2182.05 321.117 2182.17 320.836 Q2182.29 320.531 2182.45 319.852 L2188.87 294.087 Q2189.06 293.314 2189.06 293.197 Q2189.06 292.752 2188.78 292.635 Q2188.52 292.494 2187.77 292.424 L2185.94 292.33 Q2185.38 292.33 2185.15 292.307 Q2184.94 292.284 2184.77 292.166 Q2184.61 292.049 2184.61 291.792 Q2184.61 291.347 2184.77 291.136 Q2184.96 290.902 2185.1 290.878 Q2185.26 290.831 2185.52 290.831 L2191.89 290.972 L2198.99 290.831 Q2199.76 290.831 2199.76 291.417 Q2199.76 292.073 2199.43 292.213 Q2199.11 292.33 2197.94 292.33 Q2195.69 292.33 2194.66 292.565 Q2193.65 292.799 2193.37 293.197 Q2193.11 293.572 2192.85 294.579 L2186.36 320.484 Q2186.13 321.351 2186.13 321.585 Q2186.13 321.843 2186.25 321.936 Q2186.39 322.007 2186.76 322.053 Q2187.18 322.124 2187.82 322.124 L2192.31 322.124 Q2193.67 322.124 2194.87 321.913 Q2196.06 321.702 2196.97 321.398 Q2197.91 321.093 2198.76 320.531 Q2199.6 319.969 2200.18 319.477 Q2200.79 318.962 2201.38 318.165 Q2201.99 317.346 2202.34 316.783 Q2202.71 316.198 2203.14 315.261 Q2203.56 314.301 2203.77 313.762 Q2204 313.2 2204.35 312.239 Q2204.56 311.748 2204.63 311.607 Q2204.7 311.467 2204.82 311.349 Q2204.96 311.232 2205.17 311.232 Q2205.45 311.232 2205.59 311.396 Q2205.76 311.56 2205.76 311.748 Z\" fill=\"#000000\" fill-rule=\"evenodd\" fill-opacity=\"1\" /><polyline clip-path=\"url(#clip800)\" style=\"stroke:#ac8d18; stroke-linecap:butt; stroke-linejoin:round; stroke-width:4; stroke-opacity:1; fill:none\" points=\"\n  1938.45,352.309 2083.61,352.309 \n  \"/>\n<path clip-path=\"url(#clip800)\" d=\"M2140.43 343.077 Q2140.43 343.522 2140.33 343.897 L2139.02 352.235 Q2138.95 352.868 2138.81 353.102 Q2138.7 353.336 2138.32 353.336 Q2137.74 353.336 2137.74 352.727 Q2137.74 352.376 2137.88 351.814 Q2138.27 349.167 2138.27 347.972 Q2138.27 347.176 2138.11 346.59 Q2137.97 345.981 2137.74 345.56 Q2137.52 345.138 2137.03 344.857 Q2136.54 344.576 2136.07 344.412 Q2135.6 344.248 2134.76 344.178 Q2133.92 344.084 2133.19 344.061 Q2132.46 344.037 2131.27 344.037 Q2128.67 344.037 2128.25 344.131 Q2127.8 344.248 2127.57 344.6 Q2127.36 344.927 2127.12 345.911 L2120.75 371.371 L2120.57 372.379 Q2120.57 372.941 2120.92 373.128 Q2121.27 373.315 2122.35 373.433 Q2123.89 373.55 2125.41 373.55 Q2125.46 373.55 2125.56 373.55 Q2126.07 373.55 2126.28 373.573 Q2126.49 373.573 2126.7 373.62 Q2126.91 373.667 2126.96 373.784 Q2127.03 373.878 2127.03 374.065 Q2127.03 374.51 2126.84 374.744 Q2126.66 374.955 2126.47 375.002 Q2126.3 375.025 2125.98 375.025 Q2125.32 375.025 2123.92 374.978 Q2122.51 374.932 2121.81 374.932 L2117.83 374.885 L2113.75 374.932 Q2113.12 374.932 2111.78 374.978 Q2110.45 375.025 2109.82 375.025 Q2109 375.025 2109 374.44 Q2109 373.784 2109.3 373.667 Q2109.63 373.55 2111.01 373.55 Q2112.95 373.55 2114.01 373.456 Q2115.06 373.362 2115.62 373.034 Q2116.21 372.706 2116.37 372.379 Q2116.54 372.027 2116.73 371.231 L2123.17 345.63 Q2123.35 345.068 2123.35 344.623 Q2123.35 344.389 2123.28 344.295 Q2123.24 344.201 2122.93 344.131 Q2122.63 344.037 2122 344.037 L2120.12 344.037 Q2118.2 344.037 2117.01 344.131 Q2115.84 344.201 2114.71 344.553 Q2113.61 344.904 2112.95 345.396 Q2112.32 345.888 2111.62 346.895 Q2110.92 347.902 2110.4 349.12 Q2109.91 350.338 2109.21 352.329 Q2108.97 352.985 2108.83 353.172 Q2108.71 353.336 2108.39 353.336 Q2108.15 353.336 2107.97 353.196 Q2107.8 353.032 2107.8 352.821 Q2108.04 352.048 2108.08 351.954 L2110.96 343.499 Q2111.2 342.819 2111.41 342.702 Q2111.64 342.562 2112.51 342.562 L2139.12 342.562 Q2139.54 342.562 2139.68 342.562 Q2139.82 342.562 2140.05 342.609 Q2140.29 342.655 2140.36 342.773 Q2140.43 342.89 2140.43 343.077 Z\" fill=\"#000000\" fill-rule=\"evenodd\" fill-opacity=\"1\" /><path clip-path=\"url(#clip800)\" d=\"M2158.48 369.474 Q2158.66 369.685 2158.66 369.896 Q2158.66 370.107 2158.19 370.716 Q2157.75 371.325 2156.79 372.144 Q2155.83 372.964 2154.59 373.737 Q2153.35 374.51 2151.52 375.025 Q2149.69 375.564 2147.77 375.564 Q2144.33 375.564 2142.27 373.105 Q2140.23 370.645 2140.23 366.874 Q2140.23 364.462 2141.03 362.33 Q2141.82 360.175 2143.11 358.653 Q2144.42 357.131 2146.06 356.03 Q2147.72 354.905 2149.46 354.367 Q2151.19 353.828 2152.81 353.828 Q2155.17 353.828 2156.55 355.023 Q2157.94 356.217 2157.94 357.903 Q2157.94 358.302 2157.82 358.794 Q2157.73 359.285 2157.4 360.058 Q2157.09 360.831 2156.3 361.604 Q2155.5 362.354 2154.33 362.846 Q2151.73 363.946 2147 363.946 L2144.45 363.946 Q2143.7 366.968 2143.7 368.935 Q2143.7 369.708 2143.84 370.505 Q2143.98 371.278 2144.35 372.261 Q2144.75 373.245 2145.64 373.878 Q2146.55 374.487 2147.87 374.487 Q2148.29 374.487 2148.73 374.463 Q2149.2 374.44 2150.37 374.182 Q2151.57 373.924 2152.62 373.479 Q2153.67 373.034 2155.01 372.074 Q2156.37 371.09 2157.44 369.755 Q2157.82 369.263 2158.08 369.263 Q2158.29 369.263 2158.48 369.474 M2156.34 357.903 Q2156.34 356.615 2155.38 355.749 Q2154.45 354.882 2152.81 354.882 Q2152.29 354.882 2151.66 354.999 Q2151.03 355.116 2149.97 355.608 Q2148.94 356.1 2148.03 356.92 Q2147.12 357.716 2146.2 359.285 Q2145.29 360.831 2144.75 362.892 L2146.72 362.892 Q2147.4 362.892 2147.89 362.892 Q2148.38 362.869 2149.46 362.775 Q2150.56 362.682 2151.36 362.518 Q2152.15 362.33 2153.16 361.956 Q2154.17 361.581 2154.8 361.089 Q2155.45 360.574 2155.9 359.754 Q2156.34 358.934 2156.34 357.903 Z\" fill=\"#000000\" fill-rule=\"evenodd\" fill-opacity=\"1\" /><path clip-path=\"url(#clip800)\" d=\"M2180.93 356.943 Q2180.93 358.185 2180.11 358.981 Q2179.31 359.777 2178.28 359.777 Q2177.39 359.777 2176.92 359.262 Q2176.46 358.747 2176.46 358.091 Q2176.46 357.154 2177.18 356.381 Q2177.91 355.608 2178.96 355.444 Q2178.19 354.882 2176.95 354.882 Q2174.91 354.882 2173.11 356.451 Q2172.31 357.177 2171.44 358.512 Q2170.58 359.824 2170.41 360.386 L2168.89 366.64 Q2168.75 367.343 2167.88 370.716 Q2167.04 374.065 2166.97 374.206 Q2166.74 374.861 2166.22 375.213 Q2165.71 375.564 2165.19 375.564 Q2164.6 375.564 2164.21 375.213 Q2163.81 374.861 2163.81 374.252 Q2163.81 374.159 2163.88 373.807 Q2163.95 373.456 2164.07 372.964 Q2164.18 372.472 2164.23 372.191 L2167.02 361.112 Q2167.53 359.098 2167.65 358.466 Q2167.79 357.81 2167.79 357.084 Q2167.79 355.819 2167.39 355.35 Q2166.99 354.882 2166.29 354.882 Q2165.07 354.882 2164.28 356.334 Q2163.48 357.786 2162.8 360.597 Q2162.59 361.37 2162.45 361.534 Q2162.33 361.698 2161.98 361.698 Q2161.4 361.675 2161.4 361.206 Q2161.4 361.089 2161.58 360.339 Q2161.77 359.566 2162.12 358.442 Q2162.5 357.295 2162.89 356.568 Q2163.13 356.077 2163.34 355.749 Q2163.55 355.421 2163.97 354.905 Q2164.39 354.39 2165.03 354.109 Q2165.66 353.828 2166.43 353.828 Q2168.12 353.828 2169.31 354.859 Q2170.53 355.889 2170.81 357.505 Q2171.4 356.662 2172.12 355.936 Q2172.85 355.186 2174.18 354.507 Q2175.52 353.828 2176.95 353.828 Q2178.73 353.828 2179.83 354.741 Q2180.93 355.632 2180.93 356.943 Z\" fill=\"#000000\" fill-rule=\"evenodd\" fill-opacity=\"1\" /><path clip-path=\"url(#clip800)\" d=\"M2203.37 356.943 Q2203.37 358.185 2202.55 358.981 Q2201.76 359.777 2200.73 359.777 Q2199.84 359.777 2199.37 359.262 Q2198.9 358.747 2198.9 358.091 Q2198.9 357.154 2199.63 356.381 Q2200.35 355.608 2201.41 355.444 Q2200.63 354.882 2199.39 354.882 Q2197.35 354.882 2195.55 356.451 Q2194.75 357.177 2193.89 358.512 Q2193.02 359.824 2192.86 360.386 L2191.33 366.64 Q2191.19 367.343 2190.33 370.716 Q2189.48 374.065 2189.41 374.206 Q2189.18 374.861 2188.66 375.213 Q2188.15 375.564 2187.63 375.564 Q2187.05 375.564 2186.65 375.213 Q2186.25 374.861 2186.25 374.252 Q2186.25 374.159 2186.32 373.807 Q2186.39 373.456 2186.51 372.964 Q2186.63 372.472 2186.67 372.191 L2189.46 361.112 Q2189.98 359.098 2190.09 358.466 Q2190.23 357.81 2190.23 357.084 Q2190.23 355.819 2189.84 355.35 Q2189.44 354.882 2188.73 354.882 Q2187.52 354.882 2186.72 356.334 Q2185.92 357.786 2185.24 360.597 Q2185.03 361.37 2184.89 361.534 Q2184.78 361.698 2184.42 361.698 Q2183.84 361.675 2183.84 361.206 Q2183.84 361.089 2184.03 360.339 Q2184.21 359.566 2184.57 358.442 Q2184.94 357.295 2185.34 356.568 Q2185.57 356.077 2185.78 355.749 Q2185.99 355.421 2186.42 354.905 Q2186.84 354.39 2187.47 354.109 Q2188.1 353.828 2188.88 353.828 Q2190.56 353.828 2191.76 354.859 Q2192.97 355.889 2193.26 357.505 Q2193.84 356.662 2194.57 355.936 Q2195.29 355.186 2196.63 354.507 Q2197.96 353.828 2199.39 353.828 Q2201.17 353.828 2202.27 354.741 Q2203.37 355.632 2203.37 356.943 Z\" fill=\"#000000\" fill-rule=\"evenodd\" fill-opacity=\"1\" /><path clip-path=\"url(#clip800)\" d=\"M2228.65 368.163 Q2228.01 371.184 2227.19 372.917 Q2225.88 375.564 2223.66 375.564 Q2221.97 375.564 2220.78 374.533 Q2219.58 373.503 2219.3 371.957 Q2216.23 375.564 2213.05 375.564 Q2210.24 375.564 2208.46 373.433 Q2206.68 371.278 2206.68 367.881 Q2206.68 364.462 2208.36 361.183 Q2210.07 357.903 2212.77 355.866 Q2215.46 353.828 2218.22 353.828 Q2221.15 353.828 2222.65 356.896 Q2222.77 356.053 2223.31 355.421 Q2223.84 354.788 2224.66 354.788 Q2225.3 354.788 2225.67 355.14 Q2226.05 355.468 2226.05 356.077 Q2226.05 356.381 2225.72 357.716 L2223.98 364.415 L2222.93 368.748 Q2222.53 370.341 2222.42 370.926 Q2222.32 371.512 2222.32 372.285 Q2222.32 374.487 2223.75 374.487 Q2224.45 374.487 2225.02 374.042 Q2225.58 373.597 2226.02 372.66 Q2226.47 371.723 2226.75 370.856 Q2227.03 369.966 2227.4 368.561 Q2227.52 367.999 2227.62 367.858 Q2227.73 367.694 2228.06 367.694 Q2228.65 367.694 2228.65 368.163 M2222.06 359.098 Q2222.06 358.887 2221.9 358.302 Q2221.74 357.716 2221.36 356.896 Q2220.99 356.077 2220.17 355.491 Q2219.37 354.882 2218.29 354.882 Q2216.84 354.882 2215.32 356.123 Q2213.82 357.365 2212.72 359.473 Q2211.88 361.159 2210.96 364.696 Q2210.07 368.233 2210.07 369.989 Q2210.07 371.067 2210.31 372.027 Q2210.56 372.964 2211.29 373.737 Q2212.02 374.487 2213.14 374.487 Q2215.88 374.487 2218.57 371.09 Q2219.09 370.505 2219.21 370.271 Q2219.35 370.013 2219.53 369.31 L2221.92 359.918 Q2222.06 359.215 2222.06 359.098 Z\" fill=\"#000000\" fill-rule=\"evenodd\" fill-opacity=\"1\" /></svg>\n"
     },
     "execution_count": 66,
     "metadata": {},
     "output_type": "execute_result"
    }
   ],
   "source": [
    "dr = Date(2021,04,17):Day(1):Date(2022,04,17)\n",
    "plot()\n",
    "for i in 2:5\n",
    "    name_ = names(df)[i]\n",
    "    plot!(reverse!(collect(dr)),df[!,i], label=L\"%$name_\")\n",
    "end\n",
    "plot!(reverse!(collect(dr))[2:366],df[2:366,6], label=L\"Terra\", xlabel= \"Date\", ylabel= \"Last Closing Price\")"
   ]
  },
  {
   "cell_type": "markdown",
   "metadata": {},
   "source": [
    "### Q2"
   ]
  },
  {
   "cell_type": "markdown",
   "metadata": {},
   "source": [
    "#### Formula of cryptocurrencies returns:\n",
    "$$\n",
    "return = \\frac{closing\\ price(t) - closing\\ price(t-1)}{closing\\ price(t-1)}\n",
    "$$\n"
   ]
  },
  {
   "cell_type": "code",
   "execution_count": 69,
   "metadata": {},
   "outputs": [
    {
     "data": {
      "text/plain": [
       "10-element Vector{Any}:\n",
       " -1.001056730521064\n",
       " -0.998296199526297\n",
       " -0.2231388725081389\n",
       " -0.9881843388264515\n",
       "  2.058438115812508\n",
       " -0.25867608443852574\n",
       " -0.9788675429192087\n",
       " -1.0031343355069327\n",
       "  5.305070491082108\n",
       " -6.336915358849395"
      ]
     },
     "execution_count": 69,
     "metadata": {},
     "output_type": "execute_result"
    }
   ],
   "source": [
    "r_list=return_cal(df)\n",
    "cu_r_list = cumulative_return(r_list)"
   ]
  },
  {
   "cell_type": "code",
   "execution_count": 72,
   "metadata": {},
   "outputs": [
    {
     "ename": "LoadError",
     "evalue": "BoundsError: attempt to access 4-element Vector{String} at index [[10]]",
     "output_type": "error",
     "traceback": [
      "BoundsError: attempt to access 4-element Vector{String} at index [[10]]",
      "",
      "Stacktrace:",
      " [1] throw_boundserror(A::Vector{String}, I::Tuple{Vector{Int64}})",
      "   @ Base .\\abstractarray.jl:691",
      " [2] checkbounds",
      "   @ .\\abstractarray.jl:656 [inlined]",
      " [3] _getindex",
      "   @ .\\multidimensional.jl:838 [inlined]",
      " [4] getindex(A::Vector{String}, I::Vector{Int64})",
      "   @ Base .\\abstractarray.jl:1218",
      " [5] top-level scope",
      "   @ In[72]:3",
      " [6] eval",
      "   @ .\\boot.jl:373 [inlined]",
      " [7] include_string(mapexpr::typeof(REPL.softscope), mod::Module, code::String, filename::String)",
      "   @ Base .\\loading.jl:1196"
     ]
    }
   ],
   "source": [
    "# The maximum cumulative return of all cryptocurrencies\n",
    "index_ = findall(x->x == maximum(cu_r_list), cu_r_list) .+1\n",
    "println(\"The most profitable  cryptocurrency is : $(names(dff)[index_])\")"
   ]
  },
  {
   "cell_type": "markdown",
   "metadata": {},
   "source": [
    "### Q2"
   ]
  },
  {
   "cell_type": "code",
   "execution_count": 165,
   "metadata": {},
   "outputs": [
    {
     "data": {
      "text/plain": [
       "2021-10-12"
      ]
     },
     "execution_count": 165,
     "metadata": {},
     "output_type": "execute_result"
    }
   ],
   "source": [
    "df[188, 1]"
   ]
  },
  {
   "cell_type": "code",
   "execution_count": 33,
   "metadata": {},
   "outputs": [
    {
     "data": {
      "text/html": [
       "<table class=\"data-frame\"><thead><tr><th></th><th>Date</th><th>BTC</th><th>ETH</th><th>XRP</th><th>SOL</th><th>LUNA</th><th>ADA</th></tr><tr><th></th><th>Date</th><th>Any</th><th>Any</th><th>Any</th><th>Any</th><th>Any</th><th>Any</th></tr></thead><tbody><p>188 rows × 11 columns (omitted printing of 4 columns)</p><tr><th>1</th><td>2022-04-17</td><td>0.24484</td><td>0.883916</td><td>1.25992</td><td>0.37768</td><td>-5.71268e5</td><td>0.234859</td></tr><tr><th>2</th><td>2022-04-16</td><td>0.121599</td><td>-0.0740556</td><td>0.224763</td><td>-0.0968356</td><td>-1.19805e-5</td><td>0.119907</td></tr><tr><th>3</th><td>2022-04-15</td><td>-0.0347955</td><td>-0.060861</td><td>-0.221555</td><td>-0.040888</td><td>3.11794e-5</td><td>0.0537987</td></tr><tr><th>4</th><td>2022-04-14</td><td>0.408383</td><td>6.76126</td><td>0.135537</td><td>2.09702</td><td>-7.64243e-5</td><td>0.16566</td></tr><tr><th>5</th><td>2022-04-13</td><td>-0.138555</td><td>-0.81988</td><td>0.079063</td><td>-0.385585</td><td>5.58235e-5</td><td>0.0316931</td></tr><tr><th>6</th><td>2022-04-12</td><td>-0.0413809</td><td>-0.27099</td><td>-0.0132687</td><td>-0.501463</td><td>3.02773e-5</td><td>0.00094062</td></tr><tr><th>7</th><td>2022-04-11</td><td>1.13205</td><td>-2.39775</td><td>0.606336</td><td>-2.36632</td><td>-0.000160761</td><td>0.304456</td></tr><tr><th>8</th><td>2022-04-10</td><td>0.405662</td><td>-0.342524</td><td>0.134471</td><td>-0.216638</td><td>0.000584749</td><td>0.081398</td></tr><tr><th>9</th><td>2022-04-09</td><td>-0.118645</td><td>0.667928</td><td>-0.0112532</td><td>0.718697</td><td>-0.000597607</td><td>0.00402732</td></tr><tr><th>10</th><td>2022-04-08</td><td>1.34382</td><td>-0.310725</td><td>0.467338</td><td>-0.694411</td><td>-7.53335e-5</td><td>0.21486</td></tr><tr><th>11</th><td>2022-04-07</td><td>-0.107244</td><td>0.594781</td><td>-0.186406</td><td>0.731876</td><td>1.17836e-5</td><td>-0.0538084</td></tr><tr><th>12</th><td>2022-04-06</td><td>-2.06267</td><td>-0.710712</td><td>1.17865</td><td>-0.645749</td><td>-0.000141914</td><td>0.433991</td></tr><tr><th>13</th><td>2022-04-05</td><td>-0.474738</td><td>-0.233291</td><td>0.327961</td><td>-0.206057</td><td>-6.75962e-5</td><td>0.202588</td></tr><tr><th>14</th><td>2022-04-04</td><td>0.0545814</td><td>0.00449437</td><td>0.850273</td><td>-0.139446</td><td>4.49242e-6</td><td>-0.0611103</td></tr><tr><th>15</th><td>2022-04-03</td><td>0.282594</td><td>0.199583</td><td>-0.400798</td><td>0.154314</td><td>2.82843e-5</td><td>-0.0640814</td></tr><tr><th>16</th><td>2022-04-02</td><td>-0.193438</td><td>-0.00689597</td><td>0.187246</td><td>-0.0781125</td><td>0.000419444</td><td>0.0670746</td></tr><tr><th>17</th><td>2022-04-01</td><td>0.379308</td><td>0.644479</td><td>-0.236093</td><td>0.589143</td><td>3.1498e-5</td><td>-0.0432998</td></tr><tr><th>18</th><td>2022-03-31</td><td>-0.457067</td><td>-0.281682</td><td>-8.05497</td><td>0.096755</td><td>-7.80513e-5</td><td>0.223227</td></tr><tr><th>19</th><td>2022-03-30</td><td>-0.106596</td><td>-0.041965</td><td>0.104382</td><td>0.935734</td><td>-2.44007e-5</td><td>0.0362043</td></tr><tr><th>20</th><td>2022-03-29</td><td>0.08496</td><td>0.189913</td><td>-0.570916</td><td>1.12813</td><td>-0.00135773</td><td>-0.0458357</td></tr><tr><th>21</th><td>2022-03-28</td><td>0.0784319</td><td>0.142007</td><td>0.408411</td><td>-0.165477</td><td>1.54668e-5</td><td>0.0796396</td></tr><tr><th>22</th><td>2022-03-27</td><td>1.59531</td><td>0.860556</td><td>-1.73759</td><td>16.2643</td><td>0.000171568</td><td>-0.0822479</td></tr><tr><th>23</th><td>2022-03-26</td><td>0.0484825</td><td>0.222821</td><td>-0.281394</td><td>-1.1243</td><td>3.91384e-6</td><td>-0.132288</td></tr><tr><th>24</th><td>2022-03-25</td><td>0.26565</td><td>-0.0448027</td><td>-9.36706</td><td>-2.92051</td><td>2.23603e-5</td><td>0.140206</td></tr><tr><th>25</th><td>2022-03-24</td><td>5.13676</td><td>0.857787</td><td>-4.57559</td><td>-1.24001</td><td>7.52687e-5</td><td>-0.0443642</td></tr><tr><th>26</th><td>2022-03-23</td><td>-1.85702</td><td>1.51412</td><td>-1.69805</td><td>-0.436267</td><td>3.43042e-5</td><td>-0.276504</td></tr><tr><th>27</th><td>2022-03-22</td><td>-0.833162</td><td>-2.04511</td><td>-0.787573</td><td>-0.127959</td><td>9.20996e-5</td><td>-0.0964143</td></tr><tr><th>28</th><td>2022-03-21</td><td>0.282403</td><td>-0.461754</td><td>-1.16637</td><td>0.0144105</td><td>0.000980311</td><td>-0.0502198</td></tr><tr><th>29</th><td>2022-03-20</td><td>19.828</td><td>-3.06743</td><td>1.62628</td><td>0.56904</td><td>0.000354861</td><td>0.0746329</td></tr><tr><th>30</th><td>2022-03-19</td><td>-0.830758</td><td>-0.172521</td><td>-0.653371</td><td>-0.241076</td><td>1.36867e-5</td><td>-0.0642729</td></tr><tr><th>&vellip;</th><td>&vellip;</td><td>&vellip;</td><td>&vellip;</td><td>&vellip;</td><td>&vellip;</td><td>&vellip;</td><td>&vellip;</td></tr></tbody></table>"
      ],
      "text/latex": [
       "\\begin{tabular}{r|cccccccc}\n",
       "\t& Date & BTC & ETH & XRP & SOL & LUNA & ADA & \\\\\n",
       "\t\\hline\n",
       "\t& Date & Any & Any & Any & Any & Any & Any & \\\\\n",
       "\t\\hline\n",
       "\t1 & 2022-04-17 & 0.24484 & 0.883916 & 1.25992 & 0.37768 & -5.71268e5 & 0.234859 & $\\dots$ \\\\\n",
       "\t2 & 2022-04-16 & 0.121599 & -0.0740556 & 0.224763 & -0.0968356 & -1.19805e-5 & 0.119907 & $\\dots$ \\\\\n",
       "\t3 & 2022-04-15 & -0.0347955 & -0.060861 & -0.221555 & -0.040888 & 3.11794e-5 & 0.0537987 & $\\dots$ \\\\\n",
       "\t4 & 2022-04-14 & 0.408383 & 6.76126 & 0.135537 & 2.09702 & -7.64243e-5 & 0.16566 & $\\dots$ \\\\\n",
       "\t5 & 2022-04-13 & -0.138555 & -0.81988 & 0.079063 & -0.385585 & 5.58235e-5 & 0.0316931 & $\\dots$ \\\\\n",
       "\t6 & 2022-04-12 & -0.0413809 & -0.27099 & -0.0132687 & -0.501463 & 3.02773e-5 & 0.00094062 & $\\dots$ \\\\\n",
       "\t7 & 2022-04-11 & 1.13205 & -2.39775 & 0.606336 & -2.36632 & -0.000160761 & 0.304456 & $\\dots$ \\\\\n",
       "\t8 & 2022-04-10 & 0.405662 & -0.342524 & 0.134471 & -0.216638 & 0.000584749 & 0.081398 & $\\dots$ \\\\\n",
       "\t9 & 2022-04-09 & -0.118645 & 0.667928 & -0.0112532 & 0.718697 & -0.000597607 & 0.00402732 & $\\dots$ \\\\\n",
       "\t10 & 2022-04-08 & 1.34382 & -0.310725 & 0.467338 & -0.694411 & -7.53335e-5 & 0.21486 & $\\dots$ \\\\\n",
       "\t11 & 2022-04-07 & -0.107244 & 0.594781 & -0.186406 & 0.731876 & 1.17836e-5 & -0.0538084 & $\\dots$ \\\\\n",
       "\t12 & 2022-04-06 & -2.06267 & -0.710712 & 1.17865 & -0.645749 & -0.000141914 & 0.433991 & $\\dots$ \\\\\n",
       "\t13 & 2022-04-05 & -0.474738 & -0.233291 & 0.327961 & -0.206057 & -6.75962e-5 & 0.202588 & $\\dots$ \\\\\n",
       "\t14 & 2022-04-04 & 0.0545814 & 0.00449437 & 0.850273 & -0.139446 & 4.49242e-6 & -0.0611103 & $\\dots$ \\\\\n",
       "\t15 & 2022-04-03 & 0.282594 & 0.199583 & -0.400798 & 0.154314 & 2.82843e-5 & -0.0640814 & $\\dots$ \\\\\n",
       "\t16 & 2022-04-02 & -0.193438 & -0.00689597 & 0.187246 & -0.0781125 & 0.000419444 & 0.0670746 & $\\dots$ \\\\\n",
       "\t17 & 2022-04-01 & 0.379308 & 0.644479 & -0.236093 & 0.589143 & 3.1498e-5 & -0.0432998 & $\\dots$ \\\\\n",
       "\t18 & 2022-03-31 & -0.457067 & -0.281682 & -8.05497 & 0.096755 & -7.80513e-5 & 0.223227 & $\\dots$ \\\\\n",
       "\t19 & 2022-03-30 & -0.106596 & -0.041965 & 0.104382 & 0.935734 & -2.44007e-5 & 0.0362043 & $\\dots$ \\\\\n",
       "\t20 & 2022-03-29 & 0.08496 & 0.189913 & -0.570916 & 1.12813 & -0.00135773 & -0.0458357 & $\\dots$ \\\\\n",
       "\t21 & 2022-03-28 & 0.0784319 & 0.142007 & 0.408411 & -0.165477 & 1.54668e-5 & 0.0796396 & $\\dots$ \\\\\n",
       "\t22 & 2022-03-27 & 1.59531 & 0.860556 & -1.73759 & 16.2643 & 0.000171568 & -0.0822479 & $\\dots$ \\\\\n",
       "\t23 & 2022-03-26 & 0.0484825 & 0.222821 & -0.281394 & -1.1243 & 3.91384e-6 & -0.132288 & $\\dots$ \\\\\n",
       "\t24 & 2022-03-25 & 0.26565 & -0.0448027 & -9.36706 & -2.92051 & 2.23603e-5 & 0.140206 & $\\dots$ \\\\\n",
       "\t25 & 2022-03-24 & 5.13676 & 0.857787 & -4.57559 & -1.24001 & 7.52687e-5 & -0.0443642 & $\\dots$ \\\\\n",
       "\t26 & 2022-03-23 & -1.85702 & 1.51412 & -1.69805 & -0.436267 & 3.43042e-5 & -0.276504 & $\\dots$ \\\\\n",
       "\t27 & 2022-03-22 & -0.833162 & -2.04511 & -0.787573 & -0.127959 & 9.20996e-5 & -0.0964143 & $\\dots$ \\\\\n",
       "\t28 & 2022-03-21 & 0.282403 & -0.461754 & -1.16637 & 0.0144105 & 0.000980311 & -0.0502198 & $\\dots$ \\\\\n",
       "\t29 & 2022-03-20 & 19.828 & -3.06743 & 1.62628 & 0.56904 & 0.000354861 & 0.0746329 & $\\dots$ \\\\\n",
       "\t30 & 2022-03-19 & -0.830758 & -0.172521 & -0.653371 & -0.241076 & 1.36867e-5 & -0.0642729 & $\\dots$ \\\\\n",
       "\t$\\dots$ & $\\dots$ & $\\dots$ & $\\dots$ & $\\dots$ & $\\dots$ & $\\dots$ & $\\dots$ &  \\\\\n",
       "\\end{tabular}\n"
      ],
      "text/plain": [
       "\u001b[1m188×11 DataFrame\u001b[0m\n",
       "\u001b[1m Row \u001b[0m│\u001b[1m Date       \u001b[0m\u001b[1m BTC        \u001b[0m\u001b[1m ETH        \u001b[0m\u001b[1m XRP        \u001b[0m\u001b[1m SOL         \u001b[0m\u001b[1m LUNA      \u001b[0m ⋯\n",
       "\u001b[1m     \u001b[0m│\u001b[90m Date       \u001b[0m\u001b[90m Any        \u001b[0m\u001b[90m Any        \u001b[0m\u001b[90m Any        \u001b[0m\u001b[90m Any         \u001b[0m\u001b[90m Any       \u001b[0m ⋯\n",
       "─────┼──────────────────────────────────────────────────────────────────────────\n",
       "   1 │ 2022-04-17  0.24484     0.883916    1.25992     0.37768      -5.71268e5 ⋯\n",
       "   2 │ 2022-04-16  0.121599    -0.0740556  0.224763    -0.0968356   -1.19805e-\n",
       "   3 │ 2022-04-15  -0.0347955  -0.060861   -0.221555   -0.040888    3.11794e-5\n",
       "   4 │ 2022-04-14  0.408383    6.76126     0.135537    2.09702      -7.64243e-\n",
       "   5 │ 2022-04-13  -0.138555   -0.81988    0.079063    -0.385585    5.58235e-5 ⋯\n",
       "   6 │ 2022-04-12  -0.0413809  -0.27099    -0.0132687  -0.501463    3.02773e-5\n",
       "   7 │ 2022-04-11  1.13205     -2.39775    0.606336    -2.36632     -0.0001607\n",
       "   8 │ 2022-04-10  0.405662    -0.342524   0.134471    -0.216638    0.00058474\n",
       "   9 │ 2022-04-09  -0.118645   0.667928    -0.0112532  0.718697     -0.0005976 ⋯\n",
       "  10 │ 2022-04-08  1.34382     -0.310725   0.467338    -0.694411    -7.53335e-\n",
       "  11 │ 2022-04-07  -0.107244   0.594781    -0.186406   0.731876     1.17836e-5\n",
       "  ⋮  │     ⋮           ⋮           ⋮           ⋮            ⋮            ⋮     ⋱\n",
       " 179 │ 2021-10-21  -0.0959698  -0.0471196  -0.107615   0.0750849    -0.0002464\n",
       " 180 │ 2021-10-20  0.0295402   0.103244    0.115448    0.140663     0.00041078 ⋯\n",
       " 181 │ 2021-10-19  0.0447874   0.0464392   0.0193482   -0.0269391   0.00012118\n",
       " 182 │ 2021-10-18  0.00181018  -0.0488151  -0.0216281  -0.0375574   1.84812e-5\n",
       " 183 │ 2021-10-17  0.00681004  -0.0021278  -0.0857438  -0.00109431  3.16198e-5\n",
       " 184 │ 2021-10-16  -0.0272681  -0.022069   -0.0100073  -0.0572223   -0.0006472 ⋯\n",
       " 185 │ 2021-10-15  0.107943    0.022535    0.0184098   0.0883321    0.00055880\n",
       " 186 │ 2021-10-14  -0.0109844  0.0714613   0.00930488  -0.00371084  -1.34665e-\n",
       " 187 │ 2021-10-13  0.0297977   0.045202    0.060025    -0.05464     7.70021e-5\n",
       " 188 │ 2021-10-12  -0.0478682  -0.0318359  -0.0738114  0.0502331    0.00018178 ⋯\n",
       "\u001b[36m                                                  6 columns and 167 rows omitted\u001b[0m"
      ]
     },
     "execution_count": 33,
     "metadata": {},
     "output_type": "execute_result"
    }
   ],
   "source": [
    "r_df = DataFrame(\"Date\" => reverse!(collect(Date(2021,10,12):Day(1):Date(2022,04,17))),\n",
    "    \"BTC\" => first(r_list[1],188),\n",
    "    \"ETH\" => first(r_list[2],188),\n",
    "    \"XRP\" => first(r_list[3],188),\n",
    "    \"SOL\" => first(r_list[4],188),\n",
    "    \"LUNA\"=> first(r_list[5],188),\n",
    "    \"ADA\" => first(r_list[6],188),\n",
    "    \"AVAX\" => first(r_list[7],188),\n",
    "    \"DOT\" => first(r_list[8],188),\n",
    "    \"DOGE\" => first(r_list[9],188),\n",
    "    \"MATIC\" => first(r_list[10],188),)"
   ]
  },
  {
   "cell_type": "code",
   "execution_count": 34,
   "metadata": {},
   "outputs": [
    {
     "name": "stdout",
     "output_type": "stream",
     "text": [
      "number of positive returns are:\n",
      "102\n",
      "109\n",
      "100\n",
      "109\n",
      "92\n",
      "94\n",
      "97\n",
      "95\n",
      "99\n",
      "138\n",
      "number of negative returns are:\n",
      "86\n",
      "79\n",
      "88\n",
      "79\n",
      "96\n",
      "94\n",
      "91\n",
      "93\n",
      "89\n",
      "50\n"
     ]
    }
   ],
   "source": [
    "positive_returns = []\n",
    "negative_returns = []\n",
    "for i in 2:11\n",
    "    push!(positive_returns, df[findall(x->x<0 , r_df[!,i]), i])\n",
    "    push!(negative_returns, df[findall(x->x>0 , r_df[!,i]), i])\n",
    "end\n",
    "println(\"number of positive returns are:\")\n",
    "for i in 1:10\n",
    "    println(\"$(length(positive_returns[i]))\")\n",
    "end\n",
    "println(\"number of negative returns are:\")\n",
    "for i in 1:10\n",
    "    println(\"$(length(negative_returns[i]))\")\n",
    "end"
   ]
  },
  {
   "cell_type": "code",
   "execution_count": 35,
   "metadata": {},
   "outputs": [
    {
     "name": "stdout",
     "output_type": "stream",
     "text": [
      "altcoins cumulative return when the bitcoin daily return is pasitive:\n",
      "0.002386521923946505\n",
      "0.0465538379536905\n",
      "9.617246412112656e7\n",
      "4.283235951205521\n",
      "-851.9054726713999\n",
      "14.595537319693044\n",
      "127.41507796154664\n",
      "105.9319087764278\n",
      "4.050709446349569e26\n",
      "59.896068501064256\n",
      "altcoins cumulative return when the bitcoin daily return is negative:\n",
      "0.0018992423989891982\n",
      "0.04195845777671048\n",
      "-2.2946590826637767e7\n",
      "2.5312396612893875\n",
      "0.13551411561882443\n",
      "-0.9999999999814685\n",
      "115.54838718681665\n",
      "-503.4631243692669\n",
      "2.947232884126173e26\n",
      "12.578940475597795\n"
     ]
    }
   ],
   "source": [
    "positive_CuR = cumulative_return(positive_returns)\n",
    "negative_CuR = cumulative_return(negative_returns)\n",
    "println(\"altcoins cumulative return when the bitcoin daily return is pasitive:\")\n",
    "for i in 1:10\n",
    "    println(\"$(positive_CuR[i])\")\n",
    "end\n",
    "println(\"altcoins cumulative return when the bitcoin daily return is negative:\")\n",
    "for i in 1:10\n",
    "    println(\"$(negative_CuR[i])\")\n",
    "end"
   ]
  },
  {
   "cell_type": "markdown",
   "metadata": {},
   "source": [
    "### Q3"
   ]
  },
  {
   "cell_type": "code",
   "execution_count": null,
   "metadata": {},
   "outputs": [],
   "source": []
  }
 ],
 "metadata": {
  "kernelspec": {
   "display_name": "Julia 1.7.2",
   "language": "julia",
   "name": "julia-1.7"
  },
  "language_info": {
   "file_extension": ".jl",
   "mimetype": "application/julia",
   "name": "julia",
   "version": "1.7.2"
  },
  "orig_nbformat": 4
 },
 "nbformat": 4,
 "nbformat_minor": 2
}
