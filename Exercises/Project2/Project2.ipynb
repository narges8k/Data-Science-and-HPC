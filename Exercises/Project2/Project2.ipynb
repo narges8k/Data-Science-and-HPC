{
 "cells": [
  {
   "cell_type": "markdown",
   "metadata": {},
   "source": [
    "### Second Project"
   ]
  },
  {
   "cell_type": "code",
   "execution_count": 3,
   "metadata": {},
   "outputs": [],
   "source": [
    "using Plots, ROCAnalysis, GLM, MLBase, Lathe, Distributions, LaTeXStrings, CSV, DataFrames, StatsBase, Missings, XLSX\n",
    "using IJulia: readprompt"
   ]
  },
  {
   "cell_type": "markdown",
   "metadata": {},
   "source": [
    "#### Q1"
   ]
  },
  {
   "cell_type": "code",
   "execution_count": 8,
   "metadata": {},
   "outputs": [
    {
     "data": {
      "text/html": [
       "<table class=\"data-frame\"><thead><tr><th></th><th>name</th><th>ticket</th><th>market cap</th><th>last price($)</th></tr><tr><th></th><th>Any</th><th>Any</th><th>Any</th><th>Any</th></tr></thead><tbody><p>10 rows × 4 columns</p><tr><th>1</th><td>Bitcoin</td><td>BTC</td><td>750B</td><td>39K</td></tr><tr><th>2</th><td>Ethereum</td><td>ETH</td><td>360B</td><td>3K</td></tr><tr><th>3</th><td>Ripple</td><td>XRP</td><td>50B</td><td>0.7</td></tr><tr><th>4</th><td>Solana</td><td>SOL</td><td>34B</td><td>100</td></tr><tr><th>5</th><td>Terra</td><td>LUNA</td><td>32B</td><td>91</td></tr><tr><th>6</th><td>Cardano</td><td>ADA</td><td>30B</td><td>0.9</td></tr><tr><th>7</th><td>Avalanche</td><td>AVAX</td><td>20B</td><td>73</td></tr><tr><th>8</th><td>Polkadot</td><td>DOT</td><td>19B</td><td>19</td></tr><tr><th>9</th><td>Dogecoin</td><td>DOGE</td><td>18B</td><td>0.13</td></tr><tr><th>10</th><td>Polygon</td><td>MATIC</td><td>10.7B</td><td>1.4</td></tr></tbody></table>"
      ],
      "text/latex": [
       "\\begin{tabular}{r|cccc}\n",
       "\t& name & ticket & market cap & last price(\\$)\\\\\n",
       "\t\\hline\n",
       "\t& Any & Any & Any & Any\\\\\n",
       "\t\\hline\n",
       "\t1 & Bitcoin & BTC & 750B & 39K \\\\\n",
       "\t2 & Ethereum & ETH & 360B & 3K \\\\\n",
       "\t3 & Ripple & XRP & 50B & 0.7 \\\\\n",
       "\t4 & Solana & SOL & 34B & 100 \\\\\n",
       "\t5 & Terra & LUNA & 32B & 91 \\\\\n",
       "\t6 & Cardano & ADA & 30B & 0.9 \\\\\n",
       "\t7 & Avalanche & AVAX & 20B & 73 \\\\\n",
       "\t8 & Polkadot & DOT & 19B & 19 \\\\\n",
       "\t9 & Dogecoin & DOGE & 18B & 0.13 \\\\\n",
       "\t10 & Polygon & MATIC & 10.7B & 1.4 \\\\\n",
       "\\end{tabular}\n"
      ],
      "text/plain": [
       "\u001b[1m10×4 DataFrame\u001b[0m\n",
       "\u001b[1m Row \u001b[0m│\u001b[1m name      \u001b[0m\u001b[1m ticket \u001b[0m\u001b[1m market cap \u001b[0m\u001b[1m last price($) \u001b[0m\n",
       "\u001b[1m     \u001b[0m│\u001b[90m Any       \u001b[0m\u001b[90m Any    \u001b[0m\u001b[90m Any        \u001b[0m\u001b[90m Any           \u001b[0m\n",
       "─────┼──────────────────────────────────────────────\n",
       "   1 │ Bitcoin    BTC     750B        39K\n",
       "   2 │ Ethereum   ETH     360B        3K\n",
       "   3 │ Ripple     XRP     50B         0.7\n",
       "   4 │ Solana     SOL     34B         100\n",
       "   5 │ Terra      LUNA    32B         91\n",
       "   6 │ Cardano    ADA     30B         0.9\n",
       "   7 │ Avalanche  AVAX    20B         73\n",
       "   8 │ Polkadot   DOT     19B         19\n",
       "   9 │ Dogecoin   DOGE    18B         0.13\n",
       "  10 │ Polygon    MATIC   10.7B       1.4"
      ]
     },
     "execution_count": 8,
     "metadata": {},
     "output_type": "execute_result"
    }
   ],
   "source": [
    "df = DataFrame(XLSX.readtable(\"crypto_currency.xlsx\", \"Sheet1\")...)"
   ]
  },
  {
   "cell_type": "code",
   "execution_count": 19,
   "metadata": {},
   "outputs": [
    {
     "data": {
      "text/plain": [
       "4-element Vector{String}:\n",
       " \"name\"\n",
       " \"ticket\"\n",
       " \"market cap\"\n",
       " \"last price(\\$)\""
      ]
     },
     "execution_count": 19,
     "metadata": {},
     "output_type": "execute_result"
    }
   ],
   "source": [
    "names(df)"
   ]
  },
  {
   "cell_type": "code",
   "execution_count": 110,
   "metadata": {},
   "outputs": [
    {
     "data": {
      "text/html": [
       "<table class=\"data-frame\"><thead><tr><th></th><th>name</th><th>ticket</th><th>market cap</th><th>last price($)</th></tr><tr><th></th><th>Any</th><th>Any</th><th>Any</th><th>Any</th></tr></thead><tbody><p>5 rows × 4 columns</p><tr><th>1</th><td>Bitcoin</td><td>BTC</td><td>750B</td><td>39K</td></tr><tr><th>2</th><td>Ethereum</td><td>ETH</td><td>360B</td><td>3K</td></tr><tr><th>3</th><td>Ripple</td><td>XRP</td><td>50B</td><td>0.7</td></tr><tr><th>4</th><td>Solana</td><td>SOL</td><td>34B</td><td>100</td></tr><tr><th>5</th><td>Terra</td><td>LUNA</td><td>32B</td><td>91</td></tr></tbody></table>"
      ],
      "text/latex": [
       "\\begin{tabular}{r|cccc}\n",
       "\t& name & ticket & market cap & last price(\\$)\\\\\n",
       "\t\\hline\n",
       "\t& Any & Any & Any & Any\\\\\n",
       "\t\\hline\n",
       "\t1 & Bitcoin & BTC & 750B & 39K \\\\\n",
       "\t2 & Ethereum & ETH & 360B & 3K \\\\\n",
       "\t3 & Ripple & XRP & 50B & 0.7 \\\\\n",
       "\t4 & Solana & SOL & 34B & 100 \\\\\n",
       "\t5 & Terra & LUNA & 32B & 91 \\\\\n",
       "\\end{tabular}\n"
      ],
      "text/plain": [
       "\u001b[1m5×4 DataFrame\u001b[0m\n",
       "\u001b[1m Row \u001b[0m│\u001b[1m name     \u001b[0m\u001b[1m ticket \u001b[0m\u001b[1m market cap \u001b[0m\u001b[1m last price($) \u001b[0m\n",
       "\u001b[1m     \u001b[0m│\u001b[90m Any      \u001b[0m\u001b[90m Any    \u001b[0m\u001b[90m Any        \u001b[0m\u001b[90m Any           \u001b[0m\n",
       "─────┼─────────────────────────────────────────────\n",
       "   1 │ Bitcoin   BTC     750B        39K\n",
       "   2 │ Ethereum  ETH     360B        3K\n",
       "   3 │ Ripple    XRP     50B         0.7\n",
       "   4 │ Solana    SOL     34B         100\n",
       "   5 │ Terra     LUNA    32B         91"
      ]
     },
     "execution_count": 110,
     "metadata": {},
     "output_type": "execute_result"
    }
   ],
   "source": [
    "selected_rows = findall(x->x ∈ sort(df.\"market cap\", rev=true)[1:5], df.\"market cap\")\n",
    "top_five=df[selected_rows,:]"
   ]
  },
  {
   "cell_type": "code",
   "execution_count": 108,
   "metadata": {},
   "outputs": [
    {
     "data": {
      "text/html": [
       "<table class=\"data-frame\"><thead><tr><th></th><th>name</th><th>ticket</th><th>market cap</th><th>last price($)</th></tr><tr><th></th><th>Any</th><th>Any</th><th>Any</th><th>Any</th></tr></thead><tbody><p>5 rows × 4 columns</p><tr><th>1</th><td>Bitcoin</td><td>BTC</td><td>750B</td><td>-20.9895</td></tr><tr><th>2</th><td>Ethereum</td><td>ETH</td><td>360B</td><td>0.0474742</td></tr><tr><th>3</th><td>Ripple</td><td>XRP</td><td>50B</td><td>0.0471464</td></tr><tr><th>4</th><td>Solana</td><td>SOL</td><td>34B</td><td>0.0473507</td></tr><tr><th>5</th><td>Terra</td><td>LUNA</td><td>32B</td><td>0.0475091</td></tr></tbody></table>"
      ],
      "text/latex": [
       "\\begin{tabular}{r|cccc}\n",
       "\t& name & ticket & market cap & last price(\\$)\\\\\n",
       "\t\\hline\n",
       "\t& Any & Any & Any & Any\\\\\n",
       "\t\\hline\n",
       "\t1 & Bitcoin & BTC & 750B & -20.9895 \\\\\n",
       "\t2 & Ethereum & ETH & 360B & 0.0474742 \\\\\n",
       "\t3 & Ripple & XRP & 50B & 0.0471464 \\\\\n",
       "\t4 & Solana & SOL & 34B & 0.0473507 \\\\\n",
       "\t5 & Terra & LUNA & 32B & 0.0475091 \\\\\n",
       "\\end{tabular}\n"
      ],
      "text/plain": [
       "\u001b[1m5×4 DataFrame\u001b[0m\n",
       "\u001b[1m Row \u001b[0m│\u001b[1m name     \u001b[0m\u001b[1m ticket \u001b[0m\u001b[1m market cap \u001b[0m\u001b[1m last price($) \u001b[0m\n",
       "\u001b[1m     \u001b[0m│\u001b[90m Any      \u001b[0m\u001b[90m Any    \u001b[0m\u001b[90m Any        \u001b[0m\u001b[90m Any           \u001b[0m\n",
       "─────┼─────────────────────────────────────────────\n",
       "   1 │ Bitcoin   BTC     750B        -20.9895\n",
       "   2 │ Ethereum  ETH     360B        0.0474742\n",
       "   3 │ Ripple    XRP     50B         0.0471464\n",
       "   4 │ Solana    SOL     34B         0.0473507\n",
       "   5 │ Terra     LUNA    32B         0.0475091"
      ]
     },
     "execution_count": 108,
     "metadata": {},
     "output_type": "execute_result"
    }
   ],
   "source": [
    "for i in top_five.\"last price(\\$)\"\n",
    "    if typeof(i) == String && contains(i, \"K\") == true\n",
    "        replace!(top_five.\"last price(\\$)\", i=>parse(Int, chop(i))*1000)\n",
    "    end\n",
    "end\n",
    "top_five"
   ]
  },
  {
   "cell_type": "code",
   "execution_count": 101,
   "metadata": {},
   "outputs": [
    {
     "data": {
      "text/plain": [
       "42191.7"
      ]
     },
     "execution_count": 101,
     "metadata": {},
     "output_type": "execute_result"
    }
   ],
   "source": [
    "sum(top_five.\"last price(\\$)\")"
   ]
  },
  {
   "cell_type": "markdown",
   "metadata": {},
   "source": [
    "##### *sclaing data*\n",
    "$$\n",
    "x := \\frac{x - \\mu}{\\sigma}\n",
    "$$"
   ]
  },
  {
   "cell_type": "code",
   "execution_count": 107,
   "metadata": {},
   "outputs": [
    {
     "data": {
      "text/html": [
       "<table class=\"data-frame\"><thead><tr><th></th><th>name</th><th>ticket</th><th>market cap</th><th>last price($)</th></tr><tr><th></th><th>Any</th><th>Any</th><th>Any</th><th>Any</th></tr></thead><tbody><p>5 rows × 4 columns</p><tr><th>1</th><td>Bitcoin</td><td>BTC</td><td>750B</td><td>-20.9895</td></tr><tr><th>2</th><td>Ethereum</td><td>ETH</td><td>360B</td><td>0.0474742</td></tr><tr><th>3</th><td>Ripple</td><td>XRP</td><td>50B</td><td>0.0471464</td></tr><tr><th>4</th><td>Solana</td><td>SOL</td><td>34B</td><td>0.0473507</td></tr><tr><th>5</th><td>Terra</td><td>LUNA</td><td>32B</td><td>0.0475091</td></tr></tbody></table>"
      ],
      "text/latex": [
       "\\begin{tabular}{r|cccc}\n",
       "\t& name & ticket & market cap & last price(\\$)\\\\\n",
       "\t\\hline\n",
       "\t& Any & Any & Any & Any\\\\\n",
       "\t\\hline\n",
       "\t1 & Bitcoin & BTC & 750B & -20.9895 \\\\\n",
       "\t2 & Ethereum & ETH & 360B & 0.0474742 \\\\\n",
       "\t3 & Ripple & XRP & 50B & 0.0471464 \\\\\n",
       "\t4 & Solana & SOL & 34B & 0.0473507 \\\\\n",
       "\t5 & Terra & LUNA & 32B & 0.0475091 \\\\\n",
       "\\end{tabular}\n"
      ],
      "text/plain": [
       "\u001b[1m5×4 DataFrame\u001b[0m\n",
       "\u001b[1m Row \u001b[0m│\u001b[1m name     \u001b[0m\u001b[1m ticket \u001b[0m\u001b[1m market cap \u001b[0m\u001b[1m last price($) \u001b[0m\n",
       "\u001b[1m     \u001b[0m│\u001b[90m Any      \u001b[0m\u001b[90m Any    \u001b[0m\u001b[90m Any        \u001b[0m\u001b[90m Any           \u001b[0m\n",
       "─────┼─────────────────────────────────────────────\n",
       "   1 │ Bitcoin   BTC     750B        -20.9895\n",
       "   2 │ Ethereum  ETH     360B        0.0474742\n",
       "   3 │ Ripple    XRP     50B         0.0471464\n",
       "   4 │ Solana    SOL     34B         0.0473507\n",
       "   5 │ Terra     LUNA    32B         0.0475091"
      ]
     },
     "execution_count": 107,
     "metadata": {},
     "output_type": "execute_result"
    }
   ],
   "source": [
    "\n",
    "replace!(x -> (x - mean(top_five.\"last price(\\$)\"))/var(top_five.\"last price(\\$)\"), top_five.\"last price(\\$)\")\n",
    "top_five"
   ]
  },
  {
   "cell_type": "markdown",
   "metadata": {},
   "source": [
    "## Mainnnn\n"
   ]
  },
  {
   "cell_type": "code",
   "execution_count": 53,
   "metadata": {},
   "outputs": [
    {
     "data": {
      "text/html": [
       "<table class=\"data-frame\"><thead><tr><th></th><th>Date</th><th>Bitcoin</th><th>Ethereum</th><th>Ripple</th><th>Solana</th><th>Terra</th><th>Cardano</th><th>Avalanche</th></tr><tr><th></th><th>Date…</th><th>Float64</th><th>Float64</th><th>Float64</th><th>Float64</th><th>String15</th><th>Float64</th><th>Float64</th></tr></thead><tbody><p>366 rows × 11 columns (omitted printing of 3 columns)</p><tr><th>1</th><td>2022-05-16</td><td>29811.8</td><td>2035.94</td><td>0.420961</td><td>55.0012</td><td>null</td><td>0.568933</td><td>33.295</td></tr><tr><th>2</th><td>2022-05-15</td><td>31305.1</td><td>2145.71</td><td>0.447371</td><td>58.8113</td><td>null</td><td>0.5975</td><td>36.5423</td></tr><tr><th>3</th><td>2022-05-14</td><td>30101.3</td><td>2056.27</td><td>0.427774</td><td>52.4172</td><td>null</td><td>0.539358</td><td>34.0825</td></tr><tr><th>4</th><td>2022-05-13</td><td>29283.1</td><td>2014.42</td><td>0.423417</td><td>48.5936</td><td>null</td><td>0.528877</td><td>32.1364</td></tr><tr><th>5</th><td>2022-05-12</td><td>29047.8</td><td>1961.7</td><td>0.385206</td><td>44.6836</td><td>null</td><td>0.473746</td><td>30.3575</td></tr><tr><th>6</th><td>2022-05-11</td><td>28936.4</td><td>2072.11</td><td>0.413376</td><td>50.2109</td><td>1.192089</td><td>0.5128</td><td>30.9629</td></tr><tr><th>7</th><td>2022-05-10</td><td>31022.9</td><td>2343.51</td><td>0.513626</td><td>66.7662</td><td>0.005584</td><td>0.628963</td><td>44.5603</td></tr><tr><th>8</th><td>2022-05-09</td><td>30297.0</td><td>2245.43</td><td>0.49294</td><td>63.2697</td><td>0.003636</td><td>0.610088</td><td>41.972</td></tr><tr><th>9</th><td>2022-05-08</td><td>34059.3</td><td>2517.46</td><td>0.566527</td><td>75.2202</td><td>0.003747</td><td>0.739563</td><td>51.5212</td></tr><tr><th>10</th><td>2022-05-07</td><td>35502.0</td><td>2636.09</td><td>0.582347</td><td>78.9834</td><td>0.003905</td><td>0.761882</td><td>55.1567</td></tr><tr><th>11</th><td>2022-05-06</td><td>36040.9</td><td>2694.98</td><td>0.60257</td><td>81.7641</td><td>0.003965</td><td>0.783359</td><td>57.0343</td></tr><tr><th>12</th><td>2022-05-05</td><td>36575.1</td><td>2749.21</td><td>0.598886</td><td>84.596</td><td>0.004023</td><td>0.791152</td><td>59.1274</td></tr><tr><th>13</th><td>2022-05-04</td><td>39698.4</td><td>2940.64</td><td>0.646474</td><td>92.7709</td><td>0.004367</td><td>0.896942</td><td>67.0861</td></tr><tr><th>14</th><td>2022-05-03</td><td>37750.5</td><td>2783.48</td><td>0.604849</td><td>85.8424</td><td>0.004153</td><td>0.771145</td><td>59.6601</td></tr><tr><th>15</th><td>2022-05-02</td><td>38529.3</td><td>2857.41</td><td>0.614269</td><td>87.581</td><td>0.004238</td><td>0.781529</td><td>60.5171</td></tr><tr><th>16</th><td>2022-05-01</td><td>38469.1</td><td>2827.76</td><td>0.607844</td><td>89.6715</td><td>0.004232</td><td>0.790344</td><td>58.8561</td></tr><tr><th>17</th><td>2022-04-30</td><td>37714.9</td><td>2730.19</td><td>0.587091</td><td>85.0959</td><td>0.004149</td><td>0.75666</td><td>57.048</td></tr><tr><th>18</th><td>2022-04-29</td><td>38609.8</td><td>2815.6</td><td>0.611407</td><td>94.0113</td><td>0.004633</td><td>0.805043</td><td>63.4171</td></tr><tr><th>19</th><td>2022-04-28</td><td>39773.8</td><td>2936.94</td><td>0.644363</td><td>98.1857</td><td>0.004773</td><td>0.84395</td><td>67.3195</td></tr><tr><th>20</th><td>2022-04-27</td><td>39241.1</td><td>2888.93</td><td>0.652318</td><td>98.3789</td><td>0.004709</td><td>0.840595</td><td>69.8577</td></tr><tr><th>21</th><td>2022-04-26</td><td>38117.5</td><td>2808.3</td><td>0.641699</td><td>95.7822</td><td>0.003049</td><td>0.827645</td><td>68.6721</td></tr><tr><th>22</th><td>2022-04-25</td><td>40458.3</td><td>3009.39</td><td>0.694426</td><td>101.248</td><td>0.003237</td><td>0.898695</td><td>72.8674</td></tr><tr><th>23</th><td>2022-04-24</td><td>39469.3</td><td>2922.73</td><td>0.698739</td><td>99.2358</td><td>0.004736</td><td>0.88635</td><td>71.603</td></tr><tr><th>24</th><td>2022-04-23</td><td>39486.7</td><td>2938.11</td><td>0.707705</td><td>100.744</td><td>0.004738</td><td>0.888503</td><td>72.92</td></tr><tr><th>25</th><td>2022-04-22</td><td>39740.3</td><td>2964.84</td><td>0.719194</td><td>100.612</td><td>0.004769</td><td>0.907154</td><td>74.123</td></tr><tr><th>26</th><td>2022-04-21</td><td>40527.4</td><td>2987.48</td><td>0.733178</td><td>101.776</td><td>0.004863</td><td>0.910474</td><td>75.0807</td></tr><tr><th>27</th><td>2022-04-20</td><td>41374.4</td><td>3077.75</td><td>0.752178</td><td>105.497</td><td>0.004965</td><td>0.937341</td><td>78.2743</td></tr><tr><th>28</th><td>2022-04-19</td><td>41502.8</td><td>3104.11</td><td>0.775063</td><td>108.582</td><td>0.004980</td><td>0.953333</td><td>80.2859</td></tr><tr><th>29</th><td>2022-04-18</td><td>40826.2</td><td>3057.61</td><td>0.768017</td><td>102.159</td><td>0.004899</td><td>0.93673</td><td>77.7937</td></tr><tr><th>30</th><td>2022-04-17</td><td>39717.0</td><td>2993.4</td><td>0.753154</td><td>100.41</td><td>0.004766</td><td>0.917466</td><td>75.7093</td></tr><tr><th>&vellip;</th><td>&vellip;</td><td>&vellip;</td><td>&vellip;</td><td>&vellip;</td><td>&vellip;</td><td>&vellip;</td><td>&vellip;</td><td>&vellip;</td></tr></tbody></table>"
      ],
      "text/latex": [
       "\\begin{tabular}{r|ccccccccc}\n",
       "\t& Date & Bitcoin & Ethereum & Ripple & Solana & Terra & Cardano & Avalanche & \\\\\n",
       "\t\\hline\n",
       "\t& Date… & Float64 & Float64 & Float64 & Float64 & String15 & Float64 & Float64 & \\\\\n",
       "\t\\hline\n",
       "\t1 & 2022-05-16 & 29811.8 & 2035.94 & 0.420961 & 55.0012 & null & 0.568933 & 33.295 & $\\dots$ \\\\\n",
       "\t2 & 2022-05-15 & 31305.1 & 2145.71 & 0.447371 & 58.8113 & null & 0.5975 & 36.5423 & $\\dots$ \\\\\n",
       "\t3 & 2022-05-14 & 30101.3 & 2056.27 & 0.427774 & 52.4172 & null & 0.539358 & 34.0825 & $\\dots$ \\\\\n",
       "\t4 & 2022-05-13 & 29283.1 & 2014.42 & 0.423417 & 48.5936 & null & 0.528877 & 32.1364 & $\\dots$ \\\\\n",
       "\t5 & 2022-05-12 & 29047.8 & 1961.7 & 0.385206 & 44.6836 & null & 0.473746 & 30.3575 & $\\dots$ \\\\\n",
       "\t6 & 2022-05-11 & 28936.4 & 2072.11 & 0.413376 & 50.2109 & 1.192089 & 0.5128 & 30.9629 & $\\dots$ \\\\\n",
       "\t7 & 2022-05-10 & 31022.9 & 2343.51 & 0.513626 & 66.7662 & 0.005584 & 0.628963 & 44.5603 & $\\dots$ \\\\\n",
       "\t8 & 2022-05-09 & 30297.0 & 2245.43 & 0.49294 & 63.2697 & 0.003636 & 0.610088 & 41.972 & $\\dots$ \\\\\n",
       "\t9 & 2022-05-08 & 34059.3 & 2517.46 & 0.566527 & 75.2202 & 0.003747 & 0.739563 & 51.5212 & $\\dots$ \\\\\n",
       "\t10 & 2022-05-07 & 35502.0 & 2636.09 & 0.582347 & 78.9834 & 0.003905 & 0.761882 & 55.1567 & $\\dots$ \\\\\n",
       "\t11 & 2022-05-06 & 36040.9 & 2694.98 & 0.60257 & 81.7641 & 0.003965 & 0.783359 & 57.0343 & $\\dots$ \\\\\n",
       "\t12 & 2022-05-05 & 36575.1 & 2749.21 & 0.598886 & 84.596 & 0.004023 & 0.791152 & 59.1274 & $\\dots$ \\\\\n",
       "\t13 & 2022-05-04 & 39698.4 & 2940.64 & 0.646474 & 92.7709 & 0.004367 & 0.896942 & 67.0861 & $\\dots$ \\\\\n",
       "\t14 & 2022-05-03 & 37750.5 & 2783.48 & 0.604849 & 85.8424 & 0.004153 & 0.771145 & 59.6601 & $\\dots$ \\\\\n",
       "\t15 & 2022-05-02 & 38529.3 & 2857.41 & 0.614269 & 87.581 & 0.004238 & 0.781529 & 60.5171 & $\\dots$ \\\\\n",
       "\t16 & 2022-05-01 & 38469.1 & 2827.76 & 0.607844 & 89.6715 & 0.004232 & 0.790344 & 58.8561 & $\\dots$ \\\\\n",
       "\t17 & 2022-04-30 & 37714.9 & 2730.19 & 0.587091 & 85.0959 & 0.004149 & 0.75666 & 57.048 & $\\dots$ \\\\\n",
       "\t18 & 2022-04-29 & 38609.8 & 2815.6 & 0.611407 & 94.0113 & 0.004633 & 0.805043 & 63.4171 & $\\dots$ \\\\\n",
       "\t19 & 2022-04-28 & 39773.8 & 2936.94 & 0.644363 & 98.1857 & 0.004773 & 0.84395 & 67.3195 & $\\dots$ \\\\\n",
       "\t20 & 2022-04-27 & 39241.1 & 2888.93 & 0.652318 & 98.3789 & 0.004709 & 0.840595 & 69.8577 & $\\dots$ \\\\\n",
       "\t21 & 2022-04-26 & 38117.5 & 2808.3 & 0.641699 & 95.7822 & 0.003049 & 0.827645 & 68.6721 & $\\dots$ \\\\\n",
       "\t22 & 2022-04-25 & 40458.3 & 3009.39 & 0.694426 & 101.248 & 0.003237 & 0.898695 & 72.8674 & $\\dots$ \\\\\n",
       "\t23 & 2022-04-24 & 39469.3 & 2922.73 & 0.698739 & 99.2358 & 0.004736 & 0.88635 & 71.603 & $\\dots$ \\\\\n",
       "\t24 & 2022-04-23 & 39486.7 & 2938.11 & 0.707705 & 100.744 & 0.004738 & 0.888503 & 72.92 & $\\dots$ \\\\\n",
       "\t25 & 2022-04-22 & 39740.3 & 2964.84 & 0.719194 & 100.612 & 0.004769 & 0.907154 & 74.123 & $\\dots$ \\\\\n",
       "\t26 & 2022-04-21 & 40527.4 & 2987.48 & 0.733178 & 101.776 & 0.004863 & 0.910474 & 75.0807 & $\\dots$ \\\\\n",
       "\t27 & 2022-04-20 & 41374.4 & 3077.75 & 0.752178 & 105.497 & 0.004965 & 0.937341 & 78.2743 & $\\dots$ \\\\\n",
       "\t28 & 2022-04-19 & 41502.8 & 3104.11 & 0.775063 & 108.582 & 0.004980 & 0.953333 & 80.2859 & $\\dots$ \\\\\n",
       "\t29 & 2022-04-18 & 40826.2 & 3057.61 & 0.768017 & 102.159 & 0.004899 & 0.93673 & 77.7937 & $\\dots$ \\\\\n",
       "\t30 & 2022-04-17 & 39717.0 & 2993.4 & 0.753154 & 100.41 & 0.004766 & 0.917466 & 75.7093 & $\\dots$ \\\\\n",
       "\t$\\dots$ & $\\dots$ & $\\dots$ & $\\dots$ & $\\dots$ & $\\dots$ & $\\dots$ & $\\dots$ & $\\dots$ &  \\\\\n",
       "\\end{tabular}\n"
      ],
      "text/plain": [
       "\u001b[1m366×11 DataFrame\u001b[0m\n",
       "\u001b[1m Row \u001b[0m│\u001b[1m Date       \u001b[0m\u001b[1m Bitcoin \u001b[0m\u001b[1m Ethereum \u001b[0m\u001b[1m Ripple   \u001b[0m\u001b[1m Solana  \u001b[0m\u001b[1m Terra    \u001b[0m\u001b[1m Cardano  \u001b[0m\u001b[1m A\u001b[0m ⋯\n",
       "\u001b[1m     \u001b[0m│\u001b[90m Date…      \u001b[0m\u001b[90m Float64 \u001b[0m\u001b[90m Float64  \u001b[0m\u001b[90m Float64  \u001b[0m\u001b[90m Float64 \u001b[0m\u001b[90m String15 \u001b[0m\u001b[90m Float64  \u001b[0m\u001b[90m F\u001b[0m ⋯\n",
       "─────┼──────────────────────────────────────────────────────────────────────────\n",
       "   1 │ 2022-05-16  29811.8   2035.94  0.420961  55.0012  null      0.568933    ⋯\n",
       "   2 │ 2022-05-15  31305.1   2145.71  0.447371  58.8113  null      0.5975\n",
       "   3 │ 2022-05-14  30101.3   2056.27  0.427774  52.4172  null      0.539358\n",
       "   4 │ 2022-05-13  29283.1   2014.42  0.423417  48.5936  null      0.528877\n",
       "   5 │ 2022-05-12  29047.8   1961.7   0.385206  44.6836  null      0.473746    ⋯\n",
       "   6 │ 2022-05-11  28936.4   2072.11  0.413376  50.2109  1.192089  0.5128\n",
       "   7 │ 2022-05-10  31022.9   2343.51  0.513626  66.7662  0.005584  0.628963\n",
       "   8 │ 2022-05-09  30297.0   2245.43  0.49294   63.2697  0.003636  0.610088\n",
       "   9 │ 2022-05-08  34059.3   2517.46  0.566527  75.2202  0.003747  0.739563    ⋯\n",
       "  10 │ 2022-05-07  35502.0   2636.09  0.582347  78.9834  0.003905  0.761882\n",
       "  11 │ 2022-05-06  36040.9   2694.98  0.60257   81.7641  0.003965  0.783359\n",
       "  ⋮  │     ⋮          ⋮        ⋮         ⋮         ⋮        ⋮         ⋮        ⋱\n",
       " 357 │ 2021-05-25  38402.2   2706.63  0.976187  29.9971  0.004214  1.55537\n",
       " 358 │ 2021-05-24  38706.0   2643.59  0.992835  31.2836  0.003865  1.54949     ⋯\n",
       " 359 │ 2021-05-23  34770.6   2109.58  0.797015  24.6887  0.005224  1.32544\n",
       " 360 │ 2021-05-22  37536.6   2295.71  0.906317  31.3156  0.006002  1.46362\n",
       " 361 │ 2021-05-21  37304.7   2430.62  1.00698   38.8129  0.006713  1.55228\n",
       " 362 │ 2021-05-20  40782.7   2784.29  1.18554   44.7427  0.006501  1.81047     ⋯\n",
       " 363 │ 2021-05-19  37002.4   2460.68  1.07031   35.1072  0.006317  1.48252\n",
       " 364 │ 2021-05-18  42909.4   3380.07  1.59073   55.911   0.006019  2.00366\n",
       " 365 │ 2021-05-17  43537.5   3282.4   1.4963    46.8632  0.006072  2.03223\n",
       " 366 │ 2021-05-16  46456.1   3587.51  1.45261   47.2008  0.007437  2.30911     ⋯\n",
       "\u001b[36m                                                  4 columns and 345 rows omitted\u001b[0m"
      ]
     },
     "execution_count": 53,
     "metadata": {},
     "output_type": "execute_result"
    }
   ],
   "source": [
    "df = DataFrame(\"Date\" => reverse!(vec(convert(Array, select!(CSV.read(\"BTC-USD.csv\", DataFrame), \"Date\")))),\n",
    "     \"Bitcoin\" => reverse!(vec(convert(Array, select!(CSV.read(\"BTC-USD.csv\", DataFrame), \"Close\")))),\n",
    "     \"Ethereum\"=> reverse!(vec(convert(Array, select!(CSV.read(\"ETH-USD.csv\", DataFrame), \"Close\")))), \n",
    "     \"Ripple\"=> reverse!(vec(convert(Array, select!(CSV.read(\"XRP-USD.csv\", DataFrame), \"Close\")))),\n",
    "     \"Solana\"=> reverse!(vec(convert(Array, select!(CSV.read(\"SOL-USD.csv\", DataFrame), \"Close\")))), \n",
    "     \"Terra\"=> reverse!(push!(vec(convert(Array, select!(CSV.read(\"LUNA-USD.csv\", DataFrame), \"Close\"))), \"null\")),\n",
    "     \"Cardano\"=> reverse!(vec(convert(Array, select!(CSV.read(\"ADA-USD.csv\", DataFrame), \"Close\")))), \n",
    "     \"Avalanche\"=> reverse!(vec(convert(Array, select!(CSV.read(\"AVAX-USD.csv\", DataFrame), \"Close\")))), \n",
    "     \"Polkadot\"=> reverse!(vec(convert(Array, select!(CSV.read(\"DOT-USD.csv\", DataFrame), \"Close\")))),\n",
    "     \"Dogecoin\"=> reverse!(vec(convert(Array, select!(CSV.read(\"DOGE-USD.csv\", DataFrame), \"Close\")))), \n",
    "     \"Polygon\"=> reverse!(vec(convert(Array, select!(CSV.read(\"MATIC-USD.csv\", DataFrame), \"Close\")))))"
   ]
  },
  {
   "cell_type": "code",
   "execution_count": 66,
   "metadata": {},
   "outputs": [
    {
     "ename": "LoadError",
     "evalue": "ArgumentError: column name :i not found in the data frame",
     "output_type": "error",
     "traceback": [
      "ArgumentError: column name :i not found in the data frame",
      "",
      "Stacktrace:",
      " [1] lookupname",
      "   @ C:\\Users\\Narges\\.julia\\packages\\DataFrames\\3mEXm\\src\\other\\index.jl:288 [inlined]",
      " [2] getindex",
      "   @ C:\\Users\\Narges\\.julia\\packages\\DataFrames\\3mEXm\\src\\other\\index.jl:297 [inlined]",
      " [3] getindex",
      "   @ C:\\Users\\Narges\\.julia\\packages\\DataFrames\\3mEXm\\src\\other\\index.jl:298 [inlined]",
      " [4] getindex(df::DataFrame, #unused#::typeof(!), col_ind::String)",
      "   @ DataFrames C:\\Users\\Narges\\.julia\\packages\\DataFrames\\3mEXm\\src\\dataframe\\dataframe.jl:440",
      " [5] getproperty(df::DataFrame, col_ind::String)",
      "   @ DataFrames C:\\Users\\Narges\\.julia\\packages\\DataFrames\\3mEXm\\src\\abstractdataframe\\abstractdataframe.jl:349",
      " [6] top-level scope",
      "   @ .\\In[66]:2",
      " [7] eval",
      "   @ .\\boot.jl:373 [inlined]",
      " [8] include_string(mapexpr::typeof(REPL.softscope), mod::Module, code::String, filename::String)",
      "   @ Base .\\loading.jl:1196"
     ]
    }
   ],
   "source": [
    "for i in names(df)\n",
    "    replace!(x -> (x - mean(df.i))/var(df.i), df.i)\n",
    "end\n"
   ]
  },
  {
   "cell_type": "markdown",
   "metadata": {},
   "source": [
    "### Q2"
   ]
  },
  {
   "cell_type": "code",
   "execution_count": null,
   "metadata": {},
   "outputs": [],
   "source": []
  }
 ],
 "metadata": {
  "kernelspec": {
   "display_name": "Julia 1.7.2",
   "language": "julia",
   "name": "julia-1.7"
  },
  "language_info": {
   "file_extension": ".jl",
   "mimetype": "application/julia",
   "name": "julia",
   "version": "1.7.2"
  },
  "orig_nbformat": 4
 },
 "nbformat": 4,
 "nbformat_minor": 2
}
