{
 "cells": [
  {
   "cell_type": "code",
   "execution_count": 142,
   "metadata": {},
   "outputs": [],
   "source": [
    "using Plots, ROCAnalysis, GLM, MLBase, Lathe, Distributions, LaTeXStrings, CSV, DataFrames, StatsBase, Missings\n",
    "using IJulia: readprompt"
   ]
  },
  {
   "cell_type": "markdown",
   "metadata": {},
   "source": [
    "Q1"
   ]
  },
  {
   "cell_type": "code",
   "execution_count": 16,
   "metadata": {},
   "outputs": [
    {
     "data": {
      "text/plain": [
       "100-element Vector{Float64}:\n",
       "   3.686632542517893\n",
       "   2.8826959953929903\n",
       "   5.806855459519275\n",
       "   8.48767398540714\n",
       "  10.759567170591456\n",
       "  11.545387222558663\n",
       "  14.440415396818572\n",
       "  14.306297259495924\n",
       "  16.211725214748594\n",
       "  20.66597251508455\n",
       "  21.676605155598025\n",
       "  22.988115382220716\n",
       "  26.582307474434604\n",
       "   ⋮\n",
       " 178.55334254691917\n",
       " 181.40926585489683\n",
       " 181.42690784812208\n",
       " 184.95897386542288\n",
       " 187.7583930722653\n",
       " 188.9730832555367\n",
       " 190.79135866724062\n",
       " 192.333870348304\n",
       " 192.7944305826697\n",
       " 196.35334937759413\n",
       " 198.210198716993\n",
       " 200.1050278121841"
      ]
     },
     "execution_count": 16,
     "metadata": {},
     "output_type": "execute_result"
    }
   ],
   "source": [
    "x = [i for i in 1:100]\n",
    "f= x->x*2 + randn()\n",
    "y = f.(x)"
   ]
  },
  {
   "cell_type": "code",
   "execution_count": 17,
   "metadata": {},
   "outputs": [
    {
     "data": {
      "image/svg+xml": "<?xml version=\"1.0\" encoding=\"utf-8\"?>\n<svg xmlns=\"http://www.w3.org/2000/svg\" xmlns:xlink=\"http://www.w3.org/1999/xlink\" width=\"600\" height=\"400\" viewBox=\"0 0 2400 1600\">\n<defs>\n  <clipPath id=\"clip890\">\n    <rect x=\"0\" y=\"0\" width=\"2400\" height=\"1600\"/>\n  </clipPath>\n</defs>\n<path clip-path=\"url(#clip890)\" d=\"\nM0 1600 L2400 1600 L2400 0 L0 0  Z\n  \" fill=\"#ffffff\" fill-rule=\"evenodd\" fill-opacity=\"1\"/>\n<defs>\n  <clipPath id=\"clip891\">\n    <rect x=\"480\" y=\"0\" width=\"1681\" height=\"1600\"/>\n  </clipPath>\n</defs>\n<path clip-path=\"url(#clip890)\" d=\"\nM170.857 1486.45 L2352.76 1486.45 L2352.76 47.2441 L170.857 47.2441  Z\n  \" fill=\"#ffffff\" fill-rule=\"evenodd\" fill-opacity=\"1\"/>\n<defs>\n  <clipPath id=\"clip892\">\n    <rect x=\"170\" y=\"47\" width=\"2183\" height=\"1440\"/>\n  </clipPath>\n</defs>\n<polyline clip-path=\"url(#clip892)\" style=\"stroke:#000000; stroke-linecap:butt; stroke-linejoin:round; stroke-width:2; stroke-opacity:0.1; fill:none\" points=\"\n  211.817,1486.45 211.817,47.2441 \n  \"/>\n<polyline clip-path=\"url(#clip892)\" style=\"stroke:#000000; stroke-linecap:butt; stroke-linejoin:round; stroke-width:2; stroke-opacity:0.1; fill:none\" points=\"\n  731.614,1486.45 731.614,47.2441 \n  \"/>\n<polyline clip-path=\"url(#clip892)\" style=\"stroke:#000000; stroke-linecap:butt; stroke-linejoin:round; stroke-width:2; stroke-opacity:0.1; fill:none\" points=\"\n  1251.41,1486.45 1251.41,47.2441 \n  \"/>\n<polyline clip-path=\"url(#clip892)\" style=\"stroke:#000000; stroke-linecap:butt; stroke-linejoin:round; stroke-width:2; stroke-opacity:0.1; fill:none\" points=\"\n  1771.21,1486.45 1771.21,47.2441 \n  \"/>\n<polyline clip-path=\"url(#clip892)\" style=\"stroke:#000000; stroke-linecap:butt; stroke-linejoin:round; stroke-width:2; stroke-opacity:0.1; fill:none\" points=\"\n  2291,1486.45 2291,47.2441 \n  \"/>\n<polyline clip-path=\"url(#clip890)\" style=\"stroke:#000000; stroke-linecap:butt; stroke-linejoin:round; stroke-width:4; stroke-opacity:1; fill:none\" points=\"\n  170.857,1486.45 2352.76,1486.45 \n  \"/>\n<polyline clip-path=\"url(#clip890)\" style=\"stroke:#000000; stroke-linecap:butt; stroke-linejoin:round; stroke-width:4; stroke-opacity:1; fill:none\" points=\"\n  211.817,1486.45 211.817,1467.55 \n  \"/>\n<polyline clip-path=\"url(#clip890)\" style=\"stroke:#000000; stroke-linecap:butt; stroke-linejoin:round; stroke-width:4; stroke-opacity:1; fill:none\" points=\"\n  731.614,1486.45 731.614,1467.55 \n  \"/>\n<polyline clip-path=\"url(#clip890)\" style=\"stroke:#000000; stroke-linecap:butt; stroke-linejoin:round; stroke-width:4; stroke-opacity:1; fill:none\" points=\"\n  1251.41,1486.45 1251.41,1467.55 \n  \"/>\n<polyline clip-path=\"url(#clip890)\" style=\"stroke:#000000; stroke-linecap:butt; stroke-linejoin:round; stroke-width:4; stroke-opacity:1; fill:none\" points=\"\n  1771.21,1486.45 1771.21,1467.55 \n  \"/>\n<polyline clip-path=\"url(#clip890)\" style=\"stroke:#000000; stroke-linecap:butt; stroke-linejoin:round; stroke-width:4; stroke-opacity:1; fill:none\" points=\"\n  2291,1486.45 2291,1467.55 \n  \"/>\n<path clip-path=\"url(#clip890)\" d=\"M211.817 1517.37 Q208.206 1517.37 206.378 1520.93 Q204.572 1524.47 204.572 1531.6 Q204.572 1538.71 206.378 1542.27 Q208.206 1545.82 211.817 1545.82 Q215.452 1545.82 217.257 1542.27 Q219.086 1538.71 219.086 1531.6 Q219.086 1524.47 217.257 1520.93 Q215.452 1517.37 211.817 1517.37 M211.817 1513.66 Q217.628 1513.66 220.683 1518.27 Q223.762 1522.85 223.762 1531.6 Q223.762 1540.33 220.683 1544.94 Q217.628 1549.52 211.817 1549.52 Q206.007 1549.52 202.929 1544.94 Q199.873 1540.33 199.873 1531.6 Q199.873 1522.85 202.929 1518.27 Q206.007 1513.66 211.817 1513.66 Z\" fill=\"#000000\" fill-rule=\"evenodd\" fill-opacity=\"1\" /><path clip-path=\"url(#clip890)\" d=\"M710.885 1544.91 L727.204 1544.91 L727.204 1548.85 L705.26 1548.85 L705.26 1544.91 Q707.922 1542.16 712.505 1537.53 Q717.112 1532.88 718.292 1531.53 Q720.538 1529.01 721.417 1527.27 Q722.32 1525.51 722.32 1523.82 Q722.32 1521.07 720.376 1519.33 Q718.454 1517.6 715.353 1517.6 Q713.154 1517.6 710.7 1518.36 Q708.269 1519.13 705.492 1520.68 L705.492 1515.95 Q708.316 1514.82 710.769 1514.24 Q713.223 1513.66 715.26 1513.66 Q720.63 1513.66 723.825 1516.35 Q727.019 1519.03 727.019 1523.52 Q727.019 1525.65 726.209 1527.57 Q725.422 1529.47 723.315 1532.07 Q722.737 1532.74 719.635 1535.95 Q716.533 1539.15 710.885 1544.91 Z\" fill=\"#000000\" fill-rule=\"evenodd\" fill-opacity=\"1\" /><path clip-path=\"url(#clip890)\" d=\"M737.065 1514.29 L755.422 1514.29 L755.422 1518.22 L741.348 1518.22 L741.348 1526.7 Q742.366 1526.35 743.385 1526.19 Q744.403 1526 745.422 1526 Q751.209 1526 754.588 1529.17 Q757.968 1532.34 757.968 1537.76 Q757.968 1543.34 754.496 1546.44 Q751.024 1549.52 744.704 1549.52 Q742.528 1549.52 740.26 1549.15 Q738.014 1548.78 735.607 1548.04 L735.607 1543.34 Q737.69 1544.47 739.913 1545.03 Q742.135 1545.58 744.612 1545.58 Q748.616 1545.58 750.954 1543.48 Q753.292 1541.37 753.292 1537.76 Q753.292 1534.15 750.954 1532.04 Q748.616 1529.94 744.612 1529.94 Q742.737 1529.94 740.862 1530.35 Q739.01 1530.77 737.065 1531.65 L737.065 1514.29 Z\" fill=\"#000000\" fill-rule=\"evenodd\" fill-opacity=\"1\" /><path clip-path=\"url(#clip890)\" d=\"M1226.11 1514.29 L1244.47 1514.29 L1244.47 1518.22 L1230.39 1518.22 L1230.39 1526.7 Q1231.41 1526.35 1232.43 1526.19 Q1233.45 1526 1234.47 1526 Q1240.25 1526 1243.63 1529.17 Q1247.01 1532.34 1247.01 1537.76 Q1247.01 1543.34 1243.54 1546.44 Q1240.07 1549.52 1233.75 1549.52 Q1231.57 1549.52 1229.3 1549.15 Q1227.06 1548.78 1224.65 1548.04 L1224.65 1543.34 Q1226.73 1544.47 1228.96 1545.03 Q1231.18 1545.58 1233.66 1545.58 Q1237.66 1545.58 1240 1543.48 Q1242.34 1541.37 1242.34 1537.76 Q1242.34 1534.15 1240 1532.04 Q1237.66 1529.94 1233.66 1529.94 Q1231.78 1529.94 1229.91 1530.35 Q1228.05 1530.77 1226.11 1531.65 L1226.11 1514.29 Z\" fill=\"#000000\" fill-rule=\"evenodd\" fill-opacity=\"1\" /><path clip-path=\"url(#clip890)\" d=\"M1266.23 1517.37 Q1262.61 1517.37 1260.79 1520.93 Q1258.98 1524.47 1258.98 1531.6 Q1258.98 1538.71 1260.79 1542.27 Q1262.61 1545.82 1266.23 1545.82 Q1269.86 1545.82 1271.67 1542.27 Q1273.49 1538.71 1273.49 1531.6 Q1273.49 1524.47 1271.67 1520.93 Q1269.86 1517.37 1266.23 1517.37 M1266.23 1513.66 Q1272.04 1513.66 1275.09 1518.27 Q1278.17 1522.85 1278.17 1531.6 Q1278.17 1540.33 1275.09 1544.94 Q1272.04 1549.52 1266.23 1549.52 Q1260.42 1549.52 1257.34 1544.94 Q1254.28 1540.33 1254.28 1531.6 Q1254.28 1522.85 1257.34 1518.27 Q1260.42 1513.66 1266.23 1513.66 Z\" fill=\"#000000\" fill-rule=\"evenodd\" fill-opacity=\"1\" /><path clip-path=\"url(#clip890)\" d=\"M1745.06 1514.29 L1767.28 1514.29 L1767.28 1516.28 L1754.74 1548.85 L1749.85 1548.85 L1761.66 1518.22 L1745.06 1518.22 L1745.06 1514.29 Z\" fill=\"#000000\" fill-rule=\"evenodd\" fill-opacity=\"1\" /><path clip-path=\"url(#clip890)\" d=\"M1776.45 1514.29 L1794.81 1514.29 L1794.81 1518.22 L1780.73 1518.22 L1780.73 1526.7 Q1781.75 1526.35 1782.77 1526.19 Q1783.79 1526 1784.81 1526 Q1790.59 1526 1793.97 1529.17 Q1797.35 1532.34 1797.35 1537.76 Q1797.35 1543.34 1793.88 1546.44 Q1790.41 1549.52 1784.09 1549.52 Q1781.91 1549.52 1779.64 1549.15 Q1777.4 1548.78 1774.99 1548.04 L1774.99 1543.34 Q1777.08 1544.47 1779.3 1545.03 Q1781.52 1545.58 1784 1545.58 Q1788 1545.58 1790.34 1543.48 Q1792.68 1541.37 1792.68 1537.76 Q1792.68 1534.15 1790.34 1532.04 Q1788 1529.94 1784 1529.94 Q1782.12 1529.94 1780.25 1530.35 Q1778.39 1530.77 1776.45 1531.65 L1776.45 1514.29 Z\" fill=\"#000000\" fill-rule=\"evenodd\" fill-opacity=\"1\" /><path clip-path=\"url(#clip890)\" d=\"M2250.61 1544.91 L2258.25 1544.91 L2258.25 1518.55 L2249.94 1520.21 L2249.94 1515.95 L2258.2 1514.29 L2262.88 1514.29 L2262.88 1544.91 L2270.52 1544.91 L2270.52 1548.85 L2250.61 1548.85 L2250.61 1544.91 Z\" fill=\"#000000\" fill-rule=\"evenodd\" fill-opacity=\"1\" /><path clip-path=\"url(#clip890)\" d=\"M2289.96 1517.37 Q2286.35 1517.37 2284.52 1520.93 Q2282.72 1524.47 2282.72 1531.6 Q2282.72 1538.71 2284.52 1542.27 Q2286.35 1545.82 2289.96 1545.82 Q2293.6 1545.82 2295.4 1542.27 Q2297.23 1538.71 2297.23 1531.6 Q2297.23 1524.47 2295.4 1520.93 Q2293.6 1517.37 2289.96 1517.37 M2289.96 1513.66 Q2295.77 1513.66 2298.83 1518.27 Q2301.91 1522.85 2301.91 1531.6 Q2301.91 1540.33 2298.83 1544.94 Q2295.77 1549.52 2289.96 1549.52 Q2284.15 1549.52 2281.07 1544.94 Q2278.02 1540.33 2278.02 1531.6 Q2278.02 1522.85 2281.07 1518.27 Q2284.15 1513.66 2289.96 1513.66 Z\" fill=\"#000000\" fill-rule=\"evenodd\" fill-opacity=\"1\" /><path clip-path=\"url(#clip890)\" d=\"M2320.12 1517.37 Q2316.51 1517.37 2314.68 1520.93 Q2312.88 1524.47 2312.88 1531.6 Q2312.88 1538.71 2314.68 1542.27 Q2316.51 1545.82 2320.12 1545.82 Q2323.76 1545.82 2325.56 1542.27 Q2327.39 1538.71 2327.39 1531.6 Q2327.39 1524.47 2325.56 1520.93 Q2323.76 1517.37 2320.12 1517.37 M2320.12 1513.66 Q2325.93 1513.66 2328.99 1518.27 Q2332.07 1522.85 2332.07 1531.6 Q2332.07 1540.33 2328.99 1544.94 Q2325.93 1549.52 2320.12 1549.52 Q2314.31 1549.52 2311.24 1544.94 Q2308.18 1540.33 2308.18 1531.6 Q2308.18 1522.85 2311.24 1518.27 Q2314.31 1513.66 2320.12 1513.66 Z\" fill=\"#000000\" fill-rule=\"evenodd\" fill-opacity=\"1\" /><polyline clip-path=\"url(#clip892)\" style=\"stroke:#000000; stroke-linecap:butt; stroke-linejoin:round; stroke-width:2; stroke-opacity:0.1; fill:none\" points=\"\n  170.857,1465.56 2352.76,1465.56 \n  \"/>\n<polyline clip-path=\"url(#clip892)\" style=\"stroke:#000000; stroke-linecap:butt; stroke-linejoin:round; stroke-width:2; stroke-opacity:0.1; fill:none\" points=\"\n  170.857,1121.35 2352.76,1121.35 \n  \"/>\n<polyline clip-path=\"url(#clip892)\" style=\"stroke:#000000; stroke-linecap:butt; stroke-linejoin:round; stroke-width:2; stroke-opacity:0.1; fill:none\" points=\"\n  170.857,777.13 2352.76,777.13 \n  \"/>\n<polyline clip-path=\"url(#clip892)\" style=\"stroke:#000000; stroke-linecap:butt; stroke-linejoin:round; stroke-width:2; stroke-opacity:0.1; fill:none\" points=\"\n  170.857,432.915 2352.76,432.915 \n  \"/>\n<polyline clip-path=\"url(#clip892)\" style=\"stroke:#000000; stroke-linecap:butt; stroke-linejoin:round; stroke-width:2; stroke-opacity:0.1; fill:none\" points=\"\n  170.857,88.6993 2352.76,88.6993 \n  \"/>\n<polyline clip-path=\"url(#clip890)\" style=\"stroke:#000000; stroke-linecap:butt; stroke-linejoin:round; stroke-width:4; stroke-opacity:1; fill:none\" points=\"\n  170.857,1486.45 170.857,47.2441 \n  \"/>\n<polyline clip-path=\"url(#clip890)\" style=\"stroke:#000000; stroke-linecap:butt; stroke-linejoin:round; stroke-width:4; stroke-opacity:1; fill:none\" points=\"\n  170.857,1465.56 189.755,1465.56 \n  \"/>\n<polyline clip-path=\"url(#clip890)\" style=\"stroke:#000000; stroke-linecap:butt; stroke-linejoin:round; stroke-width:4; stroke-opacity:1; fill:none\" points=\"\n  170.857,1121.35 189.755,1121.35 \n  \"/>\n<polyline clip-path=\"url(#clip890)\" style=\"stroke:#000000; stroke-linecap:butt; stroke-linejoin:round; stroke-width:4; stroke-opacity:1; fill:none\" points=\"\n  170.857,777.13 189.755,777.13 \n  \"/>\n<polyline clip-path=\"url(#clip890)\" style=\"stroke:#000000; stroke-linecap:butt; stroke-linejoin:round; stroke-width:4; stroke-opacity:1; fill:none\" points=\"\n  170.857,432.915 189.755,432.915 \n  \"/>\n<polyline clip-path=\"url(#clip890)\" style=\"stroke:#000000; stroke-linecap:butt; stroke-linejoin:round; stroke-width:4; stroke-opacity:1; fill:none\" points=\"\n  170.857,88.6993 189.755,88.6993 \n  \"/>\n<path clip-path=\"url(#clip890)\" d=\"M122.913 1451.36 Q119.302 1451.36 117.473 1454.92 Q115.668 1458.47 115.668 1465.6 Q115.668 1472.7 117.473 1476.27 Q119.302 1479.81 122.913 1479.81 Q126.547 1479.81 128.353 1476.27 Q130.182 1472.7 130.182 1465.6 Q130.182 1458.47 128.353 1454.92 Q126.547 1451.36 122.913 1451.36 M122.913 1447.66 Q128.723 1447.66 131.779 1452.26 Q134.857 1456.85 134.857 1465.6 Q134.857 1474.32 131.779 1478.93 Q128.723 1483.51 122.913 1483.51 Q117.103 1483.51 114.024 1478.93 Q110.969 1474.32 110.969 1465.6 Q110.969 1456.85 114.024 1452.26 Q117.103 1447.66 122.913 1447.66 Z\" fill=\"#000000\" fill-rule=\"evenodd\" fill-opacity=\"1\" /><path clip-path=\"url(#clip890)\" d=\"M82.7975 1104.07 L101.154 1104.07 L101.154 1108 L87.0799 1108 L87.0799 1116.47 Q88.0984 1116.13 89.1169 1115.96 Q90.1354 1115.78 91.1539 1115.78 Q96.941 1115.78 100.321 1118.95 Q103.7 1122.12 103.7 1127.54 Q103.7 1133.12 100.228 1136.22 Q96.7558 1139.3 90.4364 1139.3 Q88.2604 1139.3 85.9919 1138.93 Q83.7466 1138.56 81.3392 1137.82 L81.3392 1133.12 Q83.4225 1134.25 85.6447 1134.81 Q87.8669 1135.36 90.3438 1135.36 Q94.3484 1135.36 96.6863 1133.26 Q99.0243 1131.15 99.0243 1127.54 Q99.0243 1123.93 96.6863 1121.82 Q94.3484 1119.71 90.3438 1119.71 Q88.4688 1119.71 86.5938 1120.13 Q84.7419 1120.55 82.7975 1121.43 L82.7975 1104.07 Z\" fill=\"#000000\" fill-rule=\"evenodd\" fill-opacity=\"1\" /><path clip-path=\"url(#clip890)\" d=\"M122.913 1107.14 Q119.302 1107.14 117.473 1110.71 Q115.668 1114.25 115.668 1121.38 Q115.668 1128.49 117.473 1132.05 Q119.302 1135.59 122.913 1135.59 Q126.547 1135.59 128.353 1132.05 Q130.182 1128.49 130.182 1121.38 Q130.182 1114.25 128.353 1110.71 Q126.547 1107.14 122.913 1107.14 M122.913 1103.44 Q128.723 1103.44 131.779 1108.05 Q134.857 1112.63 134.857 1121.38 Q134.857 1130.11 131.779 1134.71 Q128.723 1139.3 122.913 1139.3 Q117.103 1139.3 114.024 1134.71 Q110.969 1130.11 110.969 1121.38 Q110.969 1112.63 114.024 1108.05 Q117.103 1103.44 122.913 1103.44 Z\" fill=\"#000000\" fill-rule=\"evenodd\" fill-opacity=\"1\" /><path clip-path=\"url(#clip890)\" d=\"M53.3995 790.475 L61.0384 790.475 L61.0384 764.109 L52.7282 765.776 L52.7282 761.517 L60.9921 759.85 L65.668 759.85 L65.668 790.475 L73.3068 790.475 L73.3068 794.41 L53.3995 794.41 L53.3995 790.475 Z\" fill=\"#000000\" fill-rule=\"evenodd\" fill-opacity=\"1\" /><path clip-path=\"url(#clip890)\" d=\"M92.7512 762.929 Q89.1401 762.929 87.3114 766.494 Q85.5058 770.035 85.5058 777.165 Q85.5058 784.271 87.3114 787.836 Q89.1401 791.378 92.7512 791.378 Q96.3854 791.378 98.1909 787.836 Q100.02 784.271 100.02 777.165 Q100.02 770.035 98.1909 766.494 Q96.3854 762.929 92.7512 762.929 M92.7512 759.225 Q98.5613 759.225 101.617 763.832 Q104.696 768.415 104.696 777.165 Q104.696 785.892 101.617 790.498 Q98.5613 795.081 92.7512 795.081 Q86.941 795.081 83.8623 790.498 Q80.8068 785.892 80.8068 777.165 Q80.8068 768.415 83.8623 763.832 Q86.941 759.225 92.7512 759.225 Z\" fill=\"#000000\" fill-rule=\"evenodd\" fill-opacity=\"1\" /><path clip-path=\"url(#clip890)\" d=\"M122.913 762.929 Q119.302 762.929 117.473 766.494 Q115.668 770.035 115.668 777.165 Q115.668 784.271 117.473 787.836 Q119.302 791.378 122.913 791.378 Q126.547 791.378 128.353 787.836 Q130.182 784.271 130.182 777.165 Q130.182 770.035 128.353 766.494 Q126.547 762.929 122.913 762.929 M122.913 759.225 Q128.723 759.225 131.779 763.832 Q134.857 768.415 134.857 777.165 Q134.857 785.892 131.779 790.498 Q128.723 795.081 122.913 795.081 Q117.103 795.081 114.024 790.498 Q110.969 785.892 110.969 777.165 Q110.969 768.415 114.024 763.832 Q117.103 759.225 122.913 759.225 Z\" fill=\"#000000\" fill-rule=\"evenodd\" fill-opacity=\"1\" /><path clip-path=\"url(#clip890)\" d=\"M53.3995 446.26 L61.0384 446.26 L61.0384 419.894 L52.7282 421.561 L52.7282 417.301 L60.9921 415.635 L65.668 415.635 L65.668 446.26 L73.3068 446.26 L73.3068 450.195 L53.3995 450.195 L53.3995 446.26 Z\" fill=\"#000000\" fill-rule=\"evenodd\" fill-opacity=\"1\" /><path clip-path=\"url(#clip890)\" d=\"M82.7975 415.635 L101.154 415.635 L101.154 419.57 L87.0799 419.57 L87.0799 428.042 Q88.0984 427.695 89.1169 427.533 Q90.1354 427.348 91.1539 427.348 Q96.941 427.348 100.321 430.519 Q103.7 433.69 103.7 439.107 Q103.7 444.686 100.228 447.787 Q96.7558 450.866 90.4364 450.866 Q88.2604 450.866 85.9919 450.496 Q83.7466 450.125 81.3392 449.385 L81.3392 444.686 Q83.4225 445.82 85.6447 446.375 Q87.8669 446.931 90.3438 446.931 Q94.3484 446.931 96.6863 444.824 Q99.0243 442.718 99.0243 439.107 Q99.0243 435.496 96.6863 433.389 Q94.3484 431.283 90.3438 431.283 Q88.4688 431.283 86.5938 431.699 Q84.7419 432.116 82.7975 432.996 L82.7975 415.635 Z\" fill=\"#000000\" fill-rule=\"evenodd\" fill-opacity=\"1\" /><path clip-path=\"url(#clip890)\" d=\"M122.913 418.713 Q119.302 418.713 117.473 422.278 Q115.668 425.82 115.668 432.949 Q115.668 440.056 117.473 443.621 Q119.302 447.162 122.913 447.162 Q126.547 447.162 128.353 443.621 Q130.182 440.056 130.182 432.949 Q130.182 425.82 128.353 422.278 Q126.547 418.713 122.913 418.713 M122.913 415.01 Q128.723 415.01 131.779 419.616 Q134.857 424.2 134.857 432.949 Q134.857 441.676 131.779 446.283 Q128.723 450.866 122.913 450.866 Q117.103 450.866 114.024 446.283 Q110.969 441.676 110.969 432.949 Q110.969 424.2 114.024 419.616 Q117.103 415.01 122.913 415.01 Z\" fill=\"#000000\" fill-rule=\"evenodd\" fill-opacity=\"1\" /><path clip-path=\"url(#clip890)\" d=\"M56.6171 102.044 L72.9365 102.044 L72.9365 105.979 L50.9921 105.979 L50.9921 102.044 Q53.6541 99.2895 58.2375 94.6599 Q62.8439 90.0072 64.0245 88.6646 Q66.2698 86.1415 67.1494 84.4054 Q68.0522 82.6461 68.0522 80.9563 Q68.0522 78.2017 66.1078 76.4656 Q64.1865 74.7295 61.0847 74.7295 Q58.8856 74.7295 56.4319 75.4934 Q54.0014 76.2573 51.2236 77.8082 L51.2236 73.086 Q54.0477 71.9517 56.5014 71.373 Q58.955 70.7943 60.9921 70.7943 Q66.3624 70.7943 69.5568 73.4795 Q72.7513 76.1647 72.7513 80.6554 Q72.7513 82.785 71.9411 84.7063 Q71.1541 86.6044 69.0476 89.197 Q68.4689 89.8683 65.367 93.0859 Q62.2652 96.2803 56.6171 102.044 Z\" fill=\"#000000\" fill-rule=\"evenodd\" fill-opacity=\"1\" /><path clip-path=\"url(#clip890)\" d=\"M92.7512 74.498 Q89.1401 74.498 87.3114 78.0628 Q85.5058 81.6045 85.5058 88.734 Q85.5058 95.8405 87.3114 99.4053 Q89.1401 102.947 92.7512 102.947 Q96.3854 102.947 98.1909 99.4053 Q100.02 95.8405 100.02 88.734 Q100.02 81.6045 98.1909 78.0628 Q96.3854 74.498 92.7512 74.498 M92.7512 70.7943 Q98.5613 70.7943 101.617 75.4008 Q104.696 79.9841 104.696 88.734 Q104.696 97.4608 101.617 102.067 Q98.5613 106.651 92.7512 106.651 Q86.941 106.651 83.8623 102.067 Q80.8068 97.4608 80.8068 88.734 Q80.8068 79.9841 83.8623 75.4008 Q86.941 70.7943 92.7512 70.7943 Z\" fill=\"#000000\" fill-rule=\"evenodd\" fill-opacity=\"1\" /><path clip-path=\"url(#clip890)\" d=\"M122.913 74.498 Q119.302 74.498 117.473 78.0628 Q115.668 81.6045 115.668 88.734 Q115.668 95.8405 117.473 99.4053 Q119.302 102.947 122.913 102.947 Q126.547 102.947 128.353 99.4053 Q130.182 95.8405 130.182 88.734 Q130.182 81.6045 128.353 78.0628 Q126.547 74.498 122.913 74.498 M122.913 70.7943 Q128.723 70.7943 131.779 75.4008 Q134.857 79.9841 134.857 88.734 Q134.857 97.4608 131.779 102.067 Q128.723 106.651 122.913 106.651 Q117.103 106.651 114.024 102.067 Q110.969 97.4608 110.969 88.734 Q110.969 79.9841 114.024 75.4008 Q117.103 70.7943 122.913 70.7943 Z\" fill=\"#000000\" fill-rule=\"evenodd\" fill-opacity=\"1\" /><polyline clip-path=\"url(#clip892)\" style=\"stroke:#009af9; stroke-linecap:butt; stroke-linejoin:round; stroke-width:4; stroke-opacity:1; fill:none\" points=\"\n  232.609,1440.18 253.401,1445.72 274.193,1425.58 294.985,1407.13 315.777,1391.49 336.569,1386.08 357.36,1366.15 378.152,1367.07 398.944,1353.95 419.736,1323.29 \n  440.528,1316.33 461.32,1307.3 482.112,1282.56 502.904,1272.5 523.695,1234.91 544.487,1250.81 565.279,1224.32 586.071,1229.77 606.863,1207.28 627.655,1185.89 \n  648.447,1168.53 669.238,1160.88 690.03,1157.26 710.822,1145.6 731.614,1116.11 752.406,1105.21 773.198,1084.53 793.99,1081.51 814.782,1059.18 835.573,1062.16 \n  856.365,1033.85 877.157,1024.1 897.949,1012.58 918.741,986.939 939.533,980.001 960.325,967.891 981.116,953.731 1001.91,941.003 1022.7,931.625 1043.49,915.288 \n  1064.28,897.076 1085.08,881.505 1105.87,875.662 1126.66,857.175 1147.45,854.139 1168.24,830.715 1189.04,823.762 1209.83,800.36 1230.62,796.989 1251.41,791.169 \n  1272.2,753.241 1292.99,737.374 1313.79,736.035 1334.58,718.467 1355.37,708.258 1376.16,701.833 1396.95,679.004 1417.75,673.014 1438.54,654.002 1459.33,644.872 \n  1480.12,635.895 1500.91,612.318 1521.7,595.493 1542.5,581.913 1563.29,572.001 1584.08,555.235 1604.87,540.968 1625.66,533.241 1646.46,523.169 1667.25,488.347 \n  1688.04,499.376 1708.83,476.044 1729.62,468.385 1750.42,447.049 1771.21,441.534 1792,424.211 1812.79,407.322 1833.58,383.516 1854.37,375.542 1875.17,380.339 \n  1895.96,344.887 1916.75,328.718 1937.54,322.72 1958.33,309.529 1979.13,293.787 1999.92,287.511 2020.71,265.58 2041.5,257.141 2062.29,236.345 2083.09,216.684 \n  2103.88,216.562 2124.67,192.246 2145.46,172.974 2166.25,164.612 2187.04,152.094 2207.84,141.475 2228.63,138.305 2249.42,113.804 2270.21,101.021 2291,87.9763 \n  \n  \"/>\n<path clip-path=\"url(#clip890)\" d=\"\nM1985.16 198.898 L2280.03 198.898 L2280.03 95.2176 L1985.16 95.2176  Z\n  \" fill=\"#ffffff\" fill-rule=\"evenodd\" fill-opacity=\"1\"/>\n<polyline clip-path=\"url(#clip890)\" style=\"stroke:#000000; stroke-linecap:butt; stroke-linejoin:round; stroke-width:4; stroke-opacity:1; fill:none\" points=\"\n  1985.16,198.898 2280.03,198.898 2280.03,95.2176 1985.16,95.2176 1985.16,198.898 \n  \"/>\n<polyline clip-path=\"url(#clip890)\" style=\"stroke:#009af9; stroke-linecap:butt; stroke-linejoin:round; stroke-width:4; stroke-opacity:1; fill:none\" points=\"\n  2009.41,147.058 2154.87,147.058 \n  \"/>\n<path clip-path=\"url(#clip890)\" d=\"M2192.95 166.745 Q2191.15 171.375 2189.43 172.787 Q2187.72 174.199 2184.85 174.199 L2181.45 174.199 L2181.45 170.634 L2183.95 170.634 Q2185.71 170.634 2186.68 169.8 Q2187.65 168.967 2188.83 165.865 L2189.6 163.921 L2179.11 138.412 L2183.62 138.412 L2191.72 158.689 L2199.83 138.412 L2204.34 138.412 L2192.95 166.745 Z\" fill=\"#000000\" fill-rule=\"evenodd\" fill-opacity=\"1\" /><path clip-path=\"url(#clip890)\" d=\"M2211.63 160.402 L2219.27 160.402 L2219.27 134.037 L2210.96 135.703 L2210.96 131.444 L2219.22 129.778 L2223.9 129.778 L2223.9 160.402 L2231.54 160.402 L2231.54 164.338 L2211.63 164.338 L2211.63 160.402 Z\" fill=\"#000000\" fill-rule=\"evenodd\" fill-opacity=\"1\" /></svg>\n"
     },
     "execution_count": 17,
     "metadata": {},
     "output_type": "execute_result"
    }
   ],
   "source": [
    "plot(x,y)"
   ]
  },
  {
   "cell_type": "markdown",
   "metadata": {},
   "source": [
    "Q2"
   ]
  },
  {
   "cell_type": "code",
   "execution_count": 62,
   "metadata": {},
   "outputs": [
    {
     "data": {
      "text/plain": [
       "foctorial (generic function with 1 method)"
      ]
     },
     "execution_count": 62,
     "metadata": {},
     "output_type": "execute_result"
    }
   ],
   "source": [
    "function foctorial(n)\n",
    "    if n % 1 != 0 || n<0\n",
    "        println(\"your input variable is not valid.\")\n",
    "        return \n",
    "    elseif n == 0\n",
    "        return 1\n",
    "    else\n",
    "        a = [i for i in 1:n]\n",
    "        res = prod(a)\n",
    "        return res\n",
    "    end\n",
    "end\n",
    "\n"
   ]
  },
  {
   "cell_type": "code",
   "execution_count": 63,
   "metadata": {},
   "outputs": [
    {
     "data": {
      "text/plain": [
       "362880.0"
      ]
     },
     "execution_count": 63,
     "metadata": {},
     "output_type": "execute_result"
    }
   ],
   "source": [
    "input = parse(Float64, readprompt(\"write the number!\"))\n",
    "foctorial(input)"
   ]
  },
  {
   "cell_type": "markdown",
   "metadata": {},
   "source": [
    "Q3"
   ]
  },
  {
   "cell_type": "code",
   "execution_count": 148,
   "metadata": {},
   "outputs": [
    {
     "data": {
      "text/html": [
       "<table class=\"data-frame\"><thead><tr><th></th><th>interviewee ID</th><th>Region</th><th>Sex</th><th>Age</th><th>Car accident</th></tr><tr><th></th><th>Int64</th><th>String1</th><th>String7</th><th>Float64?</th><th>Int64</th></tr></thead><tbody><p>764 rows × 5 columns</p><tr><th>1</th><td>1</td><td>C</td><td>female</td><td>18.0</td><td>0</td></tr><tr><th>2</th><td>2</td><td>C</td><td>female</td><td>18.0</td><td>0</td></tr><tr><th>3</th><td>3</td><td>B</td><td>male</td><td>18.0</td><td>0</td></tr><tr><th>4</th><td>4</td><td>C</td><td>male</td><td>18.0</td><td>0</td></tr><tr><th>5</th><td>5</td><td>C</td><td>male</td><td>18.0</td><td>1</td></tr><tr><th>6</th><td>6</td><td>B</td><td>male</td><td>18.0</td><td>0</td></tr><tr><th>7</th><td>7</td><td>A</td><td>female</td><td>18.0</td><td>1</td></tr><tr><th>8</th><td>8</td><td>C</td><td>male</td><td>18.0</td><td>0</td></tr><tr><th>9</th><td>9</td><td>B</td><td>male</td><td>18.0</td><td>0</td></tr><tr><th>10</th><td>10</td><td>B</td><td>female</td><td>18.0</td><td>1</td></tr><tr><th>11</th><td>11</td><td>C</td><td>male</td><td>18.0</td><td>0</td></tr><tr><th>12</th><td>12</td><td>A</td><td>male</td><td>18.0</td><td>0</td></tr><tr><th>13</th><td>13</td><td>A</td><td>female</td><td>18.0</td><td>1</td></tr><tr><th>14</th><td>14</td><td>B</td><td>female</td><td>18.0</td><td>1</td></tr><tr><th>15</th><td>15</td><td>C</td><td>female</td><td>18.0</td><td>0</td></tr><tr><th>16</th><td>16</td><td>C</td><td>male</td><td>18.0</td><td>0</td></tr><tr><th>17</th><td>17</td><td>C</td><td>female</td><td>18.0</td><td>1</td></tr><tr><th>18</th><td>18</td><td>C</td><td>male</td><td>18.0</td><td>0</td></tr><tr><th>19</th><td>19</td><td>A</td><td>female</td><td>18.0</td><td>1</td></tr><tr><th>20</th><td>20</td><td>C</td><td>female</td><td>18.0</td><td>0</td></tr><tr><th>21</th><td>21</td><td>B</td><td>male</td><td>18.0</td><td>0</td></tr><tr><th>22</th><td>22</td><td>C</td><td>male</td><td>18.0</td><td>0</td></tr><tr><th>23</th><td>23</td><td>C</td><td>female</td><td>18.0</td><td>1</td></tr><tr><th>24</th><td>24</td><td>C</td><td>female</td><td>18.0</td><td>0</td></tr><tr><th>25</th><td>25</td><td>C</td><td>male</td><td>18.0</td><td>0</td></tr><tr><th>26</th><td>26</td><td>C</td><td>female</td><td>18.0</td><td>1</td></tr><tr><th>27</th><td>27</td><td>A</td><td>male</td><td>19.0</td><td>0</td></tr><tr><th>28</th><td>28</td><td>C</td><td>female</td><td>19.0</td><td>1</td></tr><tr><th>29</th><td>29</td><td>C</td><td>male</td><td>19.0</td><td>0</td></tr><tr><th>30</th><td>30</td><td>A</td><td>female</td><td>19.0</td><td>1</td></tr><tr><th>&vellip;</th><td>&vellip;</td><td>&vellip;</td><td>&vellip;</td><td>&vellip;</td><td>&vellip;</td></tr></tbody></table>"
      ],
      "text/latex": [
       "\\begin{tabular}{r|ccccc}\n",
       "\t& interviewee ID & Region & Sex & Age & Car accident\\\\\n",
       "\t\\hline\n",
       "\t& Int64 & String1 & String7 & Float64? & Int64\\\\\n",
       "\t\\hline\n",
       "\t1 & 1 & C & female & 18.0 & 0 \\\\\n",
       "\t2 & 2 & C & female & 18.0 & 0 \\\\\n",
       "\t3 & 3 & B & male & 18.0 & 0 \\\\\n",
       "\t4 & 4 & C & male & 18.0 & 0 \\\\\n",
       "\t5 & 5 & C & male & 18.0 & 1 \\\\\n",
       "\t6 & 6 & B & male & 18.0 & 0 \\\\\n",
       "\t7 & 7 & A & female & 18.0 & 1 \\\\\n",
       "\t8 & 8 & C & male & 18.0 & 0 \\\\\n",
       "\t9 & 9 & B & male & 18.0 & 0 \\\\\n",
       "\t10 & 10 & B & female & 18.0 & 1 \\\\\n",
       "\t11 & 11 & C & male & 18.0 & 0 \\\\\n",
       "\t12 & 12 & A & male & 18.0 & 0 \\\\\n",
       "\t13 & 13 & A & female & 18.0 & 1 \\\\\n",
       "\t14 & 14 & B & female & 18.0 & 1 \\\\\n",
       "\t15 & 15 & C & female & 18.0 & 0 \\\\\n",
       "\t16 & 16 & C & male & 18.0 & 0 \\\\\n",
       "\t17 & 17 & C & female & 18.0 & 1 \\\\\n",
       "\t18 & 18 & C & male & 18.0 & 0 \\\\\n",
       "\t19 & 19 & A & female & 18.0 & 1 \\\\\n",
       "\t20 & 20 & C & female & 18.0 & 0 \\\\\n",
       "\t21 & 21 & B & male & 18.0 & 0 \\\\\n",
       "\t22 & 22 & C & male & 18.0 & 0 \\\\\n",
       "\t23 & 23 & C & female & 18.0 & 1 \\\\\n",
       "\t24 & 24 & C & female & 18.0 & 0 \\\\\n",
       "\t25 & 25 & C & male & 18.0 & 0 \\\\\n",
       "\t26 & 26 & C & female & 18.0 & 1 \\\\\n",
       "\t27 & 27 & A & male & 19.0 & 0 \\\\\n",
       "\t28 & 28 & C & female & 19.0 & 1 \\\\\n",
       "\t29 & 29 & C & male & 19.0 & 0 \\\\\n",
       "\t30 & 30 & A & female & 19.0 & 1 \\\\\n",
       "\t$\\dots$ & $\\dots$ & $\\dots$ & $\\dots$ & $\\dots$ & $\\dots$ \\\\\n",
       "\\end{tabular}\n"
      ],
      "text/plain": [
       "\u001b[1m764×5 DataFrame\u001b[0m\n",
       "\u001b[1m Row \u001b[0m│\u001b[1m interviewee ID \u001b[0m\u001b[1m Region  \u001b[0m\u001b[1m Sex     \u001b[0m\u001b[1m Age       \u001b[0m\u001b[1m Car accident \u001b[0m\n",
       "\u001b[1m     \u001b[0m│\u001b[90m Int64          \u001b[0m\u001b[90m String1 \u001b[0m\u001b[90m String7 \u001b[0m\u001b[90m Float64?  \u001b[0m\u001b[90m Int64        \u001b[0m\n",
       "─────┼───────────────────────────────────────────────────────────\n",
       "   1 │              1  C        female        18.0             0\n",
       "   2 │              2  C        female        18.0             0\n",
       "   3 │              3  B        male          18.0             0\n",
       "   4 │              4  C        male          18.0             0\n",
       "   5 │              5  C        male          18.0             1\n",
       "   6 │              6  B        male          18.0             0\n",
       "   7 │              7  A        female        18.0             1\n",
       "   8 │              8  C        male          18.0             0\n",
       "   9 │              9  B        male          18.0             0\n",
       "  10 │             10  B        female        18.0             1\n",
       "  11 │             11  C        male          18.0             0\n",
       "  ⋮  │       ⋮            ⋮        ⋮         ⋮           ⋮\n",
       " 755 │            755  C        male    \u001b[90m missing   \u001b[0m            0\n",
       " 756 │            756  C        male    \u001b[90m missing   \u001b[0m            0\n",
       " 757 │            757  A        male    \u001b[90m missing   \u001b[0m            1\n",
       " 758 │            758  C        male    \u001b[90m missing   \u001b[0m            0\n",
       " 759 │            759  A        female  \u001b[90m missing   \u001b[0m            1\n",
       " 760 │            760  C        male    \u001b[90m missing   \u001b[0m            0\n",
       " 761 │            761  C        female  \u001b[90m missing   \u001b[0m            0\n",
       " 762 │            762  C        male    \u001b[90m missing   \u001b[0m            0\n",
       " 763 │            763  C        male    \u001b[90m missing   \u001b[0m            0\n",
       " 764 │            764  C        female  \u001b[90m missing   \u001b[0m            0\n",
       "\u001b[36m                                                 743 rows omitted\u001b[0m"
      ]
     },
     "execution_count": 148,
     "metadata": {},
     "output_type": "execute_result"
    }
   ],
   "source": [
    "df = CSV.read(\"dataset.csv\", DataFrame)"
   ]
  },
  {
   "cell_type": "code",
   "execution_count": 149,
   "metadata": {},
   "outputs": [
    {
     "data": {
      "text/html": [
       "<table class=\"data-frame\"><thead><tr><th></th><th>interviewee ID</th><th>Age</th><th>Car accident</th></tr><tr><th></th><th>Int64</th><th>Float64?</th><th>Int64</th></tr></thead><tbody><p>764 rows × 3 columns</p><tr><th>1</th><td>1</td><td>18.0</td><td>0</td></tr><tr><th>2</th><td>2</td><td>18.0</td><td>0</td></tr><tr><th>3</th><td>3</td><td>18.0</td><td>0</td></tr><tr><th>4</th><td>4</td><td>18.0</td><td>0</td></tr><tr><th>5</th><td>5</td><td>18.0</td><td>1</td></tr><tr><th>6</th><td>6</td><td>18.0</td><td>0</td></tr><tr><th>7</th><td>7</td><td>18.0</td><td>1</td></tr><tr><th>8</th><td>8</td><td>18.0</td><td>0</td></tr><tr><th>9</th><td>9</td><td>18.0</td><td>0</td></tr><tr><th>10</th><td>10</td><td>18.0</td><td>1</td></tr><tr><th>11</th><td>11</td><td>18.0</td><td>0</td></tr><tr><th>12</th><td>12</td><td>18.0</td><td>0</td></tr><tr><th>13</th><td>13</td><td>18.0</td><td>1</td></tr><tr><th>14</th><td>14</td><td>18.0</td><td>1</td></tr><tr><th>15</th><td>15</td><td>18.0</td><td>0</td></tr><tr><th>16</th><td>16</td><td>18.0</td><td>0</td></tr><tr><th>17</th><td>17</td><td>18.0</td><td>1</td></tr><tr><th>18</th><td>18</td><td>18.0</td><td>0</td></tr><tr><th>19</th><td>19</td><td>18.0</td><td>1</td></tr><tr><th>20</th><td>20</td><td>18.0</td><td>0</td></tr><tr><th>21</th><td>21</td><td>18.0</td><td>0</td></tr><tr><th>22</th><td>22</td><td>18.0</td><td>0</td></tr><tr><th>23</th><td>23</td><td>18.0</td><td>1</td></tr><tr><th>24</th><td>24</td><td>18.0</td><td>0</td></tr><tr><th>25</th><td>25</td><td>18.0</td><td>0</td></tr><tr><th>26</th><td>26</td><td>18.0</td><td>1</td></tr><tr><th>27</th><td>27</td><td>19.0</td><td>0</td></tr><tr><th>28</th><td>28</td><td>19.0</td><td>1</td></tr><tr><th>29</th><td>29</td><td>19.0</td><td>0</td></tr><tr><th>30</th><td>30</td><td>19.0</td><td>1</td></tr><tr><th>&vellip;</th><td>&vellip;</td><td>&vellip;</td><td>&vellip;</td></tr></tbody></table>"
      ],
      "text/latex": [
       "\\begin{tabular}{r|ccc}\n",
       "\t& interviewee ID & Age & Car accident\\\\\n",
       "\t\\hline\n",
       "\t& Int64 & Float64? & Int64\\\\\n",
       "\t\\hline\n",
       "\t1 & 1 & 18.0 & 0 \\\\\n",
       "\t2 & 2 & 18.0 & 0 \\\\\n",
       "\t3 & 3 & 18.0 & 0 \\\\\n",
       "\t4 & 4 & 18.0 & 0 \\\\\n",
       "\t5 & 5 & 18.0 & 1 \\\\\n",
       "\t6 & 6 & 18.0 & 0 \\\\\n",
       "\t7 & 7 & 18.0 & 1 \\\\\n",
       "\t8 & 8 & 18.0 & 0 \\\\\n",
       "\t9 & 9 & 18.0 & 0 \\\\\n",
       "\t10 & 10 & 18.0 & 1 \\\\\n",
       "\t11 & 11 & 18.0 & 0 \\\\\n",
       "\t12 & 12 & 18.0 & 0 \\\\\n",
       "\t13 & 13 & 18.0 & 1 \\\\\n",
       "\t14 & 14 & 18.0 & 1 \\\\\n",
       "\t15 & 15 & 18.0 & 0 \\\\\n",
       "\t16 & 16 & 18.0 & 0 \\\\\n",
       "\t17 & 17 & 18.0 & 1 \\\\\n",
       "\t18 & 18 & 18.0 & 0 \\\\\n",
       "\t19 & 19 & 18.0 & 1 \\\\\n",
       "\t20 & 20 & 18.0 & 0 \\\\\n",
       "\t21 & 21 & 18.0 & 0 \\\\\n",
       "\t22 & 22 & 18.0 & 0 \\\\\n",
       "\t23 & 23 & 18.0 & 1 \\\\\n",
       "\t24 & 24 & 18.0 & 0 \\\\\n",
       "\t25 & 25 & 18.0 & 0 \\\\\n",
       "\t26 & 26 & 18.0 & 1 \\\\\n",
       "\t27 & 27 & 19.0 & 0 \\\\\n",
       "\t28 & 28 & 19.0 & 1 \\\\\n",
       "\t29 & 29 & 19.0 & 0 \\\\\n",
       "\t30 & 30 & 19.0 & 1 \\\\\n",
       "\t$\\dots$ & $\\dots$ & $\\dots$ & $\\dots$ \\\\\n",
       "\\end{tabular}\n"
      ],
      "text/plain": [
       "\u001b[1m764×3 DataFrame\u001b[0m\n",
       "\u001b[1m Row \u001b[0m│\u001b[1m interviewee ID \u001b[0m\u001b[1m Age       \u001b[0m\u001b[1m Car accident \u001b[0m\n",
       "\u001b[1m     \u001b[0m│\u001b[90m Int64          \u001b[0m\u001b[90m Float64?  \u001b[0m\u001b[90m Int64        \u001b[0m\n",
       "─────┼─────────────────────────────────────────\n",
       "   1 │              1       18.0             0\n",
       "   2 │              2       18.0             0\n",
       "   3 │              3       18.0             0\n",
       "   4 │              4       18.0             0\n",
       "   5 │              5       18.0             1\n",
       "   6 │              6       18.0             0\n",
       "   7 │              7       18.0             1\n",
       "   8 │              8       18.0             0\n",
       "   9 │              9       18.0             0\n",
       "  10 │             10       18.0             1\n",
       "  11 │             11       18.0             0\n",
       "  ⋮  │       ⋮             ⋮           ⋮\n",
       " 755 │            755 \u001b[90m missing   \u001b[0m            0\n",
       " 756 │            756 \u001b[90m missing   \u001b[0m            0\n",
       " 757 │            757 \u001b[90m missing   \u001b[0m            1\n",
       " 758 │            758 \u001b[90m missing   \u001b[0m            0\n",
       " 759 │            759 \u001b[90m missing   \u001b[0m            1\n",
       " 760 │            760 \u001b[90m missing   \u001b[0m            0\n",
       " 761 │            761 \u001b[90m missing   \u001b[0m            0\n",
       " 762 │            762 \u001b[90m missing   \u001b[0m            0\n",
       " 763 │            763 \u001b[90m missing   \u001b[0m            0\n",
       " 764 │            764 \u001b[90m missing   \u001b[0m            0\n",
       "\u001b[36m                               743 rows omitted\u001b[0m"
      ]
     },
     "execution_count": 149,
     "metadata": {},
     "output_type": "execute_result"
    }
   ],
   "source": [
    "select!(df, Not([:Sex, :Region]))"
   ]
  },
  {
   "cell_type": "markdown",
   "metadata": {},
   "source": [
    "Q3.1"
   ]
  },
  {
   "cell_type": "code",
   "execution_count": 150,
   "metadata": {},
   "outputs": [
    {
     "data": {
      "text/html": [
       "<table class=\"data-frame\"><thead><tr><th></th><th>interviewee ID</th><th>Age</th><th>Car accident</th></tr><tr><th></th><th>Int64</th><th>Float64?</th><th>Int64</th></tr></thead><tbody><p>649 rows × 3 columns</p><tr><th>1</th><td>188</td><td>25.0</td><td>0</td></tr><tr><th>2</th><td>609</td><td><em>missing</em></td><td>0</td></tr><tr><th>3</th><td>64</td><td>20.0</td><td>1</td></tr><tr><th>4</th><td>695</td><td><em>missing</em></td><td>0</td></tr><tr><th>5</th><td>203</td><td>26.0</td><td>0</td></tr><tr><th>6</th><td>34</td><td>19.0</td><td>1</td></tr><tr><th>7</th><td>11</td><td>18.0</td><td>0</td></tr><tr><th>8</th><td>446</td><td>40.0</td><td>1</td></tr><tr><th>9</th><td>677</td><td><em>missing</em></td><td>0</td></tr><tr><th>10</th><td>463</td><td>42.0</td><td>0</td></tr><tr><th>11</th><td>107</td><td>22.0</td><td>1</td></tr><tr><th>12</th><td>732</td><td><em>missing</em></td><td>1</td></tr><tr><th>13</th><td>306</td><td>31.0</td><td>0</td></tr><tr><th>14</th><td>651</td><td><em>missing</em></td><td>0</td></tr><tr><th>15</th><td>86</td><td>21.0</td><td>0</td></tr><tr><th>16</th><td>552</td><td>54.0</td><td>0</td></tr><tr><th>17</th><td>290</td><td>30.0</td><td>1</td></tr><tr><th>18</th><td>279</td><td>30.0</td><td>1</td></tr><tr><th>19</th><td>140</td><td>24.0</td><td>0</td></tr><tr><th>20</th><td>258</td><td>29.0</td><td>0</td></tr><tr><th>21</th><td>316</td><td>32.0</td><td>0</td></tr><tr><th>22</th><td>198</td><td>26.0</td><td>0</td></tr><tr><th>23</th><td>200</td><td>26.0</td><td>0</td></tr><tr><th>24</th><td>110</td><td>22.0</td><td>0</td></tr><tr><th>25</th><td>136</td><td>24.0</td><td>0</td></tr><tr><th>26</th><td>511</td><td>47.0</td><td>1</td></tr><tr><th>27</th><td>87</td><td>21.0</td><td>1</td></tr><tr><th>28</th><td>7</td><td>18.0</td><td>1</td></tr><tr><th>29</th><td>617</td><td><em>missing</em></td><td>0</td></tr><tr><th>30</th><td>223</td><td>27.0</td><td>1</td></tr><tr><th>&vellip;</th><td>&vellip;</td><td>&vellip;</td><td>&vellip;</td></tr></tbody></table>"
      ],
      "text/latex": [
       "\\begin{tabular}{r|ccc}\n",
       "\t& interviewee ID & Age & Car accident\\\\\n",
       "\t\\hline\n",
       "\t& Int64 & Float64? & Int64\\\\\n",
       "\t\\hline\n",
       "\t1 & 188 & 25.0 & 0 \\\\\n",
       "\t2 & 609 & \\emph{missing} & 0 \\\\\n",
       "\t3 & 64 & 20.0 & 1 \\\\\n",
       "\t4 & 695 & \\emph{missing} & 0 \\\\\n",
       "\t5 & 203 & 26.0 & 0 \\\\\n",
       "\t6 & 34 & 19.0 & 1 \\\\\n",
       "\t7 & 11 & 18.0 & 0 \\\\\n",
       "\t8 & 446 & 40.0 & 1 \\\\\n",
       "\t9 & 677 & \\emph{missing} & 0 \\\\\n",
       "\t10 & 463 & 42.0 & 0 \\\\\n",
       "\t11 & 107 & 22.0 & 1 \\\\\n",
       "\t12 & 732 & \\emph{missing} & 1 \\\\\n",
       "\t13 & 306 & 31.0 & 0 \\\\\n",
       "\t14 & 651 & \\emph{missing} & 0 \\\\\n",
       "\t15 & 86 & 21.0 & 0 \\\\\n",
       "\t16 & 552 & 54.0 & 0 \\\\\n",
       "\t17 & 290 & 30.0 & 1 \\\\\n",
       "\t18 & 279 & 30.0 & 1 \\\\\n",
       "\t19 & 140 & 24.0 & 0 \\\\\n",
       "\t20 & 258 & 29.0 & 0 \\\\\n",
       "\t21 & 316 & 32.0 & 0 \\\\\n",
       "\t22 & 198 & 26.0 & 0 \\\\\n",
       "\t23 & 200 & 26.0 & 0 \\\\\n",
       "\t24 & 110 & 22.0 & 0 \\\\\n",
       "\t25 & 136 & 24.0 & 0 \\\\\n",
       "\t26 & 511 & 47.0 & 1 \\\\\n",
       "\t27 & 87 & 21.0 & 1 \\\\\n",
       "\t28 & 7 & 18.0 & 1 \\\\\n",
       "\t29 & 617 & \\emph{missing} & 0 \\\\\n",
       "\t30 & 223 & 27.0 & 1 \\\\\n",
       "\t$\\dots$ & $\\dots$ & $\\dots$ & $\\dots$ \\\\\n",
       "\\end{tabular}\n"
      ],
      "text/plain": [
       "\u001b[1m649×3 DataFrame\u001b[0m\n",
       "\u001b[1m Row \u001b[0m│\u001b[1m interviewee ID \u001b[0m\u001b[1m Age       \u001b[0m\u001b[1m Car accident \u001b[0m\n",
       "\u001b[1m     \u001b[0m│\u001b[90m Int64          \u001b[0m\u001b[90m Float64?  \u001b[0m\u001b[90m Int64        \u001b[0m\n",
       "─────┼─────────────────────────────────────────\n",
       "   1 │            188       25.0             0\n",
       "   2 │            609 \u001b[90m missing   \u001b[0m            0\n",
       "   3 │             64       20.0             1\n",
       "   4 │            695 \u001b[90m missing   \u001b[0m            0\n",
       "   5 │            203       26.0             0\n",
       "   6 │             34       19.0             1\n",
       "   7 │             11       18.0             0\n",
       "   8 │            446       40.0             1\n",
       "   9 │            677 \u001b[90m missing   \u001b[0m            0\n",
       "  10 │            463       42.0             0\n",
       "  11 │            107       22.0             1\n",
       "  ⋮  │       ⋮             ⋮           ⋮\n",
       " 640 │            166       25.0             0\n",
       " 641 │            702 \u001b[90m missing   \u001b[0m            0\n",
       " 642 │            596 \u001b[90m missing   \u001b[0m            1\n",
       " 643 │            145       24.0             0\n",
       " 644 │            716 \u001b[90m missing   \u001b[0m            0\n",
       " 645 │             94       22.0             0\n",
       " 646 │            382       35.0             1\n",
       " 647 │            598 \u001b[90m missing   \u001b[0m            0\n",
       " 648 │            467       42.0             1\n",
       " 649 │             77       21.0             1\n",
       "\u001b[36m                               628 rows omitted\u001b[0m"
      ]
     },
     "execution_count": 150,
     "metadata": {},
     "output_type": "execute_result"
    }
   ],
   "source": [
    "sample_rows = sample(1:nrow(df), floor(Int, 85*764/100), replace = false)\n",
    "train_set = df[sample_rows, :]"
   ]
  },
  {
   "cell_type": "code",
   "execution_count": 151,
   "metadata": {},
   "outputs": [
    {
     "data": {
      "text/html": [
       "<table class=\"data-frame\"><thead><tr><th></th><th>interviewee ID</th><th>Age</th><th>Car accident</th></tr><tr><th></th><th>Int64</th><th>Float64?</th><th>Int64</th></tr></thead><tbody><p>115 rows × 3 columns</p><tr><th>1</th><td>2</td><td>18.0</td><td>0</td></tr><tr><th>2</th><td>16</td><td>18.0</td><td>0</td></tr><tr><th>3</th><td>28</td><td>19.0</td><td>1</td></tr><tr><th>4</th><td>36</td><td>19.0</td><td>0</td></tr><tr><th>5</th><td>44</td><td>19.0</td><td>0</td></tr><tr><th>6</th><td>49</td><td>19.0</td><td>0</td></tr><tr><th>7</th><td>56</td><td>20.0</td><td>0</td></tr><tr><th>8</th><td>68</td><td>21.0</td><td>0</td></tr><tr><th>9</th><td>69</td><td>21.0</td><td>0</td></tr><tr><th>10</th><td>78</td><td>21.0</td><td>0</td></tr><tr><th>11</th><td>82</td><td>21.0</td><td>0</td></tr><tr><th>12</th><td>132</td><td>23.0</td><td>0</td></tr><tr><th>13</th><td>133</td><td>23.0</td><td>0</td></tr><tr><th>14</th><td>138</td><td>24.0</td><td>0</td></tr><tr><th>15</th><td>139</td><td>24.0</td><td>1</td></tr><tr><th>16</th><td>141</td><td>24.0</td><td>0</td></tr><tr><th>17</th><td>146</td><td>24.0</td><td>1</td></tr><tr><th>18</th><td>149</td><td>24.0</td><td>1</td></tr><tr><th>19</th><td>160</td><td>24.0</td><td>1</td></tr><tr><th>20</th><td>171</td><td>25.0</td><td>0</td></tr><tr><th>21</th><td>173</td><td>25.0</td><td>1</td></tr><tr><th>22</th><td>177</td><td>25.0</td><td>1</td></tr><tr><th>23</th><td>184</td><td>25.0</td><td>0</td></tr><tr><th>24</th><td>190</td><td>26.0</td><td>0</td></tr><tr><th>25</th><td>193</td><td>26.0</td><td>0</td></tr><tr><th>26</th><td>196</td><td>26.0</td><td>0</td></tr><tr><th>27</th><td>197</td><td>26.0</td><td>1</td></tr><tr><th>28</th><td>217</td><td>27.0</td><td>1</td></tr><tr><th>29</th><td>222</td><td>27.0</td><td>1</td></tr><tr><th>30</th><td>233</td><td>28.0</td><td>0</td></tr><tr><th>&vellip;</th><td>&vellip;</td><td>&vellip;</td><td>&vellip;</td></tr></tbody></table>"
      ],
      "text/latex": [
       "\\begin{tabular}{r|ccc}\n",
       "\t& interviewee ID & Age & Car accident\\\\\n",
       "\t\\hline\n",
       "\t& Int64 & Float64? & Int64\\\\\n",
       "\t\\hline\n",
       "\t1 & 2 & 18.0 & 0 \\\\\n",
       "\t2 & 16 & 18.0 & 0 \\\\\n",
       "\t3 & 28 & 19.0 & 1 \\\\\n",
       "\t4 & 36 & 19.0 & 0 \\\\\n",
       "\t5 & 44 & 19.0 & 0 \\\\\n",
       "\t6 & 49 & 19.0 & 0 \\\\\n",
       "\t7 & 56 & 20.0 & 0 \\\\\n",
       "\t8 & 68 & 21.0 & 0 \\\\\n",
       "\t9 & 69 & 21.0 & 0 \\\\\n",
       "\t10 & 78 & 21.0 & 0 \\\\\n",
       "\t11 & 82 & 21.0 & 0 \\\\\n",
       "\t12 & 132 & 23.0 & 0 \\\\\n",
       "\t13 & 133 & 23.0 & 0 \\\\\n",
       "\t14 & 138 & 24.0 & 0 \\\\\n",
       "\t15 & 139 & 24.0 & 1 \\\\\n",
       "\t16 & 141 & 24.0 & 0 \\\\\n",
       "\t17 & 146 & 24.0 & 1 \\\\\n",
       "\t18 & 149 & 24.0 & 1 \\\\\n",
       "\t19 & 160 & 24.0 & 1 \\\\\n",
       "\t20 & 171 & 25.0 & 0 \\\\\n",
       "\t21 & 173 & 25.0 & 1 \\\\\n",
       "\t22 & 177 & 25.0 & 1 \\\\\n",
       "\t23 & 184 & 25.0 & 0 \\\\\n",
       "\t24 & 190 & 26.0 & 0 \\\\\n",
       "\t25 & 193 & 26.0 & 0 \\\\\n",
       "\t26 & 196 & 26.0 & 0 \\\\\n",
       "\t27 & 197 & 26.0 & 1 \\\\\n",
       "\t28 & 217 & 27.0 & 1 \\\\\n",
       "\t29 & 222 & 27.0 & 1 \\\\\n",
       "\t30 & 233 & 28.0 & 0 \\\\\n",
       "\t$\\dots$ & $\\dots$ & $\\dots$ & $\\dots$ \\\\\n",
       "\\end{tabular}\n"
      ],
      "text/plain": [
       "\u001b[1m115×3 DataFrame\u001b[0m\n",
       "\u001b[1m Row \u001b[0m│\u001b[1m interviewee ID \u001b[0m\u001b[1m Age       \u001b[0m\u001b[1m Car accident \u001b[0m\n",
       "\u001b[1m     \u001b[0m│\u001b[90m Int64          \u001b[0m\u001b[90m Float64?  \u001b[0m\u001b[90m Int64        \u001b[0m\n",
       "─────┼─────────────────────────────────────────\n",
       "   1 │              2       18.0             0\n",
       "   2 │             16       18.0             0\n",
       "   3 │             28       19.0             1\n",
       "   4 │             36       19.0             0\n",
       "   5 │             44       19.0             0\n",
       "   6 │             49       19.0             0\n",
       "   7 │             56       20.0             0\n",
       "   8 │             68       21.0             0\n",
       "   9 │             69       21.0             0\n",
       "  10 │             78       21.0             0\n",
       "  11 │             82       21.0             0\n",
       "  ⋮  │       ⋮             ⋮           ⋮\n",
       " 106 │            669 \u001b[90m missing   \u001b[0m            0\n",
       " 107 │            673 \u001b[90m missing   \u001b[0m            0\n",
       " 108 │            693 \u001b[90m missing   \u001b[0m            0\n",
       " 109 │            696 \u001b[90m missing   \u001b[0m            0\n",
       " 110 │            700 \u001b[90m missing   \u001b[0m            1\n",
       " 111 │            721 \u001b[90m missing   \u001b[0m            0\n",
       " 112 │            738 \u001b[90m missing   \u001b[0m            0\n",
       " 113 │            741 \u001b[90m missing   \u001b[0m            0\n",
       " 114 │            745 \u001b[90m missing   \u001b[0m            0\n",
       " 115 │            755 \u001b[90m missing   \u001b[0m            0\n",
       "\u001b[36m                                94 rows omitted\u001b[0m"
      ]
     },
     "execution_count": 151,
     "metadata": {},
     "output_type": "execute_result"
    }
   ],
   "source": [
    "test_rows = setdiff(1:nrow(df), sample_rows)\n",
    "test_set = df[test_rows, :]"
   ]
  },
  {
   "cell_type": "markdown",
   "metadata": {},
   "source": [
    "Q3.2"
   ]
  },
  {
   "cell_type": "code",
   "execution_count": 108,
   "metadata": {},
   "outputs": [
    {
     "data": {
      "text/plain": [
       "Missing"
      ]
     },
     "execution_count": 108,
     "metadata": {},
     "output_type": "execute_result"
    }
   ],
   "source": [
    "typeof(missing)"
   ]
  },
  {
   "cell_type": "code",
   "execution_count": 109,
   "metadata": {},
   "outputs": [
    {
     "data": {
      "text/plain": [
       "177-element Vector{Int64}:\n",
       " 588\n",
       " 589\n",
       " 590\n",
       " 591\n",
       " 592\n",
       " 593\n",
       " 594\n",
       " 595\n",
       " 596\n",
       " 597\n",
       " 598\n",
       " 599\n",
       " 600\n",
       "   ⋮\n",
       " 753\n",
       " 754\n",
       " 755\n",
       " 756\n",
       " 757\n",
       " 758\n",
       " 759\n",
       " 760\n",
       " 761\n",
       " 762\n",
       " 763\n",
       " 764"
      ]
     },
     "execution_count": 109,
     "metadata": {},
     "output_type": "execute_result"
    }
   ],
   "source": [
    "findall(x->typeof(x)==Missing, df.Age)"
   ]
  },
  {
   "cell_type": "code",
   "execution_count": 127,
   "metadata": {},
   "outputs": [
    {
     "data": {
      "text/plain": [
       "32.75127768313458"
      ]
     },
     "execution_count": 127,
     "metadata": {},
     "output_type": "execute_result"
    }
   ],
   "source": [
    "avg = mean(df.Age[1:587])"
   ]
  },
  {
   "cell_type": "code",
   "execution_count": 132,
   "metadata": {},
   "outputs": [
    {
     "data": {
      "text/plain": [
       "764-element SentinelArrays.SentinelVector{Float64, Float64, Missing, Vector{Float64}}:\n",
       " 18.0\n",
       " 18.0\n",
       " 18.0\n",
       " 18.0\n",
       " 18.0\n",
       " 18.0\n",
       " 18.0\n",
       " 18.0\n",
       " 18.0\n",
       " 18.0\n",
       " 18.0\n",
       " 18.0\n",
       " 18.0\n",
       "  ⋮\n",
       " 32.75127768313458\n",
       " 32.75127768313458\n",
       " 32.75127768313458\n",
       " 32.75127768313458\n",
       " 32.75127768313458\n",
       " 32.75127768313458\n",
       " 32.75127768313458\n",
       " 32.75127768313458\n",
       " 32.75127768313458\n",
       " 32.75127768313458\n",
       " 32.75127768313458\n",
       " 32.75127768313458"
      ]
     },
     "execution_count": 132,
     "metadata": {},
     "output_type": "execute_result"
    }
   ],
   "source": [
    "replace!(df.Age,missing => avg)"
   ]
  },
  {
   "cell_type": "code",
   "execution_count": 134,
   "metadata": {},
   "outputs": [
    {
     "data": {
      "text/plain": [
       "5-element Vector{String}:\n",
       " \"interviewee ID\"\n",
       " \"Region\"\n",
       " \"Sex\"\n",
       " \"Age\"\n",
       " \"Car accident\""
      ]
     },
     "execution_count": 134,
     "metadata": {},
     "output_type": "execute_result"
    }
   ],
   "source": [
    "names(df)"
   ]
  },
  {
   "cell_type": "code",
   "execution_count": 152,
   "metadata": {},
   "outputs": [
    {
     "ename": "LoadError",
     "evalue": "syntax: missing comma or ) in argument list",
     "output_type": "error",
     "traceback": [
      "syntax: missing comma or ) in argument list",
      "",
      "Stacktrace:",
      " [1] top-level scope",
      "   @ In[152]:1",
      " [2] eval",
      "   @ .\\boot.jl:373 [inlined]",
      " [3] include_string(mapexpr::typeof(REPL.softscope), mod::Module, code::String, filename::String)",
      "   @ Base .\\loading.jl:1196"
     ]
    }
   ],
   "source": [
    "fm = @formula(Car accident ~ interviewee ID + Age)\n",
    "logit = glm(fm, train_set, Binomial(), ProbitLink())"
   ]
  },
  {
   "cell_type": "code",
   "execution_count": 153,
   "metadata": {},
   "outputs": [
    {
     "ename": "LoadError",
     "evalue": "UndefVarError: logit not defined",
     "output_type": "error",
     "traceback": [
      "UndefVarError: logit not defined",
      "",
      "Stacktrace:",
      " [1] top-level scope",
      "   @ In[153]:1",
      " [2] eval",
      "   @ .\\boot.jl:373 [inlined]",
      " [3] include_string(mapexpr::typeof(REPL.softscope), mod::Module, code::String, filename::String)",
      "   @ Base .\\loading.jl:1196"
     ]
    }
   ],
   "source": [
    "prediction = predict(logit,test_set)"
   ]
  },
  {
   "cell_type": "markdown",
   "metadata": {},
   "source": [
    "Q4"
   ]
  },
  {
   "cell_type": "markdown",
   "metadata": {},
   "source": [
    "If α is too large, gradiant decent will overshoot the minumum and it may diverge."
   ]
  },
  {
   "cell_type": "markdown",
   "metadata": {},
   "source": [
    "Q5"
   ]
  },
  {
   "cell_type": "markdown",
   "metadata": {},
   "source": [
    " the iteration needed for the conjugate gradient algorithm to find the solution is the same as the dimension of matrix M. That’s why we don’t need to safeguard our algorithm from infinite loop. In fact, if M has only r distinct eigenvalues, then the Conjugate Gradient iteration will terminate at the solution in at most r iterations."
   ]
  }
 ],
 "metadata": {
  "kernelspec": {
   "display_name": "Julia 1.7.2",
   "language": "julia",
   "name": "julia-1.7"
  },
  "language_info": {
   "file_extension": ".jl",
   "mimetype": "application/julia",
   "name": "julia",
   "version": "1.7.2"
  },
  "orig_nbformat": 4
 },
 "nbformat": 4,
 "nbformat_minor": 2
}
